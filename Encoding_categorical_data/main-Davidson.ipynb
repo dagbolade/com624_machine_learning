{
 "cells": [
  {
   "cell_type": "code",
   "execution_count": 19,
   "metadata": {
    "collapsed": true
   },
   "outputs": [
    {
     "name": "stdout",
     "output_type": "stream",
     "text": [
      "   Rec-No Temperature   Color  Target\n",
      "0       0         Hot     Red       1\n",
      "1       1        Cold  Yellow       1\n",
      "2       2    Very hot    Blue       1\n",
      "3       3        Warm    Blue       0\n",
      "4       4         Hot     Red       1\n",
      "5       5         Hot     Red       1\n",
      "6       6        Warm     Red       1\n",
      "7       7         Hot  Yellow       0\n",
      "8       8         Hot  Yellow       1\n",
      "9       9        Cold  Yellow       1\n",
      "The extracted independent data\n",
      "(10, 3)\n",
      "   Rec-No Temperature   Color\n",
      "5       5         Hot     Red\n",
      "6       6        Warm     Red\n",
      "7       7         Hot  Yellow\n",
      "8       8         Hot  Yellow\n",
      "9       9        Cold  Yellow\n",
      "------ the last 5 rows of extracted independent data --------\n",
      "\n",
      "The extracted dependent data\n",
      "(10, 1)\n",
      "   Target\n",
      "5       1\n",
      "6       1\n",
      "7       0\n",
      "8       1\n",
      "9       1\n",
      "------The last 5 rows of the extracted dependent variable------\n",
      " \n"
     ]
    },
    {
     "data": {
      "text/plain": "   Rec-No Temperature   Color  Target  encode_temp_label\n0       0         Hot     Red       1                  1\n1       1        Cold  Yellow       1                  0\n2       2    Very hot    Blue       1                  2\n3       3        Warm    Blue       0                  3\n4       4         Hot     Red       1                  1",
      "text/html": "<div>\n<style scoped>\n    .dataframe tbody tr th:only-of-type {\n        vertical-align: middle;\n    }\n\n    .dataframe tbody tr th {\n        vertical-align: top;\n    }\n\n    .dataframe thead th {\n        text-align: right;\n    }\n</style>\n<table border=\"1\" class=\"dataframe\">\n  <thead>\n    <tr style=\"text-align: right;\">\n      <th></th>\n      <th>Rec-No</th>\n      <th>Temperature</th>\n      <th>Color</th>\n      <th>Target</th>\n      <th>encode_temp_label</th>\n    </tr>\n  </thead>\n  <tbody>\n    <tr>\n      <th>0</th>\n      <td>0</td>\n      <td>Hot</td>\n      <td>Red</td>\n      <td>1</td>\n      <td>1</td>\n    </tr>\n    <tr>\n      <th>1</th>\n      <td>1</td>\n      <td>Cold</td>\n      <td>Yellow</td>\n      <td>1</td>\n      <td>0</td>\n    </tr>\n    <tr>\n      <th>2</th>\n      <td>2</td>\n      <td>Very hot</td>\n      <td>Blue</td>\n      <td>1</td>\n      <td>2</td>\n    </tr>\n    <tr>\n      <th>3</th>\n      <td>3</td>\n      <td>Warm</td>\n      <td>Blue</td>\n      <td>0</td>\n      <td>3</td>\n    </tr>\n    <tr>\n      <th>4</th>\n      <td>4</td>\n      <td>Hot</td>\n      <td>Red</td>\n      <td>1</td>\n      <td>1</td>\n    </tr>\n  </tbody>\n</table>\n</div>"
     },
     "execution_count": 19,
     "metadata": {},
     "output_type": "execute_result"
    }
   ],
   "source": [
    "#Label Encoding\n",
    "import numpy as np\n",
    "from pandas import read_csv\n",
    "from sklearn import preprocessing\n",
    "\n",
    "#header names = ['Rec-No', 'Temperature', 'Colour', 'Target']\n",
    "my_data = read_csv(\"venv/temperature.csv\", sep=',\\s*', skipinitialspace=False, engine='python')\n",
    "print(my_data)\n",
    "\n",
    "#better still use pandas to get the first 3 columns as independent data\n",
    "print('The extracted independent data')\n",
    "indep_variables = my_data[my_data.columns[0:3]]\n",
    "print(indep_variables.shape)\n",
    "print(indep_variables.tail(5))\n",
    "print('------ the last 5 rows of extracted independent data --------\\n')\n",
    "\n",
    "#better still use pandas to get the last columns (target) as the dependent data\n",
    "print(\"The extracted dependent data\")\n",
    "dep_variable = my_data[my_data.columns[3:4]]\n",
    "print(dep_variable.shape)\n",
    "print(dep_variable.tail(5))\n",
    "print(\"------The last 5 rows of the extracted dependent variable------\\n \")\n",
    "\n",
    "encoder = preprocessing.LabelEncoder()\n",
    "#target_encoded = encoder.fit_transform(my_data.Temperature\n",
    "my_data['encode_temp_label'] = encoder.fit_transform(my_data.Temperature)\n",
    "my_data.head(5)"
   ]
  },
  {
   "cell_type": "markdown",
   "source": [
    "    ENCODING THE IRIS DATASET USING THE LABEL ENCODER"
   ],
   "metadata": {
    "collapsed": false
   }
  },
  {
   "cell_type": "code",
   "execution_count": 20,
   "outputs": [
    {
     "name": "stdout",
     "output_type": "stream",
     "text": [
      "     sepal_length  sepal_width  petal_length iris_class\n",
      "5.1           3.5          1.4           0.2     setosa\n",
      "4.9           3.0          1.4           0.2     setosa\n",
      "4.7           3.2          1.3           0.2     setosa\n",
      "4.6           3.1          1.5           0.2     setosa\n",
      "5.0           3.6          1.4           0.2     setosa\n",
      "..            ...          ...           ...        ...\n",
      "6.7           3.0          5.2           2.3  virginica\n",
      "6.3           2.5          5.0           1.9  virginica\n",
      "6.5           3.0          5.2           2.0  virginica\n",
      "6.2           3.4          5.4           2.3  virginica\n",
      "5.9           3.0          5.1           1.8  virginica\n",
      "\n",
      "[150 rows x 4 columns]\n",
      "     sepal_length  sepal_width  petal_length iris_class  encode_class_label\n",
      "5.1           3.5          1.4           0.2     setosa                   0\n",
      "4.9           3.0          1.4           0.2     setosa                   0\n",
      "4.7           3.2          1.3           0.2     setosa                   0\n",
      "     sepal_length  sepal_width  petal_length iris_class  encode_class_label\n",
      "6.7           3.0          5.2           2.3  virginica                   2\n",
      "6.3           2.5          5.0           1.9  virginica                   2\n",
      "6.5           3.0          5.2           2.0  virginica                   2\n",
      "6.2           3.4          5.4           2.3  virginica                   2\n",
      "5.9           3.0          5.1           1.8  virginica                   2\n"
     ]
    }
   ],
   "source": [
    "#Label Encoding\n",
    "import numpy as np\n",
    "from pandas import read_csv\n",
    "from sklearn import preprocessing\n",
    "\n",
    "header_names = ['sepal_length','sepal_width', 'petal_length', 'iris_class']\n",
    "my_data = read_csv(\"venv/iris_data (1).csv\", sep=',\\s*', skipinitialspace=False, engine='python', names=header_names)\n",
    "print(my_data)\n",
    "\n",
    "\n",
    "encoder = preprocessing.LabelEncoder()\n",
    "#target_encoded = encoder.fit_transform(my_data.Temperature\n",
    "my_data['encode_class_label'] = encoder.fit_transform(my_data.iris_class)\n",
    "print(my_data.head(3))\n",
    "print(my_data.tail(5))"
   ],
   "metadata": {
    "collapsed": false
   }
  },
  {
   "cell_type": "markdown",
   "source": [
    "    ORDINAL ENCODING"
   ],
   "metadata": {
    "collapsed": false
   }
  },
  {
   "cell_type": "code",
   "execution_count": 21,
   "outputs": [
    {
     "name": "stdout",
     "output_type": "stream",
     "text": [
      "   Rec-No Temperature   Color  Target\n",
      "0       0         Hot     Red       1\n",
      "1       1        Cold  Yellow       1\n",
      "2       2    Very hot    Blue       1\n",
      "3       3        Warm    Blue       0\n",
      "4       4         Hot     Red       1\n",
      "5       5         Hot     Red       1\n",
      "6       6        Warm     Red       1\n",
      "7       7         Hot  Yellow       0\n",
      "8       8         Hot  Yellow       1\n",
      "9       9        Cold  Yellow       1\n"
     ]
    },
    {
     "data": {
      "text/plain": "   Rec-No Temperature   Color  Target  ordinal_encoded\n0       0         Hot     Red       1                3\n1       1        Cold  Yellow       1                1\n2       2    Very hot    Blue       1                4\n3       3        Warm    Blue       0                2\n4       4         Hot     Red       1                3",
      "text/html": "<div>\n<style scoped>\n    .dataframe tbody tr th:only-of-type {\n        vertical-align: middle;\n    }\n\n    .dataframe tbody tr th {\n        vertical-align: top;\n    }\n\n    .dataframe thead th {\n        text-align: right;\n    }\n</style>\n<table border=\"1\" class=\"dataframe\">\n  <thead>\n    <tr style=\"text-align: right;\">\n      <th></th>\n      <th>Rec-No</th>\n      <th>Temperature</th>\n      <th>Color</th>\n      <th>Target</th>\n      <th>ordinal_encoded</th>\n    </tr>\n  </thead>\n  <tbody>\n    <tr>\n      <th>0</th>\n      <td>0</td>\n      <td>Hot</td>\n      <td>Red</td>\n      <td>1</td>\n      <td>3</td>\n    </tr>\n    <tr>\n      <th>1</th>\n      <td>1</td>\n      <td>Cold</td>\n      <td>Yellow</td>\n      <td>1</td>\n      <td>1</td>\n    </tr>\n    <tr>\n      <th>2</th>\n      <td>2</td>\n      <td>Very hot</td>\n      <td>Blue</td>\n      <td>1</td>\n      <td>4</td>\n    </tr>\n    <tr>\n      <th>3</th>\n      <td>3</td>\n      <td>Warm</td>\n      <td>Blue</td>\n      <td>0</td>\n      <td>2</td>\n    </tr>\n    <tr>\n      <th>4</th>\n      <td>4</td>\n      <td>Hot</td>\n      <td>Red</td>\n      <td>1</td>\n      <td>3</td>\n    </tr>\n  </tbody>\n</table>\n</div>"
     },
     "execution_count": 21,
     "metadata": {},
     "output_type": "execute_result"
    }
   ],
   "source": [
    "#Ordinal Encoding\n",
    "import numpy as np\n",
    "from pandas import read_csv\n",
    "from sklearn import preprocessing\n",
    "\n",
    "#header names = ['Rec-No', 'Temperature', 'Colour', 'Target']\n",
    "my_data = read_csv(\"venv/temperature.csv\", sep=',\\s*', skipinitialspace=False, engine='python')\n",
    "print(my_data)\n",
    "\n",
    "#order declaration/ order dictionary\n",
    "Temp_declaration = {\"Cold\":1, \"Warm\":2,\"Hot\":3, \"Very hot\": 4}\n",
    "my_data['ordinal_encoded'] = my_data.Temperature.map(Temp_declaration)\n",
    "my_data.head(5)"
   ],
   "metadata": {
    "collapsed": false
   }
  },
  {
   "cell_type": "markdown",
   "source": [
    "    ONEHOT ENOCDING WITH TEMPERATURE DATASET"
   ],
   "metadata": {
    "collapsed": false
   }
  },
  {
   "cell_type": "code",
   "execution_count": 22,
   "outputs": [
    {
     "name": "stdout",
     "output_type": "stream",
     "text": [
      "   Rec-No Temperature   Color  Target\n",
      "0       0         Hot     Red       1\n",
      "1       1        Cold  Yellow       1\n",
      "2       2    Very hot    Blue       1\n",
      "3       3        Warm    Blue       0\n",
      "4       4         Hot     Red       1\n",
      "5       5         Hot     Red       1\n",
      "6       6        Warm     Red       1\n",
      "7       7         Hot  Yellow       0\n",
      "8       8         Hot  Yellow       1\n",
      "9       9        Cold  Yellow       1\n"
     ]
    },
    {
     "data": {
      "text/plain": "   Rec-No   Color  Target  temp_Cold  temp_Hot  temp_Very hot  temp_Warm\n0       0     Red       1          0         1              0          0\n1       1  Yellow       1          1         0              0          0\n2       2    Blue       1          0         0              1          0\n3       3    Blue       0          0         0              0          1\n4       4     Red       1          0         1              0          0",
      "text/html": "<div>\n<style scoped>\n    .dataframe tbody tr th:only-of-type {\n        vertical-align: middle;\n    }\n\n    .dataframe tbody tr th {\n        vertical-align: top;\n    }\n\n    .dataframe thead th {\n        text-align: right;\n    }\n</style>\n<table border=\"1\" class=\"dataframe\">\n  <thead>\n    <tr style=\"text-align: right;\">\n      <th></th>\n      <th>Rec-No</th>\n      <th>Color</th>\n      <th>Target</th>\n      <th>temp_Cold</th>\n      <th>temp_Hot</th>\n      <th>temp_Very hot</th>\n      <th>temp_Warm</th>\n    </tr>\n  </thead>\n  <tbody>\n    <tr>\n      <th>0</th>\n      <td>0</td>\n      <td>Red</td>\n      <td>1</td>\n      <td>0</td>\n      <td>1</td>\n      <td>0</td>\n      <td>0</td>\n    </tr>\n    <tr>\n      <th>1</th>\n      <td>1</td>\n      <td>Yellow</td>\n      <td>1</td>\n      <td>1</td>\n      <td>0</td>\n      <td>0</td>\n      <td>0</td>\n    </tr>\n    <tr>\n      <th>2</th>\n      <td>2</td>\n      <td>Blue</td>\n      <td>1</td>\n      <td>0</td>\n      <td>0</td>\n      <td>1</td>\n      <td>0</td>\n    </tr>\n    <tr>\n      <th>3</th>\n      <td>3</td>\n      <td>Blue</td>\n      <td>0</td>\n      <td>0</td>\n      <td>0</td>\n      <td>0</td>\n      <td>1</td>\n    </tr>\n    <tr>\n      <th>4</th>\n      <td>4</td>\n      <td>Red</td>\n      <td>1</td>\n      <td>0</td>\n      <td>1</td>\n      <td>0</td>\n      <td>0</td>\n    </tr>\n  </tbody>\n</table>\n</div>"
     },
     "execution_count": 22,
     "metadata": {},
     "output_type": "execute_result"
    }
   ],
   "source": [
    "#OneHot Encoding\n",
    "import numpy as np\n",
    "import pandas as pd\n",
    "from pandas import read_csv\n",
    "from sklearn.preprocessing import OneHotEncoder\n",
    "from sklearn import preprocessing\n",
    "\n",
    "#header names = ['Rec-No', 'Temperature', 'Colour', 'Target']\n",
    "my_data = read_csv(\"venv/temperature.csv\", sep=',\\s*', skipinitialspace=False, engine='python')\n",
    "print(my_data)\n",
    "\n",
    "# use pd.concat to join the new columns with your original dataframe\n",
    "my_data = pd.concat([my_data, pd.get_dummies(my_data['Temperature'], prefix='temp')], axis=1)\n",
    "\n",
    "#dropping the original temperature column as it is no longer needed\n",
    "my_data.drop(['Temperature'], axis=1, inplace=True)\n",
    "\n",
    "my_data.head(5)"
   ],
   "metadata": {
    "collapsed": false
   }
  },
  {
   "cell_type": "markdown",
   "source": [
    "    ONEHOT ENOCDING WITH IRIS DATASET"
   ],
   "metadata": {
    "collapsed": false
   }
  },
  {
   "cell_type": "code",
   "execution_count": 23,
   "outputs": [
    {
     "name": "stdout",
     "output_type": "stream",
     "text": [
      "     sepal_length  sepal_width  petal_length iris_class\n",
      "5.1           3.5          1.4           0.2     setosa\n",
      "4.9           3.0          1.4           0.2     setosa\n",
      "4.7           3.2          1.3           0.2     setosa\n",
      "4.6           3.1          1.5           0.2     setosa\n",
      "5.0           3.6          1.4           0.2     setosa\n",
      "..            ...          ...           ...        ...\n",
      "6.7           3.0          5.2           2.3  virginica\n",
      "6.3           2.5          5.0           1.9  virginica\n",
      "6.5           3.0          5.2           2.0  virginica\n",
      "6.2           3.4          5.4           2.3  virginica\n",
      "5.9           3.0          5.1           1.8  virginica\n",
      "\n",
      "[150 rows x 4 columns]\n"
     ]
    },
    {
     "data": {
      "text/plain": "     sepal_length  sepal_width  petal_length  iris_setosa  iris_versicolor  \\\n5.1           3.5          1.4           0.2            1                0   \n4.9           3.0          1.4           0.2            1                0   \n4.7           3.2          1.3           0.2            1                0   \n4.6           3.1          1.5           0.2            1                0   \n5.0           3.6          1.4           0.2            1                0   \n\n     iris_virginica  \n5.1               0  \n4.9               0  \n4.7               0  \n4.6               0  \n5.0               0  ",
      "text/html": "<div>\n<style scoped>\n    .dataframe tbody tr th:only-of-type {\n        vertical-align: middle;\n    }\n\n    .dataframe tbody tr th {\n        vertical-align: top;\n    }\n\n    .dataframe thead th {\n        text-align: right;\n    }\n</style>\n<table border=\"1\" class=\"dataframe\">\n  <thead>\n    <tr style=\"text-align: right;\">\n      <th></th>\n      <th>sepal_length</th>\n      <th>sepal_width</th>\n      <th>petal_length</th>\n      <th>iris_setosa</th>\n      <th>iris_versicolor</th>\n      <th>iris_virginica</th>\n    </tr>\n  </thead>\n  <tbody>\n    <tr>\n      <th>5.1</th>\n      <td>3.5</td>\n      <td>1.4</td>\n      <td>0.2</td>\n      <td>1</td>\n      <td>0</td>\n      <td>0</td>\n    </tr>\n    <tr>\n      <th>4.9</th>\n      <td>3.0</td>\n      <td>1.4</td>\n      <td>0.2</td>\n      <td>1</td>\n      <td>0</td>\n      <td>0</td>\n    </tr>\n    <tr>\n      <th>4.7</th>\n      <td>3.2</td>\n      <td>1.3</td>\n      <td>0.2</td>\n      <td>1</td>\n      <td>0</td>\n      <td>0</td>\n    </tr>\n    <tr>\n      <th>4.6</th>\n      <td>3.1</td>\n      <td>1.5</td>\n      <td>0.2</td>\n      <td>1</td>\n      <td>0</td>\n      <td>0</td>\n    </tr>\n    <tr>\n      <th>5.0</th>\n      <td>3.6</td>\n      <td>1.4</td>\n      <td>0.2</td>\n      <td>1</td>\n      <td>0</td>\n      <td>0</td>\n    </tr>\n  </tbody>\n</table>\n</div>"
     },
     "execution_count": 23,
     "metadata": {},
     "output_type": "execute_result"
    }
   ],
   "source": [
    "#OneHot Encoding\n",
    "import numpy as np\n",
    "import pandas as pd\n",
    "from pandas import read_csv\n",
    "from sklearn.preprocessing import OneHotEncoder\n",
    "from sklearn import preprocessing\n",
    "\n",
    "header_names = ['sepal_length','sepal_width', 'petal_length', 'iris_class']\n",
    "my_data = read_csv(\"venv/iris_data (1).csv\", sep=',\\s*', skipinitialspace=False, engine='python', names=header_names)\n",
    "print(my_data)\n",
    "\n",
    "# use pd.concat to join the new columns with your original dataframe\n",
    "my_data = pd.concat([my_data, pd.get_dummies(my_data['iris_class'], prefix='iris')], axis=1)\n",
    "\n",
    "#dropping the original iris classs column as it is no longer needed\n",
    "my_data.drop(['iris_class'], axis=1, inplace=True)\n",
    "\n",
    "my_data.head(5)"
   ],
   "metadata": {
    "collapsed": false
   }
  },
  {
   "cell_type": "code",
   "execution_count": 23,
   "outputs": [],
   "source": [],
   "metadata": {
    "collapsed": false
   }
  }
 ],
 "metadata": {
  "kernelspec": {
   "display_name": "Python 3",
   "language": "python",
   "name": "python3"
  },
  "language_info": {
   "codemirror_mode": {
    "name": "ipython",
    "version": 2
   },
   "file_extension": ".py",
   "mimetype": "text/x-python",
   "name": "python",
   "nbconvert_exporter": "python",
   "pygments_lexer": "ipython2",
   "version": "2.7.6"
  }
 },
 "nbformat": 4,
 "nbformat_minor": 0
}

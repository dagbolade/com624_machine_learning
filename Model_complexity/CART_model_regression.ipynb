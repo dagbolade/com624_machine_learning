{
 "cells": [
  {
   "cell_type": "markdown",
   "source": [
    "Using decision tree technique"
   ],
   "metadata": {
    "collapsed": false
   }
  },
  {
   "cell_type": "code",
   "execution_count": 18,
   "metadata": {
    "collapsed": true
   },
   "outputs": [
    {
     "name": "stdout",
     "output_type": "stream",
     "text": [
      "    mpg  cylinders  displacement horsepower  weight  acceleration  model_year  \\\n",
      "0  18.0          8         307.0        130    3504          12.0          70   \n",
      "1  15.0          8         350.0        165    3693          11.5          70   \n",
      "2  18.0          8         318.0        150    3436          11.0          70   \n",
      "3  16.0          8         304.0        150    3433          12.0          70   \n",
      "4  17.0          8         302.0        140    3449          10.5          70   \n",
      "\n",
      "   origin                   car_name  \n",
      "0       1  chevrolet chevelle malibu  \n",
      "1       1          buick skylark 320  \n",
      "2       1         plymouth satellite  \n",
      "3       1              amc rebel sst  \n",
      "4       1                ford torino  \n",
      "Empty DataFrame\n",
      "Columns: [mpg, cylinders, displacement, horsepower, weight, acceleration, model_year, origin, car_name]\n",
      "Index: []\n",
      "<class 'pandas.core.frame.DataFrame'>\n",
      "RangeIndex: 398 entries, 0 to 397\n",
      "Data columns (total 9 columns):\n",
      " #   Column        Non-Null Count  Dtype  \n",
      "---  ------        --------------  -----  \n",
      " 0   mpg           398 non-null    float64\n",
      " 1   cylinders     398 non-null    int64  \n",
      " 2   displacement  398 non-null    float64\n",
      " 3   horsepower    398 non-null    object \n",
      " 4   weight        398 non-null    int64  \n",
      " 5   acceleration  398 non-null    float64\n",
      " 6   model_year    398 non-null    int64  \n",
      " 7   origin        398 non-null    int64  \n",
      " 8   car_name      398 non-null    object \n",
      "dtypes: float64(3), int64(4), object(2)\n",
      "memory usage: 28.1+ KB\n",
      "\n",
      " None\n",
      "\n",
      " These are the instances with missing values after to conversion to float \n",
      "       mpg  cylinders  displacement  horsepower  weight  acceleration  \\\n",
      "32   25.0          4          98.0         NaN    2046          19.0   \n",
      "126  21.0          6         200.0         NaN    2875          17.0   \n",
      "330  40.9          4          85.0         NaN    1835          17.3   \n",
      "336  23.6          4         140.0         NaN    2905          14.3   \n",
      "354  34.5          4         100.0         NaN    2320          15.8   \n",
      "374  23.0          4         151.0         NaN    3035          20.5   \n",
      "\n",
      "     model_year  origin              car_name  \n",
      "32           71       1            ford pinto  \n",
      "126          74       1         ford maverick  \n",
      "330          80       2  renault lecar deluxe  \n",
      "336          80       1    ford mustang cobra  \n",
      "354          81       2           renault 18i  \n",
      "374          82       1        amc concord dl  \n",
      "\n",
      "  dimension of train data  (278, 7)\n",
      "\n",
      "  dimension of test data  (120, 7)\n",
      "[19.59857143 29.03958333 14.40338983 29.03958333 19.59857143 14.40338983\n",
      " 33.50727273 33.50727273 19.59857143 14.40338983 29.03958333 19.59857143\n",
      " 19.59857143 29.03958333 33.50727273 23.9673913  14.40338983 19.59857143\n",
      " 14.40338983 33.50727273 23.9673913  29.03958333 19.59857143 23.9673913\n",
      " 29.03958333 33.50727273 29.03958333 33.50727273 14.40338983 29.03958333\n",
      " 19.59857143 14.40338983 23.9673913  29.03958333 29.03958333 14.40338983\n",
      " 23.9673913  14.40338983 29.03958333 23.9673913  23.9673913  29.03958333\n",
      " 19.59857143 29.03958333 19.59857143 19.59857143 19.59857143 14.40338983\n",
      " 23.9673913  19.59857143 23.9673913  29.03958333 14.40338983 14.40338983\n",
      " 29.03958333 23.9673913  14.40338983 14.40338983 33.50727273 33.50727273\n",
      " 29.03958333 33.50727273 14.40338983 19.59857143 14.40338983 29.03958333\n",
      " 19.59857143 19.59857143 29.03958333 14.40338983 19.59857143 23.9673913\n",
      " 14.40338983 29.03958333 14.40338983 23.9673913  33.50727273 14.40338983\n",
      " 14.40338983 23.9673913  19.59857143 14.40338983 33.50727273 23.9673913\n",
      " 33.50727273 19.59857143 19.59857143 19.59857143 33.50727273 29.03958333\n",
      " 14.40338983 19.59857143 19.59857143 33.50727273 33.50727273 19.59857143\n",
      " 33.50727273 33.50727273 23.9673913  19.59857143 19.59857143 14.40338983\n",
      " 14.40338983 33.50727273 19.59857143 19.59857143 33.50727273 23.9673913\n",
      " 19.59857143 19.59857143 19.59857143 29.03958333 29.03958333 19.59857143\n",
      " 23.9673913  33.50727273 14.40338983 23.9673913  29.03958333 33.50727273]\n",
      "mae:  2.92\n",
      "mse:  14.64\n",
      "Root mean square error:  3.83\n",
      "R2 score:  0.7496852364984337\n",
      "This is the prediction  [19.59857143] \n",
      "\n"
     ]
    }
   ],
   "source": [
    "import matplotlib.pyplot as plt\n",
    "import numpy as np\n",
    "import pandas as pd\n",
    "from pandas import read_csv\n",
    "from sklearn import preprocessing\n",
    "from sklearn.impute import SimpleImputer\n",
    "from matplotlib import pyplot\n",
    "from pandas.plotting import scatter_matrix\n",
    "from sklearn.model_selection import  train_test_split\n",
    "from sklearn.metrics import accuracy_score, confusion_matrix, classification_report\n",
    "from sklearn.linear_model import LinearRegression\n",
    "from sklearn.metrics import mean_squared_error, r2_score, mean_absolute_error\n",
    "from sklearn.tree import DecisionTreeRegressor\n",
    "\n",
    "#declaring header names\n",
    "autompg_headers = ['mpg', 'cylinders', 'displacement', 'horsepower', 'weight', 'acceleration', 'model_year', 'origin', 'car_name']\n",
    "\n",
    "#read the data using the read_csv class\n",
    "mpg_data = read_csv('venv/auto_mpg_data.csv', names=autompg_headers)\n",
    "\n",
    "print(mpg_data.head(5))\n",
    "\n",
    "#check for any missing data\n",
    "miss_data = mpg_data[mpg_data.isna().any(axis=1)]\n",
    "print(miss_data)\n",
    "\n",
    "#check the data information\n",
    "print('\\n', mpg_data.info())\n",
    "\n",
    "#since the horsepower has an object data type, we convert it to float\n",
    "mpg_data['horsepower'] = pd.to_numeric(mpg_data['horsepower'], errors='coerce')\n",
    "\n",
    "#now lets re check or dataframe for missing values\n",
    "recheck_missing_data = mpg_data[mpg_data.isna().any(axis=1)]\n",
    "print('\\n These are the instances with missing values after to conversion to float \\n', recheck_missing_data )\n",
    "\n",
    "#using the simpleimputer function to replace the missing values\n",
    "imputer = SimpleImputer(strategy='most_frequent') #either replace it with most frequent, median, mean and observe\n",
    "imputer.fit(mpg_data)\n",
    "new_data = imputer.transform(mpg_data)\n",
    "\n",
    "#reassign the new dataframe\n",
    "mpg_data = pd.DataFrame(data=new_data, columns=autompg_headers)\n",
    "\n",
    "#seperate the data into X(train) anf y(test) groups - training and target sets\n",
    "train_headers = ['cylinders', 'displacement', 'horsepower', 'weight', 'acceleration', 'model_year', 'origin', 'car_name']\n",
    "\n",
    "taret_header = ['mpg']\n",
    "\n",
    "X = mpg_data[train_headers]\n",
    "y = mpg_data[taret_header]\n",
    "\n",
    "#get the independent variables\n",
    "X = mpg_data.iloc[:, 1:8].values #drop the car name as due to high cardinality and not being strong predictive\n",
    "\n",
    "#get the mpg\n",
    "#had to remove the .values as i was getting an error \"'numpy.ndarray' object has no attribute 'columns'\" in feature importances\n",
    "y = mpg_data.iloc[:, 0].values\n",
    "\n",
    "#split the data into 70:30 train and test mode\n",
    "X_train, X_test, y_train, y_test = train_test_split(X, y, test_size=0.3, random_state=1)\n",
    "#check the dimension of train and test data\n",
    "print('\\n  dimension of train data ', X_train.shape)\n",
    "print('\\n  dimension of test data ', X_test.shape)\n",
    "\n",
    "#initialise the decision tree model\n",
    "dt_model = DecisionTreeRegressor(max_depth=8, min_samples_leaf=0.13, random_state=1)\n",
    "\n",
    "#fit the regreession model\n",
    "dt_model.fit(X_train, y_train)\n",
    "\n",
    "#predict the model on test data\n",
    "y_pred = dt_model.predict(X_test)\n",
    "print(y_pred)\n",
    "\n",
    "#predict the model on train data\n",
    "y_pred_train = dt_model.predict(X_train)\n",
    "\n",
    "\n",
    "#evaluate the model\n",
    "mae = mean_absolute_error(y_test, y_pred)\n",
    "mse = mean_squared_error(y_test, y_pred)\n",
    "rmse = np.sqrt(mse)\n",
    "r2 = r2_score(y_test, y_pred)\n",
    "\n",
    "#printing the model evaluation values\n",
    "print('mae:  {:.2f}'.format(mae))\n",
    "print('mse:  {:.2f}'.format(mse))\n",
    "print('Root mean square error:  {:.2f}'.format(rmse))\n",
    "print('R2 score: ', r2)\n",
    "\n",
    "#we can check the prediction for specific values\n",
    "pred_my_value = dt_model.predict([[6, 171.0, 97.0, 2984, 14.5, 75, 1]])\n",
    "print(\"This is the prediction \", pred_my_value, '\\n')"
   ]
  },
  {
   "cell_type": "markdown",
   "source": [
    "using another configuration method"
   ],
   "metadata": {
    "collapsed": false
   }
  },
  {
   "cell_type": "code",
   "execution_count": 6,
   "outputs": [
    {
     "name": "stdout",
     "output_type": "stream",
     "text": [
      "[17.22248062 32.28493151 17.22248062 32.28493151 17.22248062 17.22248062\n",
      " 26.08552632 32.28493151 17.22248062 17.22248062 32.28493151 17.22248062\n",
      " 17.22248062 26.08552632 32.28493151 26.08552632 17.22248062 17.22248062\n",
      " 17.22248062 32.28493151 26.08552632 26.08552632 17.22248062 26.08552632\n",
      " 32.28493151 26.08552632 32.28493151 32.28493151 17.22248062 32.28493151\n",
      " 17.22248062 17.22248062 26.08552632 32.28493151 26.08552632 17.22248062\n",
      " 26.08552632 17.22248062 32.28493151 26.08552632 26.08552632 26.08552632\n",
      " 17.22248062 32.28493151 17.22248062 17.22248062 17.22248062 17.22248062\n",
      " 26.08552632 17.22248062 26.08552632 32.28493151 17.22248062 17.22248062\n",
      " 26.08552632 26.08552632 17.22248062 17.22248062 26.08552632 32.28493151\n",
      " 32.28493151 32.28493151 17.22248062 17.22248062 17.22248062 32.28493151\n",
      " 17.22248062 17.22248062 32.28493151 17.22248062 17.22248062 26.08552632\n",
      " 17.22248062 32.28493151 17.22248062 26.08552632 32.28493151 17.22248062\n",
      " 17.22248062 26.08552632 17.22248062 17.22248062 32.28493151 26.08552632\n",
      " 32.28493151 17.22248062 17.22248062 17.22248062 32.28493151 32.28493151\n",
      " 17.22248062 17.22248062 17.22248062 32.28493151 26.08552632 17.22248062\n",
      " 32.28493151 26.08552632 26.08552632 17.22248062 17.22248062 17.22248062\n",
      " 17.22248062 32.28493151 17.22248062 17.22248062 32.28493151 26.08552632\n",
      " 17.22248062 17.22248062 17.22248062 32.28493151 32.28493151 17.22248062\n",
      " 26.08552632 32.28493151 17.22248062 26.08552632 32.28493151 32.28493151]\n",
      "mae:  3.40\n",
      "mse:  18.77\n",
      "Root mean square error:  4.33\n",
      "R2 score:  0.6790324674390048\n",
      "R2 score Train data:  0.6513489869253635\n",
      "This is the prediction  [17.22248062] \n",
      "\n"
     ]
    }
   ],
   "source": [
    "#declare SEED variable and set to 1 for reproducibility\n",
    "SEED = 1\n",
    "\n",
    "\n",
    "#initialise the decision tree model\n",
    "dt_model = DecisionTreeRegressor(max_depth=4, min_samples_leaf=0.26, random_state=SEED)\n",
    "\n",
    "#fit the regreession model\n",
    "dt_model.fit(X_train, y_train)\n",
    "\n",
    "#predict the model on test data\n",
    "y_pred = dt_model.predict(X_test)\n",
    "print(y_pred)\n",
    "\n",
    "#predict the model on train data\n",
    "y_pred_train = dt_model.predict(X_train)\n",
    "\n",
    "\n",
    "#evaluate the model\n",
    "mae = mean_absolute_error(y_test, y_pred)\n",
    "mse = mean_squared_error(y_test, y_pred)\n",
    "rmse = np.sqrt(mse)\n",
    "r2 = r2_score(y_test, y_pred)\n",
    "#the r2 for the train dataset\n",
    "r2_train = r2_score(y_train,y_pred_train)\n",
    "\n",
    "#printing the model evaluation values\n",
    "print('mae:  {:.2f}'.format(mae))\n",
    "print('mse:  {:.2f}'.format(mse))\n",
    "print('Root mean square error:  {:.2f}'.format(rmse))\n",
    "print('R2 score: ', r2)\n",
    "print('R2 score Train data: ', r2_train)\n",
    "\n",
    "#we can check the prediction for specific values\n",
    "pred_my_value = dt_model.predict([[6, 171.0, 97.0, 2984, 14.5, 75, 1]])\n",
    "print(\"This is the prediction \", pred_my_value, '\\n')"
   ],
   "metadata": {
    "collapsed": false
   }
  },
  {
   "cell_type": "markdown",
   "source": [
    "    USING ENSEMBLE APPROACH TO CONFIRM STABILITY OD THE MODEL"
   ],
   "metadata": {
    "collapsed": false
   }
  },
  {
   "cell_type": "code",
   "execution_count": 8,
   "outputs": [
    {
     "name": "stdout",
     "output_type": "stream",
     "text": [
      "[20.7   27.216 16.95  22.976 20.278 14.834 29.048 38.216 16.372 12.67\n",
      " 30.828 17.352 18.964 24.612 37.014 20.852 14.06  20.48  12.46  38.88\n",
      " 23.42  30.422 21.128 26.56  26.326 27.468 32.52  39.388 17.21  29.028\n",
      " 24.358 13.8   20.572 23.386 24.726 14.17  26.274 12.8   33.228 24.158\n",
      " 26.53  24.048 17.768 34.246 24.392 19.872 17.402 14.38  27.08  17.542\n",
      " 26.5   24.526 15.53  13.63  29.382 24.09  12.98  14.53  31.76  36.33\n",
      " 35.098 36.468 15.272 25.894 16.316 35.068 25.446 24.46  31.106 14.04\n",
      " 16.72  23.776 15.504 27.874 14.8   26.53  29.84  15.176 14.71  23.666\n",
      " 18.36  15.896 37.09  24.804 38.996 17.364 16.14  20.298 37.81  32.438\n",
      " 16.88  20.046 18.708 26.932 29.07  19.462 38.88  27.058 22.478 25.52\n",
      " 18.798 12.72  14.32  40.722 14.754 19.266 35.404 22.584 28.274 15.186\n",
      " 16.36  32.744 33.528 16.872 23.914 33.518 13.14  23.182 23.306 37.162]\n",
      "mae:  1.92\n",
      "mse:  7.31\n",
      "Root mean square error:  2.70\n",
      "R2 score:  0.8749384097822802\n",
      "R2 score Train data:  0.9817855814888954\n",
      "This is the prediction  [20.7] \n",
      "\n"
     ]
    }
   ],
   "source": [
    "#decision tree bagging\n",
    "#importing the necessary packages\n",
    "\n",
    "from sklearn.model_selection import cross_val_score, KFold\n",
    "from sklearn.ensemble import BaggingRegressor\n",
    "\n",
    "#initialise the decision tree model\n",
    "dt_model = DecisionTreeRegressor( random_state=1)\n",
    "\n",
    "#instantiate the bagging regressor\n",
    "bg = BaggingRegressor(base_estimator=dt_model, n_estimators=50, random_state=0)\n",
    "\n",
    "#fit bg into the training set\n",
    "bg.fit(X_train, y_train)\n",
    "\n",
    "#predict the model on test data\n",
    "y_pred = bg.predict(X_test)\n",
    "print(y_pred)\n",
    "\n",
    "#predict the model on train data\n",
    "y_pred_train = bg.predict(X_train)\n",
    "\n",
    "\n",
    "#evaluate the model\n",
    "mae = mean_absolute_error(y_test, y_pred)\n",
    "mse = mean_squared_error(y_test, y_pred)\n",
    "rmse = np.sqrt(mse)\n",
    "r2 = r2_score(y_test, y_pred)\n",
    "#the r2 for the train dataset\n",
    "r2_train = r2_score(y_train,y_pred_train)\n",
    "\n",
    "#printing the model evaluation values\n",
    "print('mae:  {:.2f}'.format(mae))\n",
    "print('mse:  {:.2f}'.format(mse))\n",
    "print('Root mean square error:  {:.2f}'.format(rmse))\n",
    "print('R2 score: ', r2)\n",
    "print('R2 score Train data: ', r2_train)\n",
    "\n",
    "#we can check the prediction for specific values\n",
    "pred_my_value = bg.predict([[6, 171.0, 97.0, 2984, 14.5, 75, 1]])\n",
    "print(\"This is the prediction \", pred_my_value, '\\n')"
   ],
   "metadata": {
    "collapsed": false
   }
  },
  {
   "cell_type": "markdown",
   "source": [
    "USING RANDOMM FOREST TECHNIQUE"
   ],
   "metadata": {
    "collapsed": false
   }
  },
  {
   "cell_type": "code",
   "execution_count": 9,
   "outputs": [
    {
     "name": "stdout",
     "output_type": "stream",
     "text": [
      "[20.592 27.764 17.34  21.96  21.52  15.04  27.804 36.604 16.588 12.76\n",
      " 32.48  16.508 18.964 23.464 36.384 21.436 14.12  20.58  12.56  39.184\n",
      " 23.548 29.988 22.184 26.76  27.588 27.364 33.072 39.636 16.88  27.836\n",
      " 24.452 14.08  20.964 24.04  24.6   13.86  26.012 12.64  32.792 24.032\n",
      " 26.312 23.448 18.396 34.464 24.332 20.348 17.54  14.02  26.98  17.756\n",
      " 26.76  25.484 15.46  13.34  29.488 24.052 13.08  14.34  30.86  36.104\n",
      " 35.172 36.132 15.708 25.808 16.032 34.624 26.964 23.86  32.692 14.22\n",
      " 17.212 24.34  16.128 28.368 14.52  26.476 29.9   16.108 14.78  24.04\n",
      " 17.768 16.836 39.28  25.    39.308 17.752 16.612 20.34  36.548 31.988\n",
      " 16.744 20.016 17.588 26.496 29.14  19.724 40.124 27.176 22.368 25.844\n",
      " 18.2   12.68  14.16  40.792 15.508 19.664 35.06  21.46  28.012 16.108\n",
      " 16.9   32.704 30.832 16.992 23.9   33.08  13.2   22.988 22.532 37.672]\n",
      "mae:  2.01\n",
      "mse:  7.40\n",
      "Root mean square error:  2.72\n",
      "R2 score:  0.8734011952338309\n",
      "R2 score Train data:  0.979378827781849\n",
      "This is the prediction  [20.592] \n",
      "\n"
     ]
    }
   ],
   "source": [
    "#decision tree bagging\n",
    "#importing the necessary packages\n",
    "\n",
    "from sklearn.model_selection import cross_val_score, KFold\n",
    "from sklearn.ensemble import RandomForestRegressor\n",
    "\n",
    "#initialise random forest model\n",
    "rf_model = RandomForestRegressor(n_estimators=25, random_state=2)\n",
    "\n",
    "#fit rf into the training set\n",
    "rf_model.fit(X_train, y_train)\n",
    "\n",
    "#predict the model on test data\n",
    "y_pred = rf_model.predict(X_test)\n",
    "print(y_pred)\n",
    "\n",
    "#predict the model on train data\n",
    "y_pred_train = rf_model.predict(X_train)\n",
    "\n",
    "\n",
    "#evaluate the model\n",
    "mae = mean_absolute_error(y_test, y_pred)\n",
    "mse = mean_squared_error(y_test, y_pred)\n",
    "rmse = np.sqrt(mse)\n",
    "r2 = r2_score(y_test, y_pred)\n",
    "#the r2 for the train dataset\n",
    "r2_train = r2_score(y_train,y_pred_train)\n",
    "\n",
    "#printing the model evaluation values\n",
    "print('mae:  {:.2f}'.format(mae))\n",
    "print('mse:  {:.2f}'.format(mse))\n",
    "print('Root mean square error:  {:.2f}'.format(rmse))\n",
    "print('R2 score: ', r2)\n",
    "print('R2 score Train data: ', r2_train)\n",
    "\n",
    "#we can check the prediction for specific values\n",
    "pred_my_value = rf_model.predict([[6, 171.0, 97.0, 2984, 14.5, 75, 1]])\n",
    "print(\"This is the prediction \", pred_my_value, '\\n')"
   ],
   "metadata": {
    "collapsed": false
   }
  },
  {
   "cell_type": "markdown",
   "source": [
    "RANDOM FOREST FOR FEATURES IMPORTANCE"
   ],
   "metadata": {
    "collapsed": false
   }
  },
  {
   "cell_type": "code",
   "execution_count": 16,
   "outputs": [
    {
     "data": {
      "text/plain": "<Figure size 640x480 with 1 Axes>",
      "image/png": "[encoded data removed]"
     },
     "metadata": {},
     "output_type": "display_data"
    }
   ],
   "source": [
    "#visualise feature importance\n",
    "#create a pd.series of feature importance\n",
    "\n",
    "importances = pd.Series(data=rf_model.feature_importances_, index=X_train.columns)\n",
    "\n",
    "#sort base don prediction importances\n",
    "importances_sorted = importances.sort_values()\n",
    "\n",
    "#draw a horizontal barplot of importances_sorted\n",
    "importances_sorted.plot(kind='barh', color='blue')\n",
    "plt.title('Feature importances')\n",
    "plt.show()\n"
   ],
   "metadata": {
    "collapsed": false
   }
  },
  {
   "cell_type": "markdown",
   "source": [
    "USING ADABOOSTING TECHNIQUES"
   ],
   "metadata": {
    "collapsed": false
   }
  },
  {
   "cell_type": "code",
   "execution_count": 19,
   "outputs": [
    {
     "name": "stdout",
     "output_type": "stream",
     "text": [
      "[19.80347222 29.11395349 19.01826923 25.45352113 22.53030303 18.13157895\n",
      " 28.97058824 39.89861111 17.72777778 16.328      30.09216867 18.54025974\n",
      " 19.24347826 26.67653061 39.49883721 20.85918367 16.328      18.1516129\n",
      " 16.328      39.3372549  22.84615385 29.20483092 24.57352941 24.57352941\n",
      " 28.25       28.97058824 31.76590909 39.74027778 16.75873016 28.74186047\n",
      " 28.8512987  16.328      20.4375     27.6530303  26.35714286 16.36792453\n",
      " 27.04714286 16.328      30.12394366 26.2875     26.12093023 26.35714286\n",
      " 20.84193548 30.81578947 27.40285714 19.68765432 18.81176471 16.328\n",
      " 26.36585366 18.08507463 24.57352941 28.18461538 17.62403846 16.36792453\n",
      " 29.06929134 23.22222222 16.27142857 16.328      29.60493827 38.925\n",
      " 35.88333333 38.925      18.1516129  28.35159236 20.72222222 30.39893617\n",
      " 28.18227848 29.06929134 29.93806452 16.36792453 20.72222222 25.45352113\n",
      " 16.69324324 28.21287879 16.328      26.35714286 33.37578947 18.13157895\n",
      " 16.71568627 22.77083333 21.03655914 17.80185185 38.32307692 25.45352113\n",
      " 39.28470588 18.6        18.48571429 21.0972973  39.49883721 29.11153846\n",
      " 20.72222222 19.78313253 17.98918919 27.44285714 29.60493827 19.76704545\n",
      " 38.36635514 27.04714286 22.77083333 28.86050955 18.09516129 16.27142857\n",
      " 16.43015873 39.49883721 16.43015873 19.20107527 33.67191011 21.31684211\n",
      " 29.11395349 17.72777778 18.02375    28.59166667 28.98992248 17.72285714\n",
      " 22.84615385 34.38287671 16.27142857 21.08053691 25.45352113 35.29782609]\n",
      "mae:  2.78\n",
      "mse:  12.78\n",
      "Root mean square error:  3.57\n",
      "R2 score:  0.781491234792845\n",
      "R2 score Train data:  0.8475410387248777\n",
      "This is the prediction  [19.80347222] \n",
      "\n"
     ]
    }
   ],
   "source": [
    "#ADAPTIVE BOOSTING\n",
    "from sklearn.ensemble import AdaBoostRegressor, RandomForestRegressor\n",
    "\n",
    "#initialise the decision tree model\n",
    "dt_model = DecisionTreeRegressor(max_depth=2, random_state=1)\n",
    "\n",
    "#instantiate the Adaboosting regressor\n",
    "ada = AdaBoostRegressor(base_estimator=dt_model, n_estimators=180, random_state=1)\n",
    "\n",
    "#fit ada into the training set\n",
    "ada.fit(X_train, y_train)\n",
    "\n",
    "#predict the model on test data\n",
    "y_pred = ada.predict(X_test)\n",
    "print(y_pred)\n",
    "\n",
    "#predict the model on train data\n",
    "y_pred_train = ada.predict(X_train)\n",
    "\n",
    "\n",
    "#evaluate the model\n",
    "mae = mean_absolute_error(y_test, y_pred)\n",
    "mse = mean_squared_error(y_test, y_pred)\n",
    "rmse = np.sqrt(mse)\n",
    "r2 = r2_score(y_test, y_pred)\n",
    "#the r2 for the train dataset\n",
    "r2_train = r2_score(y_train,y_pred_train)\n",
    "\n",
    "#printing the model evaluation values\n",
    "print('mae:  {:.2f}'.format(mae))\n",
    "print('mse:  {:.2f}'.format(mse))\n",
    "print('Root mean square error:  {:.2f}'.format(rmse))\n",
    "print('R2 score: ', r2)\n",
    "print('R2 score Train data: ', r2_train)\n",
    "\n",
    "#we can check the prediction for specific values\n",
    "pred_my_value = ada.predict([[6, 171.0, 97.0, 2984, 14.5, 75, 1]])\n",
    "print(\"This is the prediction \", pred_my_value, '\\n')"
   ],
   "metadata": {
    "collapsed": false
   }
  },
  {
   "cell_type": "markdown",
   "source": [
    "Gradient Boosting Ensembling technique"
   ],
   "metadata": {
    "collapsed": false
   }
  },
  {
   "cell_type": "code",
   "execution_count": 23,
   "outputs": [
    {
     "name": "stdout",
     "output_type": "stream",
     "text": [
      "[21.17776545 26.6350864  16.8954886  21.658619   20.91991605 15.30164494\n",
      " 29.50296737 35.48514852 16.64707959 12.58601678 29.92640571 18.22381567\n",
      " 18.18947351 24.94434249 37.23981126 21.68936309 13.95433874 20.40085224\n",
      " 12.69217425 38.11902032 24.10150019 30.69258257 21.93478093 27.15601196\n",
      " 24.46484733 26.664731   32.02172148 38.21797142 17.39413887 30.59462427\n",
      " 24.61636918 14.06530838 19.16652256 25.55741009 25.03173512 13.68504681\n",
      " 26.58935983 12.68177541 39.31929601 24.32355445 26.65384767 22.26204551\n",
      " 19.16435028 34.05103547 25.34487482 19.28361816 17.92031609 13.83697396\n",
      " 27.16422771 17.60446542 27.15601196 25.47642899 15.38530564 13.05573407\n",
      " 29.48690616 23.75157998 13.59583849 14.05974086 30.98192821 33.49299015\n",
      " 31.07294446 32.80391215 16.48690617 26.95773688 16.77016243 36.47481699\n",
      " 31.62229533 24.02063793 30.26179149 13.49722106 17.96520905 24.29472329\n",
      " 15.32604454 28.19746998 14.79077451 27.41252588 28.89744758 16.56406959\n",
      " 15.04754397 23.17948251 18.10750153 17.92838487 37.49503277 24.05384065\n",
      " 36.42123653 17.66410076 16.16185083 20.43548739 38.26593801 31.8561062\n",
      " 16.63872828 19.8013878  17.85089763 26.60428296 29.34423034 18.12754204\n",
      " 38.50831328 25.60435458 21.98662019 23.05261592 18.43510537 11.77586464\n",
      " 13.87226674 36.61464142 15.03126092 19.36798276 35.19501145 21.26566187\n",
      " 24.96429998 16.21891332 17.16651863 32.28268747 29.84401751 16.74795762\n",
      " 23.72515996 33.64123233 13.99596625 24.05704322 23.93890827 34.73410419]\n",
      "mae:  1.98\n",
      "mse:  7.25\n",
      "Root mean square error:  2.69\n",
      "R2 score:  0.8759629826914233\n",
      "R2 score Train data:  0.9897075789168949\n",
      "This is the prediction  [21.17776545] \n",
      "\n"
     ]
    }
   ],
   "source": [
    "#ADAPTIVE BOOSTING\n",
    "from sklearn.ensemble import GradientBoostingRegressor, RandomForestRegressor\n",
    "\n",
    "#initialise the decision tree model\n",
    "dt_model = DecisionTreeRegressor(max_depth=2, random_state=1)\n",
    "\n",
    "#instantiate the Adaboosting regressor\n",
    "grd = GradientBoostingRegressor(n_estimators=200, random_state=1, max_depth=4)\n",
    "\n",
    "#fit ada into the training set\n",
    "grd.fit(X_train, y_train)\n",
    "\n",
    "#predict the model on test data\n",
    "y_pred = grd.predict(X_test)\n",
    "print(y_pred)\n",
    "\n",
    "#predict the model on train data\n",
    "y_pred_train = grd.predict(X_train)\n",
    "\n",
    "\n",
    "#evaluate the model\n",
    "mae = mean_absolute_error(y_test, y_pred)\n",
    "mse = mean_squared_error(y_test, y_pred)\n",
    "rmse = np.sqrt(mse)\n",
    "r2 = r2_score(y_test, y_pred)\n",
    "#the r2 for the train dataset\n",
    "r2_train = r2_score(y_train,y_pred_train)\n",
    "\n",
    "#printing the model evaluation values\n",
    "print('mae:  {:.2f}'.format(mae))\n",
    "print('mse:  {:.2f}'.format(mse))\n",
    "print('Root mean square error:  {:.2f}'.format(rmse))\n",
    "print('R2 score: ', r2)\n",
    "print('R2 score Train data: ', r2_train)\n",
    "\n",
    "#we can check the prediction for specific values\n",
    "pred_my_value = grd.predict([[6, 171.0, 97.0, 2984, 14.5, 75, 1]])\n",
    "print(\"This is the prediction \", pred_my_value, '\\n')"
   ],
   "metadata": {
    "collapsed": false
   }
  },
  {
   "cell_type": "code",
   "execution_count": null,
   "outputs": [],
   "source": [],
   "metadata": {
    "collapsed": false
   }
  }
 ],
 "metadata": {
  "kernelspec": {
   "display_name": "Python 3",
   "language": "python",
   "name": "python3"
  },
  "language_info": {
   "codemirror_mode": {
    "name": "ipython",
    "version": 2
   },
   "file_extension": ".py",
   "mimetype": "text/x-python",
   "name": "python",
   "nbconvert_exporter": "python",
   "pygments_lexer": "ipython2",
   "version": "2.7.6"
  }
 },
 "nbformat": 4,
 "nbformat_minor": 0
}

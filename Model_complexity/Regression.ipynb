{
 "cells": [
  {
   "cell_type": "code",
   "execution_count": null,
   "metadata": {
    "collapsed": true
   },
   "outputs": [],
   "source": [
    "import matplotlib.pyplot as plt\n",
    "#importing necessary packages\n",
    "import pandas\n",
    "import numpy as np\n",
    "from sklearn.linear_model import LinearRegression\n",
    "from sklearn.metrics import mean_squared_error, r2_score, mean_absolute_error\n",
    "\n",
    "#generating random dataset with numpy\n",
    "np.random.seed(0)\n",
    "x = np.random.rand(100, 1)\n",
    "y = 3 + 5 * x\n",
    "\n",
    "print('\\n First 5 data on the x axis \\n', x[:5], '\\n\\n First 5 data on the y axis \\n', y[:5])\n",
    "\n",
    "#initialise linear regression model\n",
    "rgr = LinearRegression()\n",
    "\n",
    "#fit the model\n",
    "rgr.fit(x,y)\n",
    "\n",
    "#predict the model\n",
    "y_pred =rgr.predict(x)\n",
    "#print(y_pred)\n",
    "\n",
    "#evaluate the model\n",
    "mae = mean_absolute_error(y, y_pred)\n",
    "mse = mean_squared_error(y, y_pred)\n",
    "rmse = np.sqrt(mse)\n",
    "r2 = r2_score(y, y_pred)\n",
    "\n",
    "#printing the model evaluation values\n",
    "print('\\n slope: ', rgr.coef_)\n",
    "print('Intercept: ', rgr.intercept_)\n",
    "print('mae:  {:.2f}'.format(mae))\n",
    "print('mse:  {:.2f}'.format(mse))\n",
    "print('Root mean square error:  {:.2f}'.format(rmse))\n",
    "print('R2 score: ', r2)\n",
    "\n",
    "#plotting all values\n",
    "#plot the data  points for x and y\n",
    "\n",
    "plt.scatter(x,y, s=10)\n",
    "plt.xlabel('x')\n",
    "plt.ylabel('y')\n",
    "\n",
    "#predicted values\n",
    "plt.plot(x, y_pred, color='r')\n",
    "plt.show()"
   ]
  },
  {
   "cell_type": "code",
   "execution_count": 17,
   "outputs": [
    {
     "name": "stdout",
     "output_type": "stream",
     "text": [
      "\n",
      " First 5 data on the x axis \n",
      " [[0.5488135 ]\n",
      " [0.71518937]\n",
      " [0.60276338]\n",
      " [0.54488318]\n",
      " [0.4236548 ]] \n",
      "\n",
      " First 5 data on the y axis \n",
      " [[6.42188406]\n",
      " [6.84595481]\n",
      " [6.7490109 ]\n",
      " [6.68660446]\n",
      " [5.36702714]]\n",
      "\n",
      " slope:  [[4.93655106]]\n",
      "Intercept:  [3.55808002]\n",
      "mae:  0.24\n",
      "mse:  0.08\n",
      "Root mean square error:  0.28\n",
      "R2 score:  0.9637291269612669\n"
     ]
    },
    {
     "data": {
      "text/plain": "<Figure size 640x480 with 1 Axes>",
      "image/png": "[encoded data removed]"
     },
     "metadata": {},
     "output_type": "display_data"
    }
   ],
   "source": [
    "import matplotlib.pyplot as plt\n",
    "#importing necessary packages\n",
    "import pandas\n",
    "import numpy as np\n",
    "from sklearn.linear_model import LinearRegression\n",
    "from sklearn.metrics import mean_squared_error, r2_score, mean_absolute_error\n",
    "\n",
    "#generating random dataset with numpy\n",
    "np.random.seed(0)\n",
    "x = np.random.rand(100, 1)\n",
    "y = 3 + 5 * x + np.random.rand(100, 1)\n",
    "\n",
    "print('\\n First 5 data on the x axis \\n', x[:5], '\\n\\n First 5 data on the y axis \\n', y[:5])\n",
    "\n",
    "#initialise linear regression model\n",
    "rgr = LinearRegression()\n",
    "\n",
    "#fit the model\n",
    "rgr.fit(x,y)\n",
    "\n",
    "#predict the model\n",
    "y_pred =rgr.predict(x)\n",
    "#print(y_pred)\n",
    "\n",
    "#evaluate the model\n",
    "mae = mean_absolute_error(y, y_pred)\n",
    "mse = mean_squared_error(y, y_pred)\n",
    "rmse = np.sqrt(mse)\n",
    "r2 = r2_score(y, y_pred)\n",
    "\n",
    "#printing the model evaluation values\n",
    "print('\\n slope: ', rgr.coef_)\n",
    "print('Intercept: ', rgr.intercept_)\n",
    "print('mae:  {:.2f}'.format(mae))\n",
    "print('mse:  {:.2f}'.format(mse))\n",
    "print('Root mean square error:  {:.2f}'.format(rmse))\n",
    "print('R2 score: ', r2)\n",
    "\n",
    "#plotting all values\n",
    "#plot the data  points for x and y\n",
    "\n",
    "plt.scatter(x,y, s=10)\n",
    "plt.xlabel('x')\n",
    "plt.ylabel('y')\n",
    "\n",
    "#predicted values\n",
    "plt.plot(x, y_pred, color='r')\n",
    "plt.show()"
   ],
   "metadata": {
    "collapsed": false
   }
  },
  {
   "cell_type": "markdown",
   "source": [
    "using the auto mpg dataset to prepare the data for model fitting"
   ],
   "metadata": {
    "collapsed": false
   }
  },
  {
   "cell_type": "code",
   "execution_count": 25,
   "outputs": [
    {
     "name": "stdout",
     "output_type": "stream",
     "text": [
      "    mpg  cylinders  displacement horsepower  weight  acceleration  model_year  \\\n",
      "0  18.0          8         307.0        130    3504          12.0          70   \n",
      "1  15.0          8         350.0        165    3693          11.5          70   \n",
      "2  18.0          8         318.0        150    3436          11.0          70   \n",
      "3  16.0          8         304.0        150    3433          12.0          70   \n",
      "4  17.0          8         302.0        140    3449          10.5          70   \n",
      "\n",
      "   origin                   car_name  \n",
      "0       1  chevrolet chevelle malibu  \n",
      "1       1          buick skylark 320  \n",
      "2       1         plymouth satellite  \n",
      "3       1              amc rebel sst  \n",
      "4       1                ford torino  \n",
      "Empty DataFrame\n",
      "Columns: [mpg, cylinders, displacement, horsepower, weight, acceleration, model_year, origin, car_name]\n",
      "Index: []\n",
      "<class 'pandas.core.frame.DataFrame'>\n",
      "RangeIndex: 398 entries, 0 to 397\n",
      "Data columns (total 9 columns):\n",
      " #   Column        Non-Null Count  Dtype  \n",
      "---  ------        --------------  -----  \n",
      " 0   mpg           398 non-null    float64\n",
      " 1   cylinders     398 non-null    int64  \n",
      " 2   displacement  398 non-null    float64\n",
      " 3   horsepower    398 non-null    object \n",
      " 4   weight        398 non-null    int64  \n",
      " 5   acceleration  398 non-null    float64\n",
      " 6   model_year    398 non-null    int64  \n",
      " 7   origin        398 non-null    int64  \n",
      " 8   car_name      398 non-null    object \n",
      "dtypes: float64(3), int64(4), object(2)\n",
      "memory usage: 28.1+ KB\n",
      "\n",
      " None\n",
      "\n",
      " These are the instances with missing values after to conversion to float \n",
      "       mpg  cylinders  displacement  horsepower  weight  acceleration  \\\n",
      "32   25.0          4          98.0         NaN    2046          19.0   \n",
      "126  21.0          6         200.0         NaN    2875          17.0   \n",
      "330  40.9          4          85.0         NaN    1835          17.3   \n",
      "336  23.6          4         140.0         NaN    2905          14.3   \n",
      "354  34.5          4         100.0         NaN    2320          15.8   \n",
      "374  23.0          4         151.0         NaN    3035          20.5   \n",
      "\n",
      "     model_year  origin              car_name  \n",
      "32           71       1            ford pinto  \n",
      "126          74       1         ford maverick  \n",
      "330          80       2  renault lecar deluxe  \n",
      "336          80       1    ford mustang cobra  \n",
      "354          81       2           renault 18i  \n",
      "374          82       1        amc concord dl  \n",
      "\n",
      " print x dimension  (398, 1)\n",
      "\n",
      " print y dimension  (398,)\n"
     ]
    }
   ],
   "source": [
    "import numpy as np\n",
    "import pandas as pd\n",
    "from pandas import read_csv\n",
    "from sklearn import preprocessing\n",
    "from sklearn.impute import SimpleImputer\n",
    "from matplotlib import pyplot\n",
    "from pandas.plotting import scatter_matrix\n",
    "from sklearn.model_selection import  train_test_split\n",
    "from sklearn.metrics import accuracy_score, confusion_matrix, classification_report\n",
    "from sklearn.linear_model import LinearRegression\n",
    "from sklearn.metrics import mean_squared_error, r2_score, mean_absolute_error\n",
    "\n",
    "#declaring header names\n",
    "autompg_headers = ['mpg', 'cylinders', 'displacement', 'horsepower', 'weight', 'acceleration', 'model_year', 'origin', 'car_name']\n",
    "\n",
    "#read the data using the read_csv class\n",
    "mpg_data = read_csv('venv/auto_mpg_data.csv', names=autompg_headers)\n",
    "\n",
    "print(mpg_data.head(5))\n",
    "\n",
    "#check for any missing data\n",
    "miss_data = mpg_data[mpg_data.isna().any(axis=1)]\n",
    "print(miss_data)\n",
    "\n",
    "#check the data information\n",
    "print('\\n', mpg_data.info())\n",
    "\n",
    "#since the horsepower has an object data type, we convert it to float\n",
    "mpg_data['horsepower'] = pd.to_numeric(mpg_data['horsepower'], errors='coerce')\n",
    "\n",
    "#now lets re check or dataframe for missing values\n",
    "recheck_missing_data = mpg_data[mpg_data.isna().any(axis=1)]\n",
    "print('\\n These are the instances with missing values after to conversion to float \\n', recheck_missing_data )\n",
    "\n",
    "#using the simpleimputer function to replace the missing values\n",
    "imputer = SimpleImputer(strategy='most_frequent') #either replace it with most frequent, median, mean and observe\n",
    "imputer.fit(mpg_data)\n",
    "new_data = imputer.transform(mpg_data)\n",
    "\n",
    "#reassign the new dataframe\n",
    "mpg_data = pd.DataFrame(data=new_data, columns=autompg_headers)\n",
    "\n",
    "#seperate the data into X(train) anf y(test) groups - training and target sets\n",
    "train_headers = ['cylinders', 'displacement', 'horsepower', 'weight', 'acceleration', 'model_year', 'origin', 'car_name']\n",
    "\n",
    "taret_header = ['mpg']\n",
    "\n",
    "X = mpg_data[train_headers]\n",
    "y = mpg_data[taret_header]\n",
    "\n",
    "#get the displacement variable which allows us to carry our simple regression\n",
    "x = mpg_data.iloc[:, 2].values.reshape((-1, 1)) #  reshape as model may expect 2d or x = mpg_data['displacement']\n",
    "\n",
    "#get the mpg\n",
    "y = mpg_data.iloc[:, 0].values\n",
    "\n",
    "print('\\n print x dimension ', x.shape)\n",
    "print('\\n print y dimension ', y.shape)"
   ],
   "metadata": {
    "collapsed": false
   }
  },
  {
   "cell_type": "markdown",
   "source": [
    "Training the data using simple linear regression"
   ],
   "metadata": {
    "collapsed": false
   }
  },
  {
   "cell_type": "code",
   "execution_count": 28,
   "outputs": [
    {
     "name": "stdout",
     "output_type": "stream",
     "text": [
      "\n",
      "  dimension of train data  (278, 1)\n",
      "\n",
      "  dimension of test data  (120, 1)\n",
      "\n",
      " slope:  [-0.06103076]\n",
      "Intercept:  35.25013010654774\n",
      "mae:  3.32\n",
      "mse:  17.84\n",
      "Root mean square error:  4.22\n",
      "R2 score:  0.6949301767586249\n"
     ]
    },
    {
     "data": {
      "text/plain": "<Figure size 640x480 with 1 Axes>",
      "image/png": "[encoded data removed]"
     },
     "metadata": {},
     "output_type": "display_data"
    },
    {
     "name": "stdout",
     "output_type": "stream",
     "text": [
      "This is the prediction  [24.8138704] \n",
      "\n"
     ]
    }
   ],
   "source": [
    "#split the dataset into 70:30 train and test split\n",
    "x_train, x_test, y_train, y_test = train_test_split(x, y, test_size=0.3, random_state=1)\n",
    "#check the dimension of train and test data\n",
    "print('\\n  dimension of train data ', x_train.shape)\n",
    "print('\\n  dimension of test data ', x_test.shape)\n",
    "\n",
    "#perform a linear regression for displacement anf mpg\n",
    "#initialise the linear regression model\n",
    "rgr = LinearRegression()\n",
    "\n",
    "#fit the regression model\n",
    "rgr.fit(x_train, y_train)\n",
    "\n",
    "#predict th model\n",
    "y_pred = rgr.predict(x_test)\n",
    "\n",
    "#evaluate the model\n",
    "mae = mean_absolute_error(y_test, y_pred)\n",
    "mse = mean_squared_error(y_test, y_pred)\n",
    "rmse = np.sqrt(mse)\n",
    "r2 = r2_score(y_test, y_pred)\n",
    "\n",
    "#printing the model evaluation values\n",
    "print('\\n slope: ', rgr.coef_)\n",
    "print('Intercept: ', rgr.intercept_)\n",
    "print('mae:  {:.2f}'.format(mae))\n",
    "print('mse:  {:.2f}'.format(mse))\n",
    "print('Root mean square error:  {:.2f}'.format(rmse))\n",
    "print('R2 score: ', r2)\n",
    "\n",
    "#plotting all values\n",
    "#plot the data  points for x and y\n",
    "\n",
    "plt.scatter(x_test,y_test, s=10)\n",
    "plt.xlabel('Displacement')\n",
    "plt.ylabel('MPG')\n",
    "\n",
    "#predicted values\n",
    "plt.plot(x_test, y_pred, color='r')\n",
    "plt.show()\n",
    "\n",
    "#we can check the prediction for specific values\n",
    "pred_my_value = rgr.predict([[171.0]])\n",
    "print(\"This is the prediction \", pred_my_value, '\\n')"
   ],
   "metadata": {
    "collapsed": false
   }
  },
  {
   "cell_type": "markdown",
   "source": [
    "multiple linear regression"
   ],
   "metadata": {
    "collapsed": false
   }
  },
  {
   "cell_type": "code",
   "execution_count": 37,
   "outputs": [
    {
     "name": "stdout",
     "output_type": "stream",
     "text": [
      "\n",
      "  dimension of train data  (278, 7)\n",
      "\n",
      "  dimension of test data  (120, 7)\n",
      "\n",
      " slope:  [-0.39912226  0.02232034 -0.014257   -0.0071813   0.08704964  0.79702551\n",
      "  1.15658328]\n",
      "Intercept:  -19.449513538151304\n",
      "mae:  2.31\n",
      "mse:  8.97\n",
      "Root mean square error:  2.99\n",
      "R2 score:  0.8466472315667266\n",
      "This is the prediction  [21.35631026] \n",
      "\n"
     ]
    }
   ],
   "source": [
    "#get the variable which allows us to carry out multiple linear regression\n",
    "X = mpg_data.iloc[:, 1:8].values #drop the car name as due to high cardinality and not being strong predictive\n",
    "\n",
    "#get the mpg\n",
    "y = mpg_data.iloc[:, 0].values\n",
    "\n",
    "#split the data into 70:30 train and test mode\n",
    "X_train, X_test, y_train, y_test = train_test_split(X, y, test_size=0.3, random_state=1)\n",
    "#check the dimension of train and test data\n",
    "print('\\n  dimension of train data ', X_train.shape)\n",
    "print('\\n  dimension of test data ', X_test.shape)\n",
    "\n",
    "#initialize the model\n",
    "rgr = LinearRegression()\n",
    "#fit the model\n",
    "rgr.fit(X_train, y_train)\n",
    "#predict the model on test data\n",
    "y_pred = rgr.predict(X_test)\n",
    "#print(y_pred)\n",
    "#predict the model on train data\n",
    "y_pred_train = rgr.predict(X_train)\n",
    "#print(y_pred_train)\n",
    "\n",
    "\n",
    "#evaluate the model\n",
    "mae = mean_absolute_error(y_test, y_pred)\n",
    "mse = mean_squared_error(y_test, y_pred)\n",
    "rmse = np.sqrt(mse)\n",
    "r2 = r2_score(y_test, y_pred)\n",
    "\n",
    "#printing the model evaluation values\n",
    "print('\\n slope: ', rgr.coef_)\n",
    "print('Intercept: ', rgr.intercept_)\n",
    "print('mae:  {:.2f}'.format(mae))\n",
    "print('mse:  {:.2f}'.format(mse))\n",
    "print('Root mean square error:  {:.2f}'.format(rmse))\n",
    "print('R2 score: ', r2)\n",
    "\n",
    "#we can check the prediction for specific values\n",
    "pred_my_value = rgr.predict([[6, 171.0, 97.0, 2984, 14.5, 75, 1]])\n",
    "print(\"This is the prediction \", pred_my_value, '\\n')"
   ],
   "metadata": {
    "collapsed": false
   }
  },
  {
   "cell_type": "code",
   "execution_count": null,
   "outputs": [],
   "source": [],
   "metadata": {
    "collapsed": false,
    "pycharm": {
     "is_executing": true
    }
   }
  },
  {
   "cell_type": "code",
   "execution_count": 30,
   "outputs": [],
   "source": [],
   "metadata": {
    "collapsed": false
   }
  }
 ],
 "metadata": {
  "kernelspec": {
   "display_name": "Python 3",
   "language": "python",
   "name": "python3"
  },
  "language_info": {
   "codemirror_mode": {
    "name": "ipython",
    "version": 2
   },
   "file_extension": ".py",
   "mimetype": "text/x-python",
   "name": "python",
   "nbconvert_exporter": "python",
   "pygments_lexer": "ipython2",
   "version": "2.7.6"
  }
 },
 "nbformat": 4,
 "nbformat_minor": 0
}

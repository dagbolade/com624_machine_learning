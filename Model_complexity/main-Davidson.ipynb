{
 "cells": [
  {
   "cell_type": "code",
   "execution_count": 3,
   "metadata": {
    "collapsed": true
   },
   "outputs": [
    {
     "name": "stdout",
     "output_type": "stream",
     "text": [
      "(699, 11)\n",
      "(699, 10)\n",
      "\n",
      " The total of training dataset (419, 9)\n",
      "\n",
      " The total of test dataset (280, 9)\n",
      "Model accuracy on Train data: 1.00 \n",
      "\n",
      "Model accuracy on Test data: 0.94 \n",
      "\n",
      "The Confusion Matrix: \n",
      " [[180   3]\n",
      " [ 14  83]] \n",
      "\n",
      "Report of classification: \n",
      "               precision    recall  f1-score   support\n",
      "\n",
      "         2.0       0.93      0.98      0.95       183\n",
      "         4.0       0.97      0.86      0.91        97\n",
      "\n",
      "    accuracy                           0.94       280\n",
      "   macro avg       0.95      0.92      0.93       280\n",
      "weighted avg       0.94      0.94      0.94       280\n",
      "\n"
     ]
    }
   ],
   "source": [
    "import numpy as np\n",
    "import pandas as pd\n",
    "from pandas import read_csv\n",
    "from sklearn import preprocessing\n",
    "from sklearn.impute import SimpleImputer\n",
    "from matplotlib import pyplot\n",
    "from pandas.plotting import scatter_matrix\n",
    "from sklearn.model_selection import  train_test_split\n",
    "from sklearn.metrics import accuracy_score, confusion_matrix, classification_report\n",
    "from sklearn.tree import DecisionTreeClassifier\n",
    "\n",
    "#declaring header names\n",
    "winsconsin_headers = ['sample_code','c_thickness', 'uni_cell_size', 'uni_cell_shape', 'marg_adhesion', 'epi_cell_size', 'nuclei','bland_chromatin', 'normal_nucleoli', 'mitoses', 'tumor_class']\n",
    "\n",
    "#read the data using read_csv class of pandas\n",
    "wins_data = read_csv(\"venv/winsconsin_b_cancer (1).csv\" ,names= winsconsin_headers)\n",
    "\n",
    "print(wins_data.shape)\n",
    "\n",
    "wins_data.drop('sample_code', axis=1, inplace=True)\n",
    "print(wins_data.shape)\n",
    "#check all datas are numbers and convert any non-numeric characters to null value\n",
    "wins_data=wins_data.apply(pd.to_numeric, errors='coerce')\n",
    "#print(wins_data.apply(pd.to_numeric, errors='coerce').info()) #this will give the datatype info after the conversion\n",
    "\n",
    "#declaring a new header\n",
    "new_winsconsin_headers = ['c_thickness', 'uni_cell_size', 'uni_cell_shape', 'marg_adhesion', 'epi_cell_size', 'nuclei','bland_chromatin', 'normal_nucleoli', 'mitoses', 'tumor_class']\n",
    "\n",
    "#since ? cannot be converted to int we can convert all data to float\n",
    "wins_data[new_winsconsin_headers] = wins_data[new_winsconsin_headers].applymap(float)\n",
    "#print(wins_data.dtypes)\n",
    "\n",
    "#use the simple imputer function to replace missing value\n",
    "imputer = SimpleImputer (strategy = 'median') # replace most_frequent with median, mean and observe\n",
    "imputer.fit(wins_data)\n",
    "new_data = imputer.transform(wins_data)\n",
    "#reassign the new data frame\n",
    "wins_data = pd.DataFrame(new_data, columns=new_winsconsin_headers)\n",
    "\n",
    "#recheck the data for missing values\n",
    "win_empty_data = wins_data[wins_data.isna().any(axis=1)]\n",
    "#print('\\n These are the missing data \\n ', win_empty_data)\n",
    "\n",
    "#seperate the data into xtrain and y test groups  - training and target sets\n",
    "train_headers = ['c_thickness', 'uni_cell_size', 'uni_cell_shape', 'marg_adhesion', 'epi_cell_size', 'nuclei','bland_chromatin', 'normal_nucleoli', 'mitoses']\n",
    "target_header = ['tumor_class']\n",
    "\n",
    "X = wins_data[train_headers]\n",
    "y = wins_data[target_header]\n",
    "#split the data into train and test -- split  using 60:40\n",
    "X_train, X_test, y_train, y_test = train_test_split(X, y, test_size=0.4, random_state=1,stratify=y)\n",
    "\n",
    "#check the dimension of the train and test data\n",
    "print('\\n The total of training dataset', X_train.shape)\n",
    "print('\\n The total of test dataset', X_test.shape)\n",
    "\n",
    "#instantiate the model\n",
    "my_model = DecisionTreeClassifier()\n",
    "\n",
    "#train the model to fit\n",
    "my_model.fit(X_train, y_train)\n",
    "#now let's predict the model\n",
    "y_pred_train = my_model.predict(X_train)\n",
    "\n",
    "y_pred = my_model.predict(X_test)\n",
    "\n",
    "#compute the train accuracy\n",
    "model_acc = accuracy_score(y_train, y_pred_train)\n",
    "print(\"Model accuracy on Train data: {:.2f}\".format(model_acc), '\\n')\n",
    "\n",
    "\n",
    "#compute test set accuracy\n",
    "model_accuracy = accuracy_score(y_test, y_pred)\n",
    "print(\"Model accuracy on Test data: {:.2f}\".format(model_accuracy), '\\n')\n",
    "\n",
    "#constructing a confusion matrix  of the test data\n",
    "matrix_info = confusion_matrix(y_test, y_pred)\n",
    "print(\"The Confusion Matrix: \\n\", matrix_info, '\\n')\n",
    "\n",
    "#construct the classification report\n",
    "class_report = classification_report(y_test, y_pred)\n",
    "print(\"Report of classification: \\n\", class_report)"
   ]
  },
  {
   "cell_type": "code",
   "execution_count": null,
   "outputs": [],
   "source": [],
   "metadata": {
    "collapsed": false,
    "pycharm": {
     "is_executing": true
    }
   }
  },
  {
   "cell_type": "code",
   "execution_count": null,
   "outputs": [],
   "source": [],
   "metadata": {
    "collapsed": false,
    "pycharm": {
     "is_executing": true
    }
   }
  },
  {
   "cell_type": "code",
   "execution_count": null,
   "outputs": [],
   "source": [],
   "metadata": {
    "collapsed": false
   }
  }
 ],
 "metadata": {
  "kernelspec": {
   "display_name": "Python 3",
   "language": "python",
   "name": "python3"
  },
  "language_info": {
   "codemirror_mode": {
    "name": "ipython",
    "version": 2
   },
   "file_extension": ".py",
   "mimetype": "text/x-python",
   "name": "python",
   "nbconvert_exporter": "python",
   "pygments_lexer": "ipython2",
   "version": "2.7.6"
  }
 },
 "nbformat": 4,
 "nbformat_minor": 0
}

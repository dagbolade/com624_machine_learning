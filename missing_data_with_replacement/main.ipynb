{
 "cells": [
  {
   "cell_type": "markdown",
   "source": [
    "#input central values\n",
    "\n"
   ],
   "metadata": {
    "collapsed": false
   }
  },
  {
   "cell_type": "code",
   "execution_count": 4,
   "outputs": [
    {
     "name": "stdout",
     "output_type": "stream",
     "text": [
      "(771, 9)\n",
      "     preg   plas  pres  skin  test  mass   pedi   age  class\n",
      "440     2  120.0   NaN    26  16.0  36.8  0.766  22.0      0\n",
      "661     2  120.0  58.0    26  16.0   NaN  0.766  22.0      0\n",
      "770     2    NaN  58.0    26   NaN  28.4  0.766   NaN      0\n"
     ]
    }
   ],
   "source": [
    "from pandas import read_csv\n",
    "from numpy import set_printoptions\n",
    "from sklearn import preprocessing\n",
    "from sklearn.impute import SimpleImputer\n",
    "import pandas as pd\n",
    "\n",
    "#loading data into the dataframe\n",
    "header_name = ['preg', 'plas', 'pres', 'skin', 'test', 'mass', 'pedi', 'age', 'class']\n",
    "my_data = read_csv('venv/pima_indians_diabetes_2.csv', names= header_name)\n",
    "\n",
    "print(my_data.shape)\n",
    "\n",
    "#getting the rows with empty values from the actual dataframe\n",
    "empty_values = my_data[my_data.isna().any(axis = 1)]\n",
    "print(empty_values)\n",
    "print('----- empty rows of the diabetic data------')\n",
    "\n",
    "\n"
   ],
   "metadata": {
    "collapsed": false
   }
  },
  {
   "cell_type": "markdown",
   "source": [
    "replacing them with the central value - it could be better to separate the independent variable from the dependent variables"
   ],
   "metadata": {
    "collapsed": false
   }
  },
  {
   "cell_type": "code",
   "execution_count": 9,
   "outputs": [
    {
     "name": "stdout",
     "output_type": "stream",
     "text": [
      "The extracted independent data\n",
      "(771, 8)\n",
      "     preg   plas  pres  skin   test  mass   pedi   age\n",
      "766     2  122.0  70.0    27    0.0  36.8  0.340  27.0\n",
      "767     5  121.0  72.0    23  112.0  26.2  0.245  30.0\n",
      "768     1  126.0  60.0     0    0.0  30.1  0.349  47.0\n",
      "769     1   93.0  70.0    31    0.0  30.4  0.315  23.0\n",
      "770     2    NaN  58.0    26    NaN  28.4  0.766   NaN\n",
      "-------first the last 5 rows of extracted independent data\n"
     ]
    }
   ],
   "source": [
    "#better still use pandas to get the first 8 columns  as the independent data\n",
    "print(\"The extracted independent data\")\n",
    "indepent_variable = my_data[my_data.columns[0:8]]\n",
    "print(indepent_variable.shape)\n",
    "print(indepent_variable.tail(5))\n",
    "print(\"-------first the last 5 rows of extracted independent data-----\")"
   ],
   "metadata": {
    "collapsed": false
   }
  },
  {
   "cell_type": "code",
   "execution_count": 12,
   "outputs": [
    {
     "name": "stdout",
     "output_type": "stream",
     "text": [
      "Empty rows of the extracted independent data\n",
      "     preg   plas  pres  skin  test  mass   pedi   age\n",
      "440     2  120.0   NaN    26  16.0  36.8  0.766  22.0\n",
      "661     2  120.0  58.0    26  16.0   NaN  0.766  22.0\n",
      "770     2    NaN  58.0    26   NaN  28.4  0.766   NaN\n",
      "(771, 8)\n",
      "-------empty rows of extracted independent data ------\n",
      "\n"
     ]
    }
   ],
   "source": [
    "#get the row with empty value in the extracted dataframe\n",
    "print(\"Empty rows of the extracted independent data\")\n",
    "empty_independet = indepent_variable[indepent_variable.isna().any(axis = 1)]\n",
    "print(empty_independet)\n",
    "print(indepent_variable.shape)\n",
    "print(\"-------empty rows of extracted independent data ------\\n\")"
   ],
   "metadata": {
    "collapsed": false
   }
  },
  {
   "cell_type": "markdown",
   "source": [
    "SIMPLEIMPUTER TO REPLACE NULL OR MISSING VALUES"
   ],
   "metadata": {
    "collapsed": false
   }
  },
  {
   "cell_type": "code",
   "execution_count": 21,
   "outputs": [
    {
     "name": "stdout",
     "output_type": "stream",
     "text": [
      "     preg   plas  pres  skin   test  mass   pedi   age\n",
      "766     2  122.0  70.0    27    0.0  36.8  0.340  27.0\n",
      "767     5  121.0  72.0    23  112.0  26.2  0.245  30.0\n",
      "768     1  126.0  60.0     0    0.0  30.1  0.349  47.0\n",
      "769     1   93.0  70.0    31    0.0  30.4  0.315  23.0\n",
      "770     2    NaN  58.0    26    NaN  28.4  0.766   NaN\n",
      "       0           1     2     3           4     5      6          7    8\n",
      "766  2.0  122.000000  70.0  27.0    0.000000  36.8  0.340  27.000000  0.0\n",
      "767  5.0  121.000000  72.0  23.0  112.000000  26.2  0.245  30.000000  0.0\n",
      "768  1.0  126.000000  60.0   0.0    0.000000  30.1  0.349  47.000000  1.0\n",
      "769  1.0   93.000000  70.0  31.0    0.000000  30.4  0.315  23.000000  0.0\n",
      "770  2.0  120.892208  58.0  26.0   79.633766  28.4  0.766  33.211688  0.0\n"
     ]
    }
   ],
   "source": [
    "#use the simple imputer function to replace the null values with median\n",
    "#imputer = SimpleImputer(strategy='median')#replace most_frequent with mean, median and observe\n",
    "#imputer.fit(indepent_variable)\n",
    "#imputer.transform(empty_independet)\n",
    "\n",
    "#use the simple imputer function to replace the null values with mean\n",
    "imputer = SimpleImputer(strategy='mean')#replace most_frequent with mean, median and observe\n",
    "imputer.fit(my_data)\n",
    "new_data = imputer.transform(my_data)\n",
    "new_data = pd.DataFrame(new_data)\n",
    "\n",
    "print(indepent_variable.tail(5))\n",
    "new_data = pd.DataFrame(new_data)\n",
    "print(new_data.tail(5))"
   ],
   "metadata": {
    "collapsed": false
   }
  },
  {
   "cell_type": "markdown",
   "source": [
    "    FEATURE SCALING"
   ],
   "metadata": {
    "collapsed": false
   }
  },
  {
   "cell_type": "code",
   "execution_count": 2,
   "outputs": [
    {
     "name": "stdout",
     "output_type": "stream",
     "text": [
      "(771, 9)\n",
      "     preg   plas  pres  skin  test  mass   pedi   age  class\n",
      "440     2  120.0   NaN    26  16.0  36.8  0.766  22.0      0\n",
      "661     2  120.0  58.0    26  16.0   NaN  0.766  22.0      0\n",
      "770     2    NaN  58.0    26   NaN  28.4  0.766   NaN      0\n",
      "----- empty rows of the diabetic data------\n",
      "       0           1     2     3           4     5      6          7    8\n",
      "766  2.0  122.000000  70.0  27.0    0.000000  36.8  0.340  27.000000  0.0\n",
      "767  5.0  121.000000  72.0  23.0  112.000000  26.2  0.245  30.000000  0.0\n",
      "768  1.0  126.000000  60.0   0.0    0.000000  30.1  0.349  47.000000  1.0\n",
      "769  1.0   93.000000  70.0  31.0    0.000000  30.4  0.315  23.000000  0.0\n",
      "770  2.0  120.892208  58.0  26.0   79.633766  28.4  0.766  33.211688  0.0\n",
      "\n",
      " Scaled data:\n",
      " [[0.4 0.7 0.6 0.4 0.  0.5 0.2 0.5 1. ]\n",
      " [0.1 0.4 0.5 0.3 0.  0.4 0.1 0.2 0. ]\n",
      " [0.5 0.9 0.5 0.  0.  0.3 0.3 0.2 1. ]\n",
      " [0.1 0.4 0.5 0.2 0.1 0.4 0.  0.  0. ]\n",
      " [0.  0.7 0.3 0.4 0.2 0.6 0.9 0.2 1. ]\n",
      " [0.3 0.6 0.6 0.  0.  0.4 0.1 0.2 0. ]\n",
      " [0.2 0.4 0.4 0.3 0.1 0.5 0.1 0.1 1. ]\n",
      " [0.6 0.6 0.  0.  0.  0.5 0.  0.1 0. ]\n",
      " [0.1 1.  0.6 0.5 0.6 0.5 0.  0.5 1. ]\n",
      " [0.5 0.6 0.8 0.  0.  0.  0.1 0.6 1. ]]\n"
     ]
    }
   ],
   "source": [
    "# scaling using the MinMaxscaler\n",
    "from pandas import read_csv\n",
    "from numpy import set_printoptions\n",
    "from sklearn import preprocessing\n",
    "from sklearn.impute import SimpleImputer\n",
    "import pandas as pd\n",
    "\n",
    "#loading data into the dataframe\n",
    "header_name = ['preg', 'plas', 'pres', 'skin', 'test', 'mass', 'pedi', 'age', 'class']\n",
    "my_data = read_csv('venv/pima_indians_diabetes_2.csv', names= header_name)\n",
    "\n",
    "print(my_data.shape)\n",
    "\n",
    "#getting the rows with empty values from the actual dataframe\n",
    "empty_values = my_data[my_data.isna().any(axis = 1)]\n",
    "print(empty_values)\n",
    "print('----- empty rows of the diabetic data------')\n",
    "imputer = SimpleImputer(strategy='mean')#replace most_frequent with mean, median and observe\n",
    "imputer.fit(my_data)\n",
    "new_data = imputer.transform(my_data)\n",
    "new_data = pd.DataFrame(new_data)\n",
    "\n",
    "\n",
    "new_data = pd.DataFrame(new_data)\n",
    "print(new_data.tail(5))\n",
    "\n",
    "scale_data_array = preprocessing.MinMaxScaler(feature_range=(0,1))\n",
    "rescaler_data_array = scale_data_array.fit_transform(new_data)\n",
    "\n",
    "set_printoptions(precision=1)\n",
    "print(\"\\n Scaled data:\\n\", rescaler_data_array[0:10])"
   ],
   "metadata": {
    "collapsed": false
   }
  },
  {
   "cell_type": "markdown",
   "source": [
    "    L1 Normalisation"
   ],
   "metadata": {
    "collapsed": false
   }
  },
  {
   "cell_type": "code",
   "execution_count": 3,
   "outputs": [
    {
     "name": "stdout",
     "output_type": "stream",
     "text": [
      "(771, 9)\n",
      "     preg   plas  pres  skin  test  mass   pedi   age  class\n",
      "440     2  120.0   NaN    26  16.0  36.8  0.766  22.0      0\n",
      "661     2  120.0  58.0    26  16.0   NaN  0.766  22.0      0\n",
      "770     2    NaN  58.0    26   NaN  28.4  0.766   NaN      0\n",
      "----- empty rows of the diabetic data------\n",
      "       0           1     2     3           4     5      6          7    8\n",
      "766  2.0  122.000000  70.0  27.0    0.000000  36.8  0.340  27.000000  0.0\n",
      "767  5.0  121.000000  72.0  23.0  112.000000  26.2  0.245  30.000000  0.0\n",
      "768  1.0  126.000000  60.0   0.0    0.000000  30.1  0.349  47.000000  1.0\n",
      "769  1.0   93.000000  70.0  31.0    0.000000  30.4  0.315  23.000000  0.0\n",
      "770  2.0  120.892208  58.0  26.0   79.633766  28.4  0.766  33.211688  0.0\n",
      "\n",
      " My normalized data; \n",
      " [[0.02 0.43 0.21 0.1  0.   0.1  0.   0.14 0.  ]\n",
      " [0.   0.36 0.28 0.12 0.   0.11 0.   0.13 0.  ]\n",
      " [0.03 0.59 0.21 0.   0.   0.07 0.   0.1  0.  ]]\n"
     ]
    }
   ],
   "source": [
    "#Normalisation L1\n",
    "from pandas import read_csv\n",
    "from numpy import set_printoptions\n",
    "from sklearn import preprocessing\n",
    "from sklearn.impute import SimpleImputer\n",
    "from sklearn.preprocessing import Normalizer\n",
    "\n",
    "#loading data into the dataframe\n",
    "header_name = ['preg', 'plas', 'pres', 'skin', 'test', 'mass', 'pedi', 'age', 'class']\n",
    "my_data = read_csv('venv/pima_indians_diabetes_2.csv', names= header_name)\n",
    "\n",
    "print(my_data.shape)\n",
    "\n",
    "#getting the rows with empty values from the actual dataframe\n",
    "empty_values = my_data[my_data.isna().any(axis = 1)]\n",
    "print(empty_values)\n",
    "print('----- empty rows of the diabetic data------')\n",
    "imputer = SimpleImputer(strategy='mean')#replace most_frequent with mean, median and observe\n",
    "imputer.fit(my_data)\n",
    "new_data = imputer.transform(my_data)\n",
    "new_data = pd.DataFrame(new_data)\n",
    "\n",
    "\n",
    "new_data = pd.DataFrame(new_data)\n",
    "print(new_data.tail(5))\n",
    "\n",
    "my_data_normalizer  = Normalizer(norm='l1').fit(new_data)\n",
    "my_normalized_data = my_data_normalizer.transform(new_data)\n",
    "\n",
    "set_printoptions(precision=2)\n",
    "print(\"\\n My normalized data; \\n\", my_normalized_data [0:3])"
   ],
   "metadata": {
    "collapsed": false
   }
  },
  {
   "cell_type": "markdown",
   "source": [
    "    L2 Normalization"
   ],
   "metadata": {
    "collapsed": false
   }
  },
  {
   "cell_type": "code",
   "execution_count": 4,
   "outputs": [
    {
     "name": "stdout",
     "output_type": "stream",
     "text": [
      "(771, 9)\n",
      "     preg   plas  pres  skin  test  mass   pedi   age  class\n",
      "440     2  120.0   NaN    26  16.0  36.8  0.766  22.0      0\n",
      "661     2  120.0  58.0    26  16.0   NaN  0.766  22.0      0\n",
      "770     2    NaN  58.0    26   NaN  28.4  0.766   NaN      0\n",
      "----- empty rows of the diabetic data------\n",
      "       0           1     2     3           4     5      6          7    8\n",
      "766  2.0  122.000000  70.0  27.0    0.000000  36.8  0.340  27.000000  0.0\n",
      "767  5.0  121.000000  72.0  23.0  112.000000  26.2  0.245  30.000000  0.0\n",
      "768  1.0  126.000000  60.0   0.0    0.000000  30.1  0.349  47.000000  1.0\n",
      "769  1.0   93.000000  70.0  31.0    0.000000  30.4  0.315  23.000000  0.0\n",
      "770  2.0  120.892208  58.0  26.0   79.633766  28.4  0.766  33.211688  0.0\n",
      "\n",
      " My normalized data; \n",
      " [[0.01 0.81 0.47 0.18 0.   0.24 0.   0.18 0.  ]\n",
      " [0.03 0.65 0.39 0.12 0.6  0.14 0.   0.16 0.  ]\n",
      " [0.01 0.84 0.4  0.   0.   0.2  0.   0.31 0.01]\n",
      " [0.01 0.74 0.55 0.25 0.   0.24 0.   0.18 0.  ]]\n"
     ]
    }
   ],
   "source": [
    "#Normalisation L1\n",
    "from pandas import read_csv\n",
    "from numpy import set_printoptions\n",
    "from sklearn import preprocessing\n",
    "from sklearn.impute import SimpleImputer\n",
    "from sklearn.preprocessing import Normalizer\n",
    "\n",
    "#loading data into the dataframe\n",
    "header_name = ['preg', 'plas', 'pres', 'skin', 'test', 'mass', 'pedi', 'age', 'class']\n",
    "my_data = read_csv('venv/pima_indians_diabetes_2.csv', names= header_name)\n",
    "\n",
    "print(my_data.shape)\n",
    "\n",
    "#getting the rows with empty values from the actual dataframe\n",
    "empty_values = my_data[my_data.isna().any(axis = 1)]\n",
    "print(empty_values)\n",
    "print('----- empty rows of the diabetic data------')\n",
    "imputer = SimpleImputer(strategy='mean')#replace most_frequent with mean, median and observe\n",
    "imputer.fit(my_data)\n",
    "new_data = imputer.transform(my_data)\n",
    "new_data = pd.DataFrame(new_data)\n",
    "\n",
    "\n",
    "new_data = pd.DataFrame(new_data)\n",
    "print(new_data.tail(5))\n",
    "\n",
    "my_data_normalizer  = Normalizer(norm='l2').fit(new_data)\n",
    "my_normalized_data = my_data_normalizer.transform(new_data)\n",
    "\n",
    "set_printoptions(precision=2)\n",
    "print(\"\\n My normalized data; \\n\", my_normalized_data [766:770])"
   ],
   "metadata": {
    "collapsed": false
   }
  },
  {
   "cell_type": "markdown",
   "source": [
    "    Binarization"
   ],
   "metadata": {
    "collapsed": false
   }
  },
  {
   "cell_type": "code",
   "execution_count": 7,
   "outputs": [
    {
     "name": "stdout",
     "output_type": "stream",
     "text": [
      "(771, 9)\n",
      "     preg   plas  pres  skin  test  mass   pedi   age  class\n",
      "440     2  120.0   NaN    26  16.0  36.8  0.766  22.0      0\n",
      "661     2  120.0  58.0    26  16.0   NaN  0.766  22.0      0\n",
      "770     2    NaN  58.0    26   NaN  28.4  0.766   NaN      0\n",
      "----- empty rows of the diabetic data------\n",
      "       0           1     2     3           4     5      6          7    8\n",
      "766  2.0  122.000000  70.0  27.0    0.000000  36.8  0.340  27.000000  0.0\n",
      "767  5.0  121.000000  72.0  23.0  112.000000  26.2  0.245  30.000000  0.0\n",
      "768  1.0  126.000000  60.0   0.0    0.000000  30.1  0.349  47.000000  1.0\n",
      "769  1.0   93.000000  70.0  31.0    0.000000  30.4  0.315  23.000000  0.0\n",
      "770  2.0  120.892208  58.0  26.0   79.633766  28.4  0.766  33.211688  0.0\n",
      "\n",
      " My binarized data:  [[1. 1. 1. 1. 0. 1. 0. 1. 0.]\n",
      " [1. 1. 1. 1. 1. 1. 0. 1. 0.]\n",
      " [1. 1. 1. 0. 0. 1. 0. 1. 1.]\n",
      " [1. 1. 1. 1. 0. 1. 0. 1. 0.]]\n"
     ]
    }
   ],
   "source": [
    "#Binarization\n",
    "from pandas import read_csv\n",
    "from numpy import set_printoptions\n",
    "from sklearn import preprocessing\n",
    "from sklearn.impute import SimpleImputer\n",
    "from sklearn.preprocessing import Binarizer\n",
    "\n",
    "#loading data into the dataframe\n",
    "header_name = ['preg', 'plas', 'pres', 'skin', 'test', 'mass', 'pedi', 'age', 'class']\n",
    "my_data = read_csv('venv/pima_indians_diabetes_2.csv', names= header_name)\n",
    "\n",
    "print(my_data.shape)\n",
    "\n",
    "#getting the rows with empty values from the actual dataframe\n",
    "empty_values = my_data[my_data.isna().any(axis = 1)]\n",
    "print(empty_values)\n",
    "print('----- empty rows of the diabetic data------')\n",
    "imputer = SimpleImputer(strategy='mean')#replace most_frequent with mean, median and observe\n",
    "imputer.fit(my_data)\n",
    "new_data = imputer.transform(my_data)\n",
    "new_data = pd.DataFrame(new_data)\n",
    "\n",
    "\n",
    "new_data = pd.DataFrame(new_data)\n",
    "print(new_data.tail(5))\n",
    "\n",
    "data_array = new_data.values\n",
    "\n",
    "\n",
    "binarized_data = Binarizer(threshold=0.5).fit(data_array)\n",
    "Data_binarized = binarized_data.transform(data_array)\n",
    "\n",
    "set_printoptions(precision=2)\n",
    "print(\"\\n My binarized data: \", Data_binarized [766:770])"
   ],
   "metadata": {
    "collapsed": false
   }
  },
  {
   "cell_type": "markdown",
   "source": [
    "    Standardisation"
   ],
   "metadata": {
    "collapsed": false
   }
  },
  {
   "cell_type": "code",
   "execution_count": 9,
   "outputs": [
    {
     "name": "stdout",
     "output_type": "stream",
     "text": [
      "(771, 9)\n",
      "     preg   plas  pres  skin  test  mass   pedi   age  class\n",
      "440     2  120.0   NaN    26  16.0  36.8  0.766  22.0      0\n",
      "661     2  120.0  58.0    26  16.0   NaN  0.766  22.0      0\n",
      "770     2    NaN  58.0    26   NaN  28.4  0.766   NaN      0\n",
      "----- empty rows of the diabetic data------\n",
      "       0           1     2     3           4     5      6          7    8\n",
      "766  2.0  122.000000  70.0  27.0    0.000000  36.8  0.340  27.000000  0.0\n",
      "767  5.0  121.000000  72.0  23.0  112.000000  26.2  0.245  30.000000  0.0\n",
      "768  1.0  126.000000  60.0   0.0    0.000000  30.1  0.349  47.000000  1.0\n",
      "769  1.0   93.000000  70.0  31.0    0.000000  30.4  0.315  23.000000  0.0\n",
      "770  2.0  120.892208  58.0  26.0   79.633766  28.4  0.766  33.211688  0.0\n",
      "\n",
      " My Standard rescaled  data:  [[ 1.83 -0.62  0.36  1.72  0.87  0.12 -0.91  2.54 -0.73]\n",
      " [-0.55  0.03  0.05  0.4  -0.69  0.61 -0.4  -0.53 -0.73]\n",
      " [ 0.35  0.    0.15  0.15  0.28 -0.74 -0.69 -0.27 -0.73]\n",
      " [-0.84  0.16 -0.47 -1.29 -0.69 -0.24 -0.37  1.17  1.37]\n",
      " [-0.84 -0.87  0.05  0.66 -0.69 -0.2  -0.48 -0.87 -0.73]]\n"
     ]
    }
   ],
   "source": [
    "#Standardisation\n",
    "from pandas import read_csv\n",
    "from numpy import set_printoptions\n",
    "from sklearn import preprocessing\n",
    "from sklearn.impute import SimpleImputer\n",
    "from sklearn.preprocessing import StandardScaler\n",
    "\n",
    "#loading data into the dataframe\n",
    "header_name = ['preg', 'plas', 'pres', 'skin', 'test', 'mass', 'pedi', 'age', 'class']\n",
    "my_data = read_csv('venv/pima_indians_diabetes_2.csv', names= header_name)\n",
    "\n",
    "print(my_data.shape)\n",
    "\n",
    "#getting the rows with empty values from the actual dataframe\n",
    "empty_values = my_data[my_data.isna().any(axis = 1)]\n",
    "print(empty_values)\n",
    "print('----- empty rows of the diabetic data------')\n",
    "imputer = SimpleImputer(strategy='mean')#replace most_frequent with mean, median and observe\n",
    "imputer.fit(my_data)\n",
    "new_data = imputer.transform(my_data)\n",
    "new_data = pd.DataFrame(new_data)\n",
    "\n",
    "\n",
    "new_data = pd.DataFrame(new_data)\n",
    "print(new_data.tail(5))\n",
    "\n",
    "data_array = new_data.values\n",
    "\n",
    "data_scaler = StandardScaler().fit(data_array)\n",
    "data_rescaled = data_scaler.transform(data_array)\n",
    "\n",
    "set_printoptions(precision=2)\n",
    "print(\"\\n My Standard rescaled  data: \", data_rescaled [765:770])"
   ],
   "metadata": {
    "collapsed": false
   }
  },
  {
   "cell_type": "code",
   "execution_count": null,
   "outputs": [],
   "source": [],
   "metadata": {
    "collapsed": false
   }
  }
 ],
 "metadata": {
  "kernelspec": {
   "display_name": "Python 3",
   "language": "python",
   "name": "python3"
  },
  "language_info": {
   "codemirror_mode": {
    "name": "ipython",
    "version": 2
   },
   "file_extension": ".py",
   "mimetype": "text/x-python",
   "name": "python",
   "nbconvert_exporter": "python",
   "pygments_lexer": "ipython2",
   "version": "2.7.6"
  }
 },
 "nbformat": 4,
 "nbformat_minor": 0
}

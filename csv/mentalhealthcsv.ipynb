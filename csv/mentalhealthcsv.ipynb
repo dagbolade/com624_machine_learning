{
 "cells": [
  {
   "cell_type": "code",
   "execution_count": 8,
   "metadata": {
    "collapsed": true
   },
   "outputs": [
    {
     "name": "stdout",
     "output_type": "stream",
     "text": [
      "the columns names are : \n",
      " Timestamp, dob, gender, countryofresidence, birthpositionfather, birthpositionmother, ethnicity, highesteducation, occupation, averagedayworkinghours, averagebreakperday, averageyearholiday, maritalstatus, homeresidentialstatus, hometype, religion, childhoodliving, currentliving, psychoactivesubstance, ageofpsychoactivesubstance, mentalhealthhistory, yearofdiagnosis, mentalsymptoms, mentalhealthtype, mentalhealthtreatment, medications, everadmittedformentalhealth,  admissionage, treatmentcarepathway, chronicillness, fatherdeadoralive, deathcausefather, fatherdeathdate, fatherageatdeath, dobfather, farthermaritalstatus, motherdeadoralive, deathcausemother, motherdeathdate, motherdeathage, dobmother, mothermaritalstatus, familybackground, familymentalhealthhistory, sucideinfamily, householdincome, last3weeksfeeling, chronicillnesses, forensicissues, homicidehistory, socialmediauasge, socialmediauseperday, \n",
      "\t 1 2020/04/12 10:55:12 PM GMT+1   \n",
      "\t 2 2020/04/12 11:03:39 PM GMT+1 27/03/1986 Male \n",
      "\t 3 2020/04/13 8:53:19 AM GMT+1 20/06/1980 Male \n",
      "\t 4 2020/04/25 10:12:39 PM GMT+1 26/11/1986 Male \n",
      "\t 5 2020/04/25 11:12:09 PM GMT+1 06/07/1985 Female England \n",
      "\t 6 2020/04/25 11:18:57 PM GMT+1 06/03/1988 Male Gambia\n",
      "\t 7 2020/04/25 11:19:22 PM GMT+1 18/12/1992 Female England \n",
      "\t 8 2020/04/25 11:24:47 PM GMT+1 02/09/2000 Male Uk\n",
      "\t 9 2020/04/25 11:26:11 PM GMT+1 21/03/1985 Female United States\n",
      "\t 10 2020/04/25 11:31:40 PM GMT+1  Female UK \n",
      "\t 11 2020/04/25 11:34:08 PM GMT+1 16/09/1985 Female United Kingdom\n",
      "\t 12 2020/04/25 11:37:15 PM GMT+1 25/08/1982 Male United Kingdom\n",
      "\t 13 2020/04/25 11:39:23 PM GMT+1 30/03/1987 Male UK\n",
      "\t 14 2020/04/25 11:44:13 PM GMT+1 08/01/1990 Female England \n",
      "\t 15 2020/04/25 11:44:44 PM GMT+1 23/03/1991 Male England\n",
      "\t 16 2020/04/25 11:45:56 PM GMT+1 16/09/1976 Male Scotland\n",
      "\t 17 2020/04/26 12:04:30 AM GMT+1 17/01/1965 Male The Gambia \n",
      "\t 18 2020/04/26 12:10:18 AM GMT+1 10/11/2020 Female England \n",
      "\t 19 2020/04/26 12:23:36 AM GMT+1 01/11/1998 Female Gambia\n",
      "\t 20 2020/04/26 12:27:09 AM GMT+1 08/11/1997 Female The Gambia\n",
      "\t 21 2020/04/26 12:27:14 AM GMT+1 15/03/1999 Female The Gambia \n",
      "\t 22 2020/04/26 12:27:33 AM GMT+1 22/09/2020 Male MoÅ•roco \n",
      "\t 23 2020/04/26 12:28:32 AM GMT+1 16/12/1990 Female Gambia\n",
      "\t 24 2020/04/26 12:30:12 AM GMT+1   \n",
      "\t 25 2020/04/26 12:31:11 AM GMT+1 16/04/2020 Male Germany \n",
      "\t 26 2020/04/26 12:31:56 AM GMT+1 07/09/1986 Female Gambia\n",
      "\t 27 2020/04/26 12:33:43 AM GMT+1 05/10/1969 Male The Gambia \n",
      "\t 28 2020/04/26 12:35:50 AM GMT+1 26/10/1981 Male The Gambia\n",
      "\t 29 2020/04/26 12:35:57 AM GMT+1 13/12/2000 Female United Kingdom \n",
      "\t 30 2020/04/26 12:41:57 AM GMT+1 05/09/2020 Male Gambia\n",
      "\t 31 2020/04/26 12:49:46 AM GMT+1 06/06/2000 Female Gambia \n",
      "\t 32 2020/04/26 12:57:06 AM GMT+1 11/07/1981 Male Gambia \n",
      "\t 33 2020/04/26 12:57:12 AM GMT+1 08/09/2020 Female United kingdom \n",
      "\t 34 2020/04/26 1:04:06 AM GMT+1 26/11/2001 Female England \n",
      "\t 35 2020/04/26 1:17:33 AM GMT+1 23/12/1996 Female Gambia\n",
      "\t 36 2020/04/26 1:17:40 AM GMT+1 20/10/1977 Female United States\n",
      "\t 37 2020/04/26 1:20:09 AM GMT+1 30/09/1997 Female England \n",
      "\t 38 2020/04/26 1:31:58 AM GMT+1 17/03/1990 Male England\n",
      "\t 39 2020/04/26 1:37:11 AM GMT+1 21/01/2001 Female Gambia\n",
      "\t 40 2020/04/26 1:42:02 AM GMT+1 13/02/1979 Female United States\n",
      "\t 41 2020/04/26 1:45:14 AM GMT+1 03/05/1995 Male England\n",
      "\t 42 2020/04/26 1:52:05 AM GMT+1  Male NewYork \n",
      "\t 43 2020/04/26 2:04:50 AM GMT+1 22/10/1985 Female Uk\n",
      "\t 44 2020/04/26 2:07:05 AM GMT+1 22/11/1979 Female USA\n",
      "\t 45 2020/04/26 2:21:55 AM GMT+1  Female United Kingdom \n",
      "\t 46 2020/04/26 2:25:23 AM GMT+1 19/01/1982 Female The Gambia\n",
      "\t 47 2020/04/26 2:25:48 AM GMT+1 27/05/1982 Male Nigeria\n",
      "\t 48 2020/04/26 2:26:58 AM GMT+1 06/09/1988 Female The Gambia \n",
      "\t 49 2020/04/26 2:38:43 AM GMT+1   \n",
      "\t 50 2020/04/26 2:44:27 AM GMT+1 01/01/1987 Female United States \n",
      "\t 51 2020/04/26 3:08:59 AM GMT+1 31/01/1992 Female United States\n",
      "\t 52 2020/04/26 3:09:00 AM GMT+1 11/07/2003 Female Gambia ðŸ‡¬ðŸ‡² \n",
      "\t 53 2020/04/26 3:10:58 AM GMT+1 09/10/1993 Female United States\n",
      "\t 54 2020/04/26 3:14:18 AM GMT+1  Female United Kingdom \n",
      "\t 55 2020/04/26 3:20:02 AM GMT+1 04/03/1992 Female USA\n",
      "\t 56 2020/04/26 3:27:38 AM GMT+1 22/02/1996 Female United States \n",
      "\t 57 2020/04/26 3:36:46 AM GMT+1 16/01/1994 Female USA\n",
      "\t 58 2020/04/26 3:37:39 AM GMT+1 28/10/1990 Female UK\n",
      "\t 59 2020/04/26 3:49:42 AM GMT+1 03/01/1982 Female Canada\n",
      "\t 60 2020/04/26 4:06:01 AM GMT+1 04/03/1992 Female USA\n",
      "\t 61 2020/04/26 4:15:42 AM GMT+1 30/07/1993 Female United States of America\n",
      "\t 62 2020/04/26 4:29:49 AM GMT+1 23/03/1992 Male USA\n",
      "\t 63 2020/04/26 4:45:36 AM GMT+1 09/11/1980 Female USA\n",
      "\t 64 2020/04/26 7:26:36 AM GMT+1 01/05/1996 Female Gambia\n",
      "\t 65 2020/04/26 7:35:02 AM GMT+1 28/02/1986 Female Uk\n",
      "\t 66 2020/04/26 7:36:03 AM GMT+1 24/11/1986 Male England \n",
      "\t 67 2020/04/26 8:21:36 AM GMT+1 26/11/1985 Male Italy\n",
      "\t 68 2020/04/26 8:26:06 AM GMT+1  Male \n",
      "\t 69 2020/04/26 8:29:49 AM GMT+1 21/02/1990 Female England\n",
      "\t 70 2020/04/26 9:16:23 AM GMT+1 29/11/1978 Female UK\n",
      "\t 71 2020/04/26 9:46:35 AM GMT+1 20/10/1992 Male England\n",
      "\t 72 2020/04/26 10:11:40 AM GMT+1 06/06/1962 Male GAMBIA\n",
      "\t 73 2020/04/26 10:17:08 AM GMT+1 22/02/1996 Female United States \n",
      "\t 74 2020/04/26 10:48:15 AM GMT+1 06/09/1978 Female England\n",
      "\t 75 2020/04/26 11:28:18 AM GMT+1 19/01/1994 Female USA\n",
      "\t 76 2020/04/26 11:48:51 AM GMT+1 21/03/1997 Male United Kingdom\n",
      "\t 77 2020/04/26 12:15:09 PM GMT+1 09/03/1979 Female USA\n",
      "\t 78 2020/04/26 12:17:18 PM GMT+1 03/11/1996 Female Dubai\n",
      "\t 79 2020/04/26 12:20:57 PM GMT+1 02/08/1984 Female USA\n",
      "\t 80 2020/04/26 12:33:39 PM GMT+1   \n",
      "\t 81 2020/04/26 12:36:02 PM GMT+1 01/12/1986 Male UK \n",
      "\t 82 2020/04/26 12:49:48 PM GMT+1 16/09/1981 Male United Kingdom\n",
      "\t 83 2020/04/26 12:55:19 PM GMT+1 13/12/1983 Female NYC\n",
      "\t 84 2020/04/26 12:55:45 PM GMT+1 04/09/1980 Female United States\n",
      "\t 85 2020/04/26 12:56:04 PM GMT+1 13/09/1972 Female USA\n",
      "\t 86 2020/04/26 12:56:20 PM GMT+1 04/05/1990 Female The Gambia\n",
      "\t 87 2020/04/26 12:58:49 PM GMT+1 07/08/1987 Male London \n",
      "\t 88 2020/04/26 12:59:28 PM GMT+1 23/11/1974 Male The Gambia \n",
      "\t 89 2020/04/26 1:44:16 PM GMT+1 05/10/1988 Female Germany \n",
      "\t 90 2020/04/26 1:53:41 PM GMT+1 06/10/2020 Female Gambia \n",
      "\t 91 2020/04/26 1:55:31 PM GMT+1 17/04/1970 Male UK\n",
      "\t 92 2020/04/26 2:05:59 PM GMT+1 05/09/2020 Male Gambia\n",
      "\t 93 2020/04/26 2:12:41 PM GMT+1 26/04/2020 Male United States\n",
      "\t 94 2020/04/26 2:24:38 PM GMT+1  Male USA \n",
      "\t 95 2020/04/26 2:25:23 PM GMT+1 28/10/1986 Male England\n"
     ]
    },
    {
     "ename": "UnicodeDecodeError",
     "evalue": "'charmap' codec can't decode byte 0x81 in position 708: character maps to <undefined>",
     "output_type": "error",
     "traceback": [
      "\u001B[1;31m---------------------------------------------------------------------------\u001B[0m",
      "\u001B[1;31mUnicodeDecodeError\u001B[0m                        Traceback (most recent call last)",
      "Cell \u001B[1;32mIn [8], line 8\u001B[0m\n\u001B[0;32m      6\u001B[0m \u001B[38;5;66;03m#line counts\u001B[39;00m\n\u001B[0;32m      7\u001B[0m line_count \u001B[38;5;241m=\u001B[39m \u001B[38;5;241m0\u001B[39m\n\u001B[1;32m----> 8\u001B[0m \u001B[38;5;28;01mfor\u001B[39;00m rows \u001B[38;5;129;01min\u001B[39;00m read_myCSV:\n\u001B[0;32m      9\u001B[0m     \u001B[38;5;28;01mif\u001B[39;00m line_count \u001B[38;5;241m==\u001B[39m \u001B[38;5;241m0\u001B[39m:\n\u001B[0;32m     10\u001B[0m          \u001B[38;5;28mprint\u001B[39m(\u001B[38;5;124mf\u001B[39m\u001B[38;5;124m\"\u001B[39m\u001B[38;5;124mthe columns names are : \u001B[39m\u001B[38;5;130;01m\\n\u001B[39;00m\u001B[38;5;124m \u001B[39m\u001B[38;5;132;01m{\u001B[39;00m\u001B[38;5;124m'\u001B[39m\u001B[38;5;124m, \u001B[39m\u001B[38;5;124m'\u001B[39m\u001B[38;5;241m.\u001B[39mjoin(rows)\u001B[38;5;132;01m}\u001B[39;00m\u001B[38;5;124m\"\u001B[39m)\n",
      "File \u001B[1;32m~\\AppData\\Local\\Programs\\Python\\Python310\\lib\\encodings\\cp1252.py:23\u001B[0m, in \u001B[0;36mIncrementalDecoder.decode\u001B[1;34m(self, input, final)\u001B[0m\n\u001B[0;32m     22\u001B[0m \u001B[38;5;28;01mdef\u001B[39;00m \u001B[38;5;21mdecode\u001B[39m(\u001B[38;5;28mself\u001B[39m, \u001B[38;5;28minput\u001B[39m, final\u001B[38;5;241m=\u001B[39m\u001B[38;5;28;01mFalse\u001B[39;00m):\n\u001B[1;32m---> 23\u001B[0m     \u001B[38;5;28;01mreturn\u001B[39;00m \u001B[43mcodecs\u001B[49m\u001B[38;5;241;43m.\u001B[39;49m\u001B[43mcharmap_decode\u001B[49m\u001B[43m(\u001B[49m\u001B[38;5;28;43minput\u001B[39;49m\u001B[43m,\u001B[49m\u001B[38;5;28;43mself\u001B[39;49m\u001B[38;5;241;43m.\u001B[39;49m\u001B[43merrors\u001B[49m\u001B[43m,\u001B[49m\u001B[43mdecoding_table\u001B[49m\u001B[43m)\u001B[49m[\u001B[38;5;241m0\u001B[39m]\n",
      "\u001B[1;31mUnicodeDecodeError\u001B[0m: 'charmap' codec can't decode byte 0x81 in position 708: character maps to <undefined>"
     ]
    }
   ],
   "source": [
    "import csv\n",
    "\n",
    "with open('venv/MentalHQ2020.csv') as csvfile:\n",
    "    read_myCSV =  csv.reader(csvfile, delimiter = ',')\n",
    "\n",
    "    #line counts\n",
    "    line_count = 0\n",
    "    for rows in read_myCSV:\n",
    "        if line_count == 0:\n",
    "             print(f\"the columns names are : \\n {', '.join(rows)}\")\n",
    "             line_count += 1\n",
    "        elif rows == \"\":\n",
    "            print(\"empty rows\")\n",
    "        else:\n",
    "            print(f'\\t {line_count} {rows[0]} {rows[1]} {rows[2]} {rows[3]}')\n",
    "            line_count += 1\n",
    "\n",
    "\n",
    "\n",
    "\n"
   ]
  },
  {
   "cell_type": "code",
   "execution_count": 14,
   "outputs": [
    {
     "name": "stdout",
     "output_type": "stream",
     "text": [
      "Number of Rows: 542\n",
      "Number of Columns: 53\n"
     ]
    }
   ],
   "source": [
    "import csv\n",
    "import pandas as pd\n",
    "df = pd.read_csv('venv/MentalHQ2020.csv')\n",
    "#===> reads in all the rows, but skips the first one as it is a header.\n",
    "\n",
    "total_rows=len(df.axes[0]) #===> Axes of 0 is for a row\n",
    "total_cols=len(df.axes[1]) #===> Axes of 0 is for a column\n",
    "print(\"Number of Rows: \"+str(total_rows))\n",
    "print(\"Number of Columns: \"+str(total_cols))\n"
   ],
   "metadata": {
    "collapsed": false
   }
  },
  {
   "cell_type": "code",
   "execution_count": null,
   "outputs": [],
   "source": [],
   "metadata": {
    "collapsed": false
   }
  }
 ],
 "metadata": {
  "kernelspec": {
   "display_name": "Python 3",
   "language": "python",
   "name": "python3"
  },
  "language_info": {
   "codemirror_mode": {
    "name": "ipython",
    "version": 2
   },
   "file_extension": ".py",
   "mimetype": "text/x-python",
   "name": "python",
   "nbconvert_exporter": "python",
   "pygments_lexer": "ipython2",
   "version": "2.7.6"
  }
 },
 "nbformat": 4,
 "nbformat_minor": 0
}

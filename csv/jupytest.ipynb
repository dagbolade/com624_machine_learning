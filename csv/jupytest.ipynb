{
 "cells": [
  {
   "cell_type": "code",
   "execution_count": 1,
   "outputs": [
    {
     "data": {
      "text/plain": "10"
     },
     "execution_count": 1,
     "metadata": {},
     "output_type": "execute_result"
    }
   ],
   "source": [
    "5+5"
   ],
   "metadata": {
    "collapsed": false
   }
  },
  {
   "cell_type": "code",
   "execution_count": 10,
   "metadata": {
    "collapsed": true
   },
   "outputs": [
    {
     "name": "stdout",
     "output_type": "stream",
     "text": [
      "['Timestamp', 'dob', 'gender', 'countryofresidence', 'birthpositionfather', 'birthpositionmother', 'ethnicity', 'highesteducation', 'occupation', 'averagedayworkinghours', 'averagebreakperday', 'averageyearholiday', 'maritalstatus', 'homeresidentialstatus', 'hometype', 'religion', 'childhoodliving', 'currentliving', 'psychoactivesubstance', 'ageofpsychoactivesubstance', 'mentalhealthhistory', 'yearofdiagnosis', 'mentalsymptoms', 'mentalhealthtype', 'mentalhealthtreatment', 'medications', 'everadmittedformentalhealth', ' admissionage', 'treatmentcarepathway', 'chronicillness', 'fatherdeadoralive', 'deathcausefather', 'fatherdeathdate', 'fatherageatdeath', 'dobfather', 'farthermaritalstatus', 'motherdeadoralive', 'deathcausemother', 'motherdeathdate', 'motherdeathage', 'dobmother', 'mothermaritalstatus', 'familybackground', 'familymentalhealthhistory', 'sucideinfamily', 'householdincome', 'last3weeksfeeling', 'chronicillnesses', 'forensicissues', 'homicidehistory', 'socialmediauasge', 'socialmediauseperday', '']\n",
      "['2020/04/12 10:55:12 PM GMT+1', '', '', '', '', '', '', '', '', '', '', '', '', '', '', '', '', '', '', '', '', '', '', '', '', '', '', '', '', '', '', '', '', '', '', '', '', '', '', '', '', '', '', '', '', '', '', '', '', '', '', '', '']\n",
      "['2020/04/12 11:03:39 PM GMT+1', '27/03/1986', 'Male', '', '2', '2', 'Black / African / Caribbean / Black British', 'Certificate', 'Government and Public Administration', '', '', '', 'married', 'Other', '', 'Other', 'With mother', 'With family', 'None', '0', 'No', '', '', '', '', '', '', '', '', '', 'Alive', '', '', '', '01/01/1900', 'Married', 'Alive', '', '', '', '55', 'Married', 'Monogamy', 'Non', 'Not applicable', '', '', '', 'None', 'None', 'Facebook;YouTube;WhatApp', '2', 'Other']\n",
      "['2020/04/13 8:53:19 AM GMT+1', '20/06/1980', 'Male', '', '1', '1', 'Black / African / Caribbean / Black British', 'Masters or equivalent', 'Education and Training', '', '', '', 'married', 'Privately owned', '', 'Islam', 'Both parents', 'With family', 'None', '0', 'No', '', '', '', '', '', '', '', '', '', 'Alive', '', '', '', '04/04/1952', 'Married', 'Alive', '', '', '', '62', 'Married', 'Monogamy', 'None', 'Not applicable', '', '', '', 'None', 'None', 'Facebook;WhatApp', '3', 'Islam']\n",
      "['2020/04/25 10:12:39 PM GMT+1', '26/11/1986', 'Male', '', '4', '4', 'Black / African / Caribbean / Black British', 'Masters or equivalent', 'Science, Technology, Engineering and Mathematics', '8hrs', '1', '1 to 10 days', 'married', 'Owner occupied', 'Semi detached house', 'Islam', 'with both parents', 'with family', 'None', '', 'No', '', '', '', '', '', '', '', '', '', 'Dead', 'Heart complications', '23/05/2018', '61 to 75', '', '', 'Alive', '', '', '', '10/05/1956', 'Widower', 'Monogamy', 'None', 'Not applicable', 'Average', 'significant tiredness, low energy or problems sleeping', 'None', 'None', 'None', 'Facebook;Twitter;YouTube;WhatApp;LinkedIn', '3 hrs to 5 hrs', '']\n",
      "['2020/04/25 11:12:09 PM GMT+1', '06/07/1985', 'Female', 'England ', '1', '1', 'Black / African / Caribbean / Black British', 'Degree or equivalent', 'Education and Training', 'Less than 1 hr', '0', '0', 'Divorced', 'Housing association', 'Terraced house', 'Islam', 'with relatives', 'with family', 'None', '', 'No', '', '', '', '', '', '', '', '', '', 'Alive', '', '', '', '', 'Single', 'Alive', '', '', '', '', 'Single', 'Never married', 'None', 'Not applicable', 'Low', 'Feeling sad and down', 'None', 'None', '', 'Facebook;Instagram;WhatApp', 'less than 1 hour', '']\n",
      "['2020/04/25 11:18:57 PM GMT+1', '06/03/1988', 'Male', 'Gambia', '3', '2', 'Black / African / Caribbean / Black British', 'Degree or equivalent', 'Information Technology', '9hrs', '1', '1 to 10 days', 'married', 'Owner occupied', 'Flats', 'Islam', 'with both parents', 'with family', 'None', '', 'No', '', '', '', '', '', '', '', '', '', 'Alive', '', '', '', '03/05/1943', 'Married', 'Alive', '', '', '', '25/07/1965', 'Married', 'Polygamy', 'Eating disorders', 'Not applicable', 'Average', 'Major changes in eating habits', 'None', 'None', 'None', 'Facebook;Instagram;Twitter;SnapChat;Tik Tok;YouTube;WhatApp;LinkedIn', '10hrs plus', '']\n",
      "['2020/04/25 11:19:22 PM GMT+1', '18/12/1992', 'Female', 'England ', '2', '2', 'Black / African / Caribbean / Black British', 'Certificate', 'Government and Public Administration', '12hrs', '4', '21 to 30 days', 'never married', 'Owner occupied', 'Semi detached house', 'Islam', 'with both parents', 'with family', 'None', '', 'No', '', '', '', '', '', '', '', '', '', 'Alive', '', '', '', '08/08/1964', 'Married', 'Alive', '', '', '', '09/02/1964', 'Married', 'Monogamy', 'None', 'Not applicable', 'Average', 'Withdrawals from friends and activities;Sex drive changes', 'None', 'None', 'None', 'Facebook;Instagram;Twitter;SnapChat;YouTube;WhatApp', '6 hrs to 10 hrs', '']\n",
      "['2020/04/25 11:24:47 PM GMT+1', '02/09/2000', 'Male', 'Uk', '1', '3', 'Black / African / Caribbean / Black British', 'Degree or equivalent', 'Science, Technology, Engineering and Mathematics', '9hrs', '2', '11 to 20 days', 'married', 'Housing association', 'Flats', 'Islam', 'with mother', 'with family', 'Alcohol;Tobacco;Cannabis', 'Adolescence (Ages 12-20)', 'No', '', '', '', '', '', '', '', '', '', 'Alive', '', '', '', '15/06/1963', 'Married', 'Alive', '', '', '', '08/02/1968', 'Single', 'Polygamy', 'None', 'Not applicable', 'Average', 'significant tiredness, low energy or problems sleeping', 'None', 'Arrest', 'None', 'Facebook;WhatApp', '3 hrs to 5 hrs', '']\n",
      "['2020/04/25 11:26:11 PM GMT+1', '21/03/1985', 'Female', 'United States', '4', '3', 'Black / African / Caribbean / Black British', 'Degree or equivalent', 'Health Science', '8hrs', '3', '1 to 10 days', 'never married', 'Other', 'Detached house', 'Islam', 'with both parents', 'with family', 'None', 'Early Adulthood (Ages 20-35)', 'No', '', '', '', '', '', '', '', '', '', 'Alive', '', '', '', '21/05/1950', 'Married', 'Alive', '', '', '', '07/08/1958', 'Married', 'Monogamy', 'None', 'Not applicable', 'Average', 'None', 'None', 'None', 'None', 'Facebook;Instagram;Twitter;SnapChat;Tik Tok;YouTube;WhatApp;LinkedIn', '1 hr to 2 hrs', '']\n",
      "['2020/04/25 11:31:40 PM GMT+1', '', 'Female', 'UK ', '1', '1', 'Black / African / Caribbean / Black British', 'Degree or equivalent', 'Health Science', '10hrs', '1', '1 to 10 days', 'married', 'Private rented', 'Semi detached house', 'Christianity', 'with both parents', 'with family', 'None', '', 'No', '', '', '', '', '', '', '', '', '', 'Dead', 'Chronic disease', '', '61 to 75', '', 'Married', 'Alive', '', '', '', '', 'Widower', 'Monogamy', 'None', 'Not applicable', 'Average', 'None', 'None', 'None', 'None', 'Facebook;Instagram;WhatApp;LinkedIn', '3 hrs to 5 hrs', '']\n",
      "['2020/04/25 11:34:08 PM GMT+1', '16/09/1985', 'Female', 'United Kingdom', '5', '3', 'White', 'Certificate', 'Unemployed', 'Less than 1 hr', '5', '11 to 20 days', 'married', 'Local authority', 'Semi detached house', 'Other', 'with mother', 'with family', 'Tobacco', 'Adolescence (Ages 12-20)', 'Yes', '01/06/1996', 'Feeling sad or down;Extreme mood changes of highs and lows;Inability to cope with daily problems or stress', 'Depression', 'Medication/ Pills;Therapy', 'Antidepressants ', 'No', '', 'Hospital referral', 'None', 'Alive', '', '', '', '15/10/1952', 'Single', 'Alive', '', '', '', '28/02/1956', 'Married', 'Monogamy', 'Depression;Attention deficit hyperactivity disorder', 'Not applicable', 'Average', 'None', 'None', 'None', 'None', 'Facebook;Instagram;Twitter;SnapChat;Tik Tok;YouTube;WhatApp', '1 hr to 2 hrs', '']\n",
      "['2020/04/25 11:37:15 PM GMT+1', '25/08/1982', 'Male', 'United Kingdom', '1', '1', 'Black / African / Caribbean / Black British', 'Degree or equivalent', 'Information Technology', '', '2', '11 to 20 days', 'married', 'Private rented', 'Flats', 'Christianity', 'with relatives', 'alone', 'Alcohol', 'Early Adulthood (Ages 20-35)', 'No', '', '', '', '', '', '', '', '', '', 'Alive', '', '', '', '31/03/1950', 'Married', 'Dead', 'Road injury', '08/10/2008', '46 to 60', '26/06/1953', 'Married', 'Polygamy', 'Depression', 'Not applicable', 'Average', 'Extreme mood changes of highs and lows;Withdrawals from friends and activities', 'None', 'None', 'None', 'Facebook;WhatApp;LinkedIn', '1 hr to 2 hrs', '']\n",
      "['2020/04/25 11:39:23 PM GMT+1', '30/03/1987', 'Male', 'UK', '4', '3', 'Black / African / Caribbean / Black British', 'Masters or equivalent', 'Government and Public Administration', '8hrs', '3', '1 to 10 days', 'married', 'Private rented', 'Flats', 'Islam', 'with mother', 'with family', 'None', '', 'No', '', '', '', '', '', '', '', '', '', 'Alive', '', '', '', '28/10/1959', 'Married', 'Alive', '', '', '', '12/07/1960', 'Single', 'Never married', 'None', 'Not applicable', 'Average', 'None', 'None', 'None', 'None', 'WhatApp;LinkedIn', '1 hr to 2 hrs', '']\n",
      "['2020/04/25 11:44:13 PM GMT+1', '08/01/1990', 'Female', 'England ', '1', '7', 'Asian / Asian British', 'PHD and above', 'Science, Technology, Engineering and Mathematics', 'Less than 1 hr', '0', '0', 'never married', 'Housing association', 'Detached house', 'Islam', 'with both parents', 'with family', 'None', '', 'Yes', '', 'Feeling sad or down;Extreme mood changes of highs and lows;Significant tiredness, low energy or problems sleeping;Inability to cope with daily problems or stress;Excessive anger, hostility or violence', 'Anxiety & panic attacks;Depression', 'Therapy', '', 'No', '16 to 25', '', 'None', 'Alive', '', '', '', '', 'Married', 'Alive', '', '', '', '', 'Married', 'Monogamy', 'Depression', 'Not applicable', 'Average', 'Feeling sad and down;Extreme mood changes of highs and lows;Sex drive changes;Excessive anger, hostility or violence', 'None', 'None', 'None', 'Facebook;Instagram;Twitter;SnapChat;WhatApp;LinkedIn', '3 hrs to 5 hrs', '']\n",
      "['2020/04/25 11:44:44 PM GMT+1', '23/03/1991', 'Male', 'England', '1', '1', 'Black / African / Caribbean / Black British', 'Certificate', 'Architecture and Construction', '11hrs', '1', '1 to 10 days', 'never married', 'Owner occupied', 'Semi detached house', 'Islam', 'with both parents', 'with family', 'None', '', 'No', '', '', '', '', '', '', '', '', '', 'Alive', '', '', '', '08/08/1962', 'Married', 'Alive', '', '', '', '09/02/1962', 'Married', 'Monogamy', 'None', 'Not applicable', 'Average', 'Withdrawals from friends and activities', 'None', 'None', 'None', 'Facebook;Instagram;SnapChat;WhatApp', '3 hrs to 5 hrs', '']\n",
      "['2020/04/25 11:45:56 PM GMT+1', '16/09/1976', 'Male', 'Scotland', '3', '3', 'Black / African / Caribbean / Black British', 'Masters or equivalent', 'Information Technology', '8hrs', '0', '11 to 20 days', 'married', 'Housing association', 'Flats', 'Islam', 'with father', 'with family', 'None', 'Late Adulthood (Age 80+)', 'No', '', '', '', '', '', '', '', '', '', 'Alive', '', '', '', '16/09/1943', 'Married', 'Dead', 'Natural cause', '25/01/2009', '46 to 60', '23/12/1953', 'Married', 'Polygamy', 'None', 'Not applicable', 'Low', 'Feeling sad and down', 'None', 'None', 'None', 'Facebook;Instagram;Twitter;SnapChat;Tik Tok;YouTube;WhatApp;LinkedIn', '6 hrs to 10 hrs', '']\n",
      "['2020/04/26 12:04:30 AM GMT+1', '17/01/1965', 'Male', 'The Gambia ', '8', '7', 'Black / African / Caribbean / Black British', 'Masters or equivalent', 'Science, Technology, Engineering and Mathematics', '8hrs', '4', '21 to 30 days', 'married', 'Owner occupied', 'Bungalow', 'Islam', 'with both parents', 'with family', 'None', '', 'No', '', '', '', '', '', '', '', '', '', 'Dead', 'Old age', '07/03/2003', '76 to 90', '05/12/1919', 'Married', 'Dead', 'Natural cause', '10/11/2000', '61 to 75', '10/03/1930', 'Married', 'Polygamy', 'Schizophrenia', 'Not applicable', 'Above average', 'Extreme mood changes of highs and lows;significant tiredness, low energy or problems sleeping', 'Arthritis', 'None', 'None', 'Facebook;SnapChat;YouTube;WhatApp;LinkedIn', '3 hrs to 5 hrs', '']\n",
      "['2020/04/26 12:10:18 AM GMT+1', '10/11/2020', 'Female', 'England ', '3', '3', 'Black / African / Caribbean / Black British', 'Degree or equivalent', 'Arts, Audio/Video Technology and Communications', '12hrs', '2', '11 to 20 days', 'never married', 'Private rented', 'Other', 'Islam', 'with both parents', 'with family', 'None', '', 'No', '', '', '', '', '', '', '', '', '', 'Alive', '', '', '', '22/07/1962', 'Married', 'Alive', '', '', '', '05/04/1969', 'Single', 'Never married', 'Bipolar disorder;Depression;Personality disorders;Post Traumatic Stress Disorder (PTSD);Autism', 'Not applicable', 'Average', 'Extreme mood changes of highs and lows;Major changes in eating habits', 'None', 'None', 'Other', 'Facebook;Instagram;Twitter;SnapChat;Tik Tok;YouTube;WhatApp;LinkedIn', 'less than 1 hour', '']\n",
      "['2020/04/26 12:23:36 AM GMT+1', '01/11/1998', 'Female', 'Gambia', '2', '1', 'Black / African / Caribbean / Black British', 'Degree or equivalent', 'Business Management and Administration', '9hrs', '10', '1 to 10 days', 'never married', 'Owner occupied', 'Flats', 'Islam', 'with mother', 'with relative', 'None', 'Not applicable', 'No', '', '', '', '', '', '', '', '', '', 'Alive', '', '', '', '11/11/1963', 'Single', 'Alive', '', '', '', '26/06/1968', 'Single', 'Polygamy', 'None', 'Not applicable', 'Average', 'Feeling sad and down;confuse thinking or reduced ability to concentrate', 'None', 'None', 'None', 'Facebook;Instagram;Twitter;SnapChat;Tik Tok;YouTube;WhatApp', '3 hrs to 5 hrs', '']\n",
      "['2020/04/26 12:27:09 AM GMT+1', '08/11/1997', 'Female', 'The Gambia', '1', '1', 'Black / African / Caribbean / Black British', 'Degree or equivalent', 'Health Science', '3hrs', '3', '0', 'never married', 'Other', 'Detached house', 'Islam', 'with mother', 'with family', 'None', 'Not applicable', 'No', '', '', '', '', '', '', '', '', '', 'Dead', 'other', '17/04/2020', '61 to 75', '09/09/1950', 'Married', 'Alive', '', '', '', '', 'Married', 'Monogamy', 'None', 'Not applicable', 'Average', 'Feeling sad and down;Inability to cope with daily problems or stress', 'None', 'None', 'None', 'Instagram;Twitter;SnapChat;Tik Tok;YouTube;WhatApp', '1 hr to 2 hrs', '']\n",
      "['2020/04/26 12:27:14 AM GMT+1', '15/03/1999', 'Female', 'The Gambia ', '3', '3', 'Black / African / Caribbean / Black British', 'Degree or equivalent', 'Law, Public Safety, Corrections and Security', '8hrs', '5', '0', 'never married', 'Owner occupied', 'Bungalow', 'Islam', 'with both parents', 'with family', 'None', 'Not applicable', 'No', '', '', '', '', '', '', '', '', '', 'Alive', '', '', '', '28/03/2020', 'Married', 'Alive', '', '', '', '03/05/2020', 'Married', 'Monogamy', 'Anxiety & panic attacks;Eating disorders;None', 'Not applicable', 'Above average', 'Feeling sad and down;confuse thinking or reduced ability to concentrate;Exessive fearss or worries, or extreme feelings of guily;Extreme mood changes of highs and lows;Detachment from reality (delusions), paranoia or halucinations', 'None', 'None', 'None', 'Instagram;SnapChat;YouTube;WhatApp', '6 hrs to 10 hrs', '']\n",
      "['2020/04/26 12:27:33 AM GMT+1', '22/09/2020', 'Male', 'MoÅ•roco ', '3', '3', 'Black / African / Caribbean / Black British', 'Degree or equivalent', 'Health Science', '8hrs', '1', '30 to 40 days', 'never married', 'Private rented', 'Other', 'Islam', 'with both parents', 'alone', 'None', 'Not applicable', 'No', '', '', '', '', '', '', '', '', '', 'Alive', '', '', '', '06/08/2020', 'Married', 'Alive', '', '', '', '08/04/2020', 'Married', 'Monogamy', 'None', 'Not applicable', 'Average', 'confuse thinking or reduced ability to concentrate;Extreme mood changes of highs and lows;Withdrawals from friends and activities', 'None', 'None', 'Other', 'Facebook;Instagram;Twitter;SnapChat;YouTube;WhatApp', '3 hrs to 5 hrs', '']\n",
      "['2020/04/26 12:28:32 AM GMT+1', '16/12/1990', 'Female', 'Gambia', '1', '1', 'Black / African / Caribbean / Black British', 'Degree or equivalent', 'Finance', '8hrs', '2', '30 to 40 days', 'never married', 'Private rented', 'Bungalow', 'Islam', 'with relatives', 'with family', 'None', 'Not applicable', 'No', '', '', '', '', '', '', '', '', '', 'Alive', '', '', '', '', 'Married', 'Alive', '', '', '', '', 'Married', 'Polygamy', 'Psychosis', 'Not applicable', 'Average', 'Feeling sad and down;Extreme mood changes of highs and lows', 'None', 'None', 'None', 'Instagram;Twitter;SnapChat;WhatApp;LinkedIn', '3 hrs to 5 hrs', '']\n",
      "['2020/04/26 12:30:12 AM GMT+1', '', '', '', '', '', '', '', '', '', '', '', '', '', '', '', '', '', '', '', '', '', '', '', '', '', '', '', '', '', '', '', '', '', '', '', '', '', '', '', '', '', '', '', '', '', '', '', '', '', '', '', '']\n",
      "['2020/04/26 12:31:11 AM GMT+1', '16/04/2020', 'Male', 'Germany ', '8', '10', 'Black / African / Caribbean / Black British', 'Certificate', 'Transportation, Distribution and Logistics', '8hrs', '1', '30 to 40 days', 'married', 'Private rented', 'Terraced house', 'Islam', 'with both parents', 'alone', '', '', 'No', '', '', '', '', '', '', '', '', '', 'Dead', 'Old age', '', '', '', 'Married', 'Dead', 'Other', '', '', '', 'Married', 'Polygamy', 'None', '', 'Average', 'Feeling sad and down', 'None', 'None', 'None', 'Facebook;WhatApp', '1 hr to 2 hrs', '']\n",
      "['2020/04/26 12:31:56 AM GMT+1', '07/09/1986', 'Female', 'Gambia', '6', '4', 'Black / African / Caribbean / Black British', 'Certificate', '', '8hrs', '1', '11 to 20 days', 'married', 'Owner occupied', 'Cottage', 'Islam', 'with mother', 'with civil Partner', 'None', 'Not applicable', 'No', '', '', '', '', '', '', '', '', '', 'Dead', 'Natural cause', '19/01/2015', '61 to 75', '14/06/1950', 'Married', 'Dead', 'Natural cause', '26/09/1998', '46 to 60', '', 'Married', 'Polygamy', 'Depression', 'Not applicable', 'Low', 'Feeling sad and down;Extreme mood changes of highs and lows;Withdrawals from friends and activities;significant tiredness, low energy or problems sleeping', 'None', 'None', 'None', 'Facebook;Instagram;Twitter;SnapChat;Tik Tok;YouTube;WhatApp', '3 hrs to 5 hrs', '']\n",
      "['2020/04/26 12:33:43 AM GMT+1', '05/10/1969', 'Male', 'The Gambia ', '4', '1', 'Black / African / Caribbean / Black British', 'Certificate', 'Information Technology', '8hrs', '1', '0', 'married', 'Owner occupied', 'Semi detached house', 'Islam', 'with both parents', 'with family', 'None', 'Early Adulthood (Ages 20-35)', 'No', '', '', '', '', '', '', '', '', '', 'Alive', '', '', '', '06/06/1935', 'Married', 'Alive', '', '', '', '31/08/1950', 'Married', 'Serial Monogamy', 'None', 'Not applicable', 'Average', 'None', 'None', 'None', 'None', 'Facebook;Instagram;Twitter;YouTube;WhatApp;LinkedIn', '3 hrs to 5 hrs', '']\n",
      "['2020/04/26 12:35:50 AM GMT+1', '26/10/1981', 'Male', 'The Gambia', '3', '1', 'Black / African / Caribbean / Black British', 'Degree or equivalent', 'Business Management and Administration', '8hrs', '2', '21 to 30 days', 'married', 'Private rented', 'Flats', 'Islam', 'with mother', 'with family', 'Tobacco;Cannabis', 'Early Adulthood (Ages 20-35)', 'No', '', '', '', '', '', '', '', '', '', 'Dead', 'Chronic disease', '02/06/1999', '46 to 60', '29/09/1940', 'Married', 'Alive', '', '', '', '29/09/1955', 'Married', 'Monogamy', 'None', 'Not applicable', 'Average', 'Feeling sad and down;Major changes in eating habits;Sex drive changes;Excessive anger, hostility or violence', 'None', 'None', 'None', 'Facebook;WhatApp', '1 hr to 2 hrs', '']\n",
      "['2020/04/26 12:35:57 AM GMT+1', '13/12/2000', 'Female', 'United Kingdom ', '4', '2', 'Mixed / Multiple ethnic groups', 'Secondary', 'Health Science', '10hrs', '4', '11 to 20 days', 'never married', 'Other', 'Semi detached house', 'Islam', 'with mother', 'with family', '', 'Not applicable', 'Yes', '01/04/2000', 'Feeling sad or down;Excessive fears or worries, or extreme feelings of guilt;Extreme mood changes of highs and lows', 'Anxiety & panic attacks;Post Traumatic Stress Disorder (PTSD)', 'CBT', '', 'No', '16 to 25', 'Traditional', 'None', 'Alive', '', '', '', '23/09/1965', 'Married', 'Alive', '', '', '', '19/09/1972', 'Single', 'Never married', 'Anxiety & panic attacks;Depression;Post Traumatic Stress Disorder (PTSD);Attention deficit hyperactivity disorder;Autism', 'Not applicable', 'Low', 'confuse thinking or reduced ability to concentrate;Extreme mood changes of highs and lows;Withdrawals from friends and activities;significant tiredness, low energy or problems sleeping', 'None', 'None', 'None', 'Instagram;SnapChat;WhatApp', '1 hr to 2 hrs', '']\n",
      "['2020/04/26 12:41:57 AM GMT+1', '05/09/2020', 'Male', 'Gambia', '2', '1', 'Black / African / Caribbean / Black British', 'Certificate', 'Unemployed', '12hrs', '0', '1 to 10 days', 'widow', 'Housing association', 'Semi detached house', 'Islam', 'with mother', 'with family', 'None', 'Middle Childhood (Ages 6-8)', 'No', '', '', '', '', '', '', '', '', '', 'Alive', '', '', '', '08/12/1964', 'Married', 'Alive', '', '', '', '14/11/1976', 'Married', 'Polygamy', 'None', 'Not applicable', 'high', 'significant tiredness, low energy or problems sleeping', 'None', 'None', 'None', 'Facebook;Instagram;SnapChat;Tik Tok;YouTube;WhatApp', '10hrs plus', '']\n",
      "['2020/04/26 12:49:46 AM GMT+1', '06/06/2000', 'Female', 'Gambia ', '4', '2', 'Black / African / Caribbean / Black British', 'Certificate', 'Finance', '', '', '', 'never married', 'Other', '', 'Islam', 'with both parents', 'with family', 'None', 'Not applicable', 'No', '', '', '', '', '', '', '', '', '', 'Alive', '', '', '', '12/02/1965', 'Married', 'Alive', '', '', '', '12/02/1965', 'Married', '', 'None', 'Not applicable', 'Average', 'None', 'None', 'None', 'None', 'Instagram;SnapChat;WhatApp', '1 hr to 2 hrs', '']\n",
      "['2020/04/26 12:57:06 AM GMT+1', '11/07/1981', 'Male', 'Gambia ', '8', '2', 'Black / African / Caribbean / Black British', 'Degree or equivalent', 'Architecture and Construction', '8hrs', '1', '0', 'married', 'Owner occupied', 'Bungalow', 'Islam', 'with father', 'with family', 'Tobacco', 'Early Adulthood (Ages 20-35)', 'No', '', '', '', '', '', '', '', '', '', 'Dead', 'Natural cause', '29/07/2005', '61 to 75', '', 'Married', 'Alive', '', '', '', '', 'Married', 'Polygamy', 'None', 'Not applicable', 'Average', 'None', 'None', 'None', 'None', 'Facebook;Instagram;YouTube;WhatApp;LinkedIn', '3 hrs to 5 hrs', '']\n",
      "['2020/04/26 12:57:12 AM GMT+1', '08/09/2020', 'Female', 'United kingdom ', '1', '4', 'Black / African / Caribbean / Black British', 'Certificate', 'Finance', '8hrs', '3', '11 to 20 days', 'Prefer not to say', 'Private rented', 'Flats', 'Islam', 'with relatives', 'alone', 'None', 'Not applicable', 'No', '', '', '', '', '', '', '', '', '', 'Dead', 'Natural cause', '24/12/2015', '46 to 60', '01/08/1970', 'Married', 'Alive', '', '', '', '06/09/1972', 'Married', 'Polygamy', 'None', 'Not applicable', 'Average', 'None', 'None', 'None', 'None', 'SnapChat;Tik Tok;WhatApp', '10hrs plus', '']\n",
      "['2020/04/26 1:04:06 AM GMT+1', '26/11/2001', 'Female', 'England ', '3', '3', 'Black / African / Caribbean / Black British', 'Certificate', 'Unemployed', 'Less than 1 hr', '0', '0', 'never married', 'Owner occupied', 'Semi detached house', 'Islam', 'with both parents', 'with family', 'None', 'Not applicable', 'No', '', '', '', '', '', '', '', '', '', 'Alive', '', '', '', '08/08/1964', 'Married', 'Alive', '', '', '', '09/02/1964', 'Married', 'Monogamy', 'None', 'Not applicable', 'Average', 'Feeling sad and down', 'None', 'None', 'None', 'Facebook;Instagram;SnapChat;Tik Tok;YouTube;WhatApp', '6 hrs to 10 hrs', '']\n",
      "['2020/04/26 1:17:33 AM GMT+1', '23/12/1996', 'Female', 'Gambia', '1', '1', 'Mixed / Multiple ethnic groups', 'Degree or equivalent', 'Business Management and Administration', '11hrs', '2', '1 to 10 days', 'never married', 'Private rented', 'Flats', 'Islam', 'with mother', 'alone', 'None', 'Not applicable', 'No', '', '', '', '', '', '', '', '', '', 'Dead', 'other', '18/06/2014', '61 to 75', '28/08/1952', 'Married', 'Alive', '', '', '', '08/06/1977', 'Married', 'Monogamy', 'None', '', 'Above average', 'Feeling sad and down;confuse thinking or reduced ability to concentrate;Exessive fearss or worries, or extreme feelings of guily;Extreme mood changes of highs and lows;significant tiredness, low energy or problems sleeping', '', 'None', 'None', 'Facebook;Instagram;YouTube;WhatApp', 'Option 2', '']\n",
      "['2020/04/26 1:17:40 AM GMT+1', '20/10/1977', 'Female', 'United States', '1', '1', 'Black / African / Caribbean / Black British', 'Degree or equivalent', 'Finance', '8hrs', '3', '1 to 10 days', 'married', 'Owner occupied', 'Detached house', 'Islam', 'with both parents', 'with family', 'None', 'Not applicable', 'No', '', '', '', '', '', '', '', '', '', 'Dead', 'Natural cause', '24/05/2018', '61 to 75', '12/05/1940', 'Married', 'Alive', '', '', '', '1050-01-08', 'Married', 'Monogamy', 'None', 'Not applicable', 'high', 'None', 'H', 'Other', 'Other', 'Instagram;WhatApp;LinkedIn', 'less than 1 hour', '']\n",
      "['2020/04/26 1:20:09 AM GMT+1', '30/09/1997', 'Female', 'England ', '1', '1', 'Black / African / Caribbean / Black British', 'Certificate', 'Health Science', '12hrs', '3', '41 to 50 days plus', 'married', 'Local authority', 'Detached house', 'Islam', 'with both parents', 'with family', 'None', 'Not applicable', 'No', '', '', '', '', '', '', '', '', '', 'Alive', '', '', '', '07/04/1966', 'Married', 'Alive', '', '', '', '26/04/1977', 'Married', 'Polygamy', 'None', 'Not applicable', 'Average', 'None', 'None', 'None', 'None', 'Facebook;Instagram;SnapChat;Tik Tok;WhatApp', '3 hrs to 5 hrs', '']\n",
      "['2020/04/26 1:31:58 AM GMT+1', '17/03/1990', 'Male', 'England', '4', '4', 'Black / African / Caribbean / Black British', 'Certificate', 'Government and Public Administration', '9hrs', '2', '11 to 20 days', 'married', 'Other', 'Semi detached house', 'Islam', 'with both parents', 'with civil Partner', 'None', 'Not applicable', 'No', '', '', '', '', '', '', '', '', '', 'Alive', '', '', '', '01/04/1940', 'Married', 'Alive', '', '', '', '17/03/1949', 'Married', 'Polygamy', 'None', 'Not applicable', 'Average', 'None', 'None', 'None', 'None', 'WhatApp', '1 hr to 2 hrs', '']\n",
      "['2020/04/26 1:37:11 AM GMT+1', '21/01/2001', 'Female', 'Gambia', '2', '1', 'Other ethnic group', 'Certificate', 'Government and Public Administration', 'Less than 1 hr', '0', '1 to 10 days', 'never married', 'Housing association', 'Terraced house', 'Christianity', 'with relatives', 'with relative', 'None', 'Not applicable', 'No', '', '', '', '', '', '', '', '', '', 'Alive', '', '', '', '28/10/1979', 'Single', 'Alive', '', '', '', '22/02/1983', 'Single', 'Monogamy', 'Personality disorders', 'Not applicable', 'Low', 'Feeling sad and down;confuse thinking or reduced ability to concentrate;Extreme mood changes of highs and lows;Withdrawals from friends and activities;Sex drive changes', 'None', 'None', 'None', 'Facebook;Instagram;SnapChat;Tik Tok;YouTube;WhatApp', '6 hrs to 10 hrs', '']\n",
      "['2020/04/26 1:42:02 AM GMT+1', '13/02/1979', 'Female', 'United States', '8', '10', 'Asian / Asian British', 'Degree or equivalent', 'Marketing, Sales and Service', '8hrs', '2', '11 to 20 days', 'never married', 'Private rented', 'Detached house', 'Islam', 'with both parents', 'with family', 'Alcohol', 'Early Adulthood (Ages 20-35)', 'No', '', '', '', '', '', '', '', '', '', 'Dead', 'Chronic disease', '10/05/2005', '15 to 30', '17/06/1943', 'Married', 'Alive', '', '', '', '19/02/1950', 'Widower', 'Monogamy', 'None', '', 'Low', 'confuse thinking or reduced ability to concentrate', 'None', 'None', 'None', 'Facebook;Instagram;WhatApp;LinkedIn', '1 hr to 2 hrs', '']\n",
      "['2020/04/26 1:45:14 AM GMT+1', '03/05/1995', 'Male', 'England', '5', '5', 'Other ethnic group', 'Degree or equivalent', 'Unemployed', 'Less than 1 hr', '0', '1 to 10 days', 'never married', 'Private rented', 'Terraced house', 'Other', 'with both parents', 'with family', 'None', 'Not applicable', 'No', '', '', '', '', '', '', '', '', '', 'Alive', '', '', '', '05/04/1965', 'Married', 'Alive', '', '', '', '09/02/1967', 'Married', 'Monogamy', 'Anxiety & panic attacks;Depression', 'Not applicable', 'Average', 'None', 'None', 'Other', 'Other', 'WhatApp;LinkedIn', 'less than 1 hour', '']\n",
      "['2020/04/26 1:52:05 AM GMT+1', '', 'Male', 'NewYork ', '2', '2', 'Black / African / Caribbean / Black British', 'Degree or equivalent', 'Information Technology', '11hrs', '1', '0', 'never married', 'Private rented', 'Flats', 'Islam', 'with both parents', 'co-habitat', 'None', 'Not applicable', 'No', '', '', '', '', '', '', '', '', '', 'Alive', '', '', '', '17/03/1987', 'Married', 'Alive', '', '', '', '', 'Married', 'Polygamy', 'None', 'Not applicable', 'Average', 'Extreme mood changes of highs and lows;Major changes in eating habits', 'Jangoro kajorr', 'None', 'None', 'Facebook;Instagram;Twitter;Tik Tok;YouTube;WhatApp;LinkedIn', '3 hrs to 5 hrs', '']\n",
      "['2020/04/26 2:04:50 AM GMT+1', '22/10/1985', 'Female', 'Uk', '10', '3', 'Black / African / Caribbean / Black British', 'Masters or equivalent', 'Business Management and Administration', '8hrs', '2', '1 to 10 days', 'married', 'Housing association', 'Flats', 'Islam', 'with mother', 'with family', 'None', 'Not applicable', 'No', '', '', '', '', '', '', '', '', '', 'Alive', '', '', '', '01/01/1950', 'Widower', 'Dead', 'Other', '05/05/2015', '46 to 60', '25/12/1959', 'Married', 'Polygamy', 'None', 'Not applicable', 'Average', 'None', 'None', 'None', 'None', 'Facebook;Instagram;Tik Tok;WhatApp', '6 hrs to 10 hrs', '']\n",
      "['2020/04/26 2:07:05 AM GMT+1', '22/11/1979', 'Female', 'USA', '10', '1', 'White', 'Degree or equivalent', 'Architecture and Construction', '8hrs', '2', '1 to 10 days', 'never married', '', 'Flats', 'Judaism', 'with mother', 'with family', 'None', 'Not applicable', 'No', '', '', '', '', '', '', '', '', '', 'Alive', '', '', '', '01/04/1952', 'Widower', 'Alive', '', '', '', '24/09/1956', 'Single', 'Monogamy', 'None', 'Not applicable', 'Average', 'None', '', 'Other', 'Other', 'Facebook;Instagram;YouTube;WhatApp', '6 hrs to 10 hrs', '']\n",
      "['2020/04/26 2:21:55 AM GMT+1', '', 'Female', 'United Kingdom ', '4', '5', 'Black / African / Caribbean / Black British', 'Certificate', 'Agriculture, Food and Natural Resources', '8hrs', '1', '1 to 10 days', 'never married', 'Local authority', 'Flats', 'Islam', 'with relatives', 'with family', 'None', 'Not applicable', 'No', '', '', '', '', '', '', '', '', '', 'Alive', '', '', '', '', 'Married', 'Alive', '', '', '', '', 'Widower', 'Monogamy', 'Depression', 'Not applicable', 'Average', 'Feeling sad and down', 'Diabetes', 'None', 'None', 'Facebook;Instagram;SnapChat;Tik Tok;YouTube;WhatApp', '1 hr to 2 hrs', '']\n",
      "['2020/04/26 2:25:23 AM GMT+1', '19/01/1982', 'Female', 'The Gambia', '7', '5', 'Black / African / Caribbean / Black British', 'Certificate', 'Information Technology', '8hrs', '1', '1 to 10 days', 'Divorced', 'Other', 'Bungalow', 'Islam', 'with both parents', 'with family', 'None', 'Not applicable', 'Yes', '11/08/2012', 'Feeling sad or down;Confused thinking or reduced ability to concentrate;Excessive fears or worries, or extreme feelings of guilt;Withdrawal from friends and activities;Significant tiredness, low energy or problems sleeping;Detachment from reality (delusions), paranoia or hallucinations', 'Depression;Obsessive-compulsive disorder', 'Medication/ Pills', 'Fluoxetine', 'No', '', 'Hospital referral', 'None', 'Alive', '', '', '', '20/08/1940', 'Widower', 'Dead', 'Other', '23/11/2003', '46 to 60', '13/07/1945', 'Married', 'Polygamy', 'None', 'Not applicable', 'Average', 'Feeling sad and down', 'None', 'Other', 'None', 'Facebook;Instagram;Twitter;SnapChat;WhatApp', '1 hr to 2 hrs', '']\n",
      "['2020/04/26 2:25:48 AM GMT+1', '27/05/1982', 'Male', 'Nigeria', '2', '2', 'Black / African / Caribbean / Black British', 'Degree or equivalent', 'Health Science', '9hrs', '1', '21 to 30 days', 'married', 'Private rented', 'Flats', 'Christianity', 'with both parents', 'with family', 'None', 'Not applicable', 'No', '', '', '', '', '', '', '', '', '', 'Alive', '', '', '', '15/04/1934', 'Married', 'Alive', '', '', '', '01/11/2016', 'Married', 'Monogamy', 'Depression;Suicidal feelings', 'Fatalistic suicide', 'Average', 'None', 'None', 'None', 'None', 'Facebook;YouTube;WhatApp', '3 hrs to 5 hrs', '']\n",
      "['2020/04/26 2:26:58 AM GMT+1', '06/09/1988', 'Female', 'The Gambia ', '4', '1', 'Black / African / Caribbean / Black British', 'Certificate', 'Arts, Audio/Video Technology and Communications', '8hrs', '3', '11 to 20 days', 'never married', 'Other', 'Bungalow', 'Islam', 'with relatives', 'with relative', 'None', 'Not applicable', 'No', '', '', '', '', '', '', '', '', '', 'Dead', 'He was killed', '14/02/2005', '31 to 45', '05/04/1974', 'Married', 'Alive', '', '', '', '14/02/1970', 'Married', 'Monogamy', 'Personality disorders', 'Not applicable', 'Average', 'Feeling sad and down;confuse thinking or reduced ability to concentrate;Withdrawals from friends and activities;significant tiredness, low energy or problems sleeping;Major changes in eating habits;Sex drive changes', 'None', 'None', 'None', 'Facebook;Instagram;Twitter;SnapChat;YouTube;WhatApp;LinkedIn', '10hrs plus', '']\n",
      "['2020/04/26 2:38:43 AM GMT+1', '', '', '', '', '', '', '', '', '', '', '', '', '', '', '', '', '', '', '', '', '', '', '', '', '', '', '', '', '', '', '', '', '', '', '', '', '', '', '', '', '', '', '', '', '', '', '', '', '', '', '', '']\n",
      "['2020/04/26 2:44:27 AM GMT+1', '01/01/1987', 'Female', 'United States ', '4', '2', 'Black / African / Caribbean / Black British', 'Masters or equivalent', 'Health Science', '8hrs', '3', '1 to 10 days', 'married', 'Owner occupied', 'Detached house', 'Christianity', 'with both parents', 'with family', 'None', 'Not applicable', 'No', '', '', '', '', '', '', '', '', '', 'Alive', '', '', '', '09/09/1948', 'Married', 'Alive', '', '', '', '12/12/1951', 'Married', 'Monogamy', 'None', 'Not applicable', 'Average', 'Feeling sad and down', 'None', 'None', 'None', 'Instagram', '3 hrs to 5 hrs', '']\n",
      "['2020/04/26 3:08:59 AM GMT+1', '31/01/1992', 'Female', 'United States', '5', '1', 'Black / African / Caribbean / Black British', 'Degree or equivalent', 'Health Science', '12hrs', '10', '1 to 10 days', 'never married', 'Private rented', 'Flats', 'Islam', 'with relatives', 'co-habitat', 'None', 'Not applicable', 'No', '', '', '', '', '', '', '', '', '', 'Alive', '', '', '', '24/06/1957', 'Married', 'Alive', '', '', '', '18/07/1957', 'Single', 'Polygamy', 'Bipolar disorder', 'Not applicable', 'Above average', 'None', 'None', 'None', 'None', 'Instagram;SnapChat;Tik Tok;WhatApp;LinkedIn', '3 hrs to 5 hrs', '']\n",
      "['2020/04/26 3:09:00 AM GMT+1', '11/07/2003', 'Female', 'Gambia ðŸ‡¬ðŸ‡² ', '10', '4', 'Other ethnic group', 'Secondary', 'Unemployed', 'Less than 1 hr', '2', '11 to 20 days', 'never married', 'Other', 'Mansion', 'Islam', 'with mother', 'with family', 'None', 'Not applicable', 'No', '', '', '', '', '', '', '', '', '', 'Alive', '', '', '', '04/07/1997', 'Married', 'Alive', '', '', '', '', 'Married', 'Polygamy', 'Other', 'Not applicable', 'Low', 'Feeling sad and down;confuse thinking or reduced ability to concentrate;Exessive fearss or worries, or extreme feelings of guily;Extreme mood changes of highs and lows', 'None', 'None', 'None', 'Facebook;Instagram;SnapChat;Tik Tok;YouTube;WhatApp', '3 hrs to 5 hrs', '']\n",
      "['2020/04/26 3:10:58 AM GMT+1', '09/10/1993', 'Female', 'United States', '1', '2', 'Black / African / Caribbean / Black British', 'Degree or equivalent', 'Health Science', '8hrs', '2', '1 to 10 days', 'never married', 'Private rented', 'Flats', 'Islam', 'with mother', 'co-habitat', 'None', 'Not applicable', 'Yes', '01/01/2018', 'Feeling sad or down;Extreme mood changes of highs and lows;Withdrawal from friends and activities;Significant tiredness, low energy or problems sleeping;Major changes in eating habits;Excessive anger, hostility or violence;Suicidal thinking', 'Depression;Post Traumatic Stress Disorder (PTSD)', 'Therapy', '', 'No', '', 'Other', 'None', 'Alive', '', '', '', '27/05/1962', 'Married', 'Alive', '', '', '', '22/09/1968', 'Married', 'Monogamy', 'Depression;Post Traumatic Stress Disorder (PTSD)', 'Not applicable', 'Average', 'Feeling sad and down;confuse thinking or reduced ability to concentrate;Extreme mood changes of highs and lows;Withdrawals from friends and activities;significant tiredness, low energy or problems sleeping', 'None', 'None', 'None', 'SnapChat;YouTube;WhatApp', '3 hrs to 5 hrs', '']\n",
      "['2020/04/26 3:14:18 AM GMT+1', '', 'Female', 'United Kingdom ', '4', '5', 'Black / African / Caribbean / Black British', 'Certificate', 'Agriculture, Food and Natural Resources', '8hrs', '1', '1 to 10 days', 'never married', 'Local authority', 'Flats', 'Islam', 'with relatives', 'with family', 'None', 'Not applicable', 'No', '', '', '', '', '', '', '', '', '', 'Alive', '', '', '', '', 'Married', 'Alive', '', '', '', '', 'Widower', 'Monogamy', 'Depression', 'Not applicable', 'Average', 'Feeling sad and down', 'Diabetes', 'None', 'None', 'Facebook;Instagram;SnapChat;Tik Tok;YouTube;WhatApp', '1 hr to 2 hrs', '']\n",
      "['2020/04/26 3:20:02 AM GMT+1', '04/03/1992', 'Female', 'USA', '2', '2', 'Black / African / Caribbean / Black British', 'Degree or equivalent', 'Human Services', '7hrs', '2', '1 to 10 days', 'never married', 'Private rented', 'Other', 'Christianity', 'with both parents', 'alone', 'Alcohol;Cannabis', 'Adolescence (Ages 12-20)', 'No', '', '', '', '', '', '', '', '', '', 'Alive', '', '', '', '22/10/1952', 'Married', 'Alive', '', '', '', '02/07/1956', 'Married', 'Monogamy', 'None', 'Not applicable', 'Average', 'None', 'None', 'Other', 'Other', 'Facebook;Instagram;Twitter;SnapChat', '3 hrs to 5 hrs', '']\n",
      "['2020/04/26 3:27:38 AM GMT+1', '22/02/1996', 'Female', 'United States ', '1', '5', 'White', 'Degree or equivalent', 'Health Science', '13+hrs', '1', '1 to 10 days', 'never married', 'Owner occupied', 'Detached house', 'Christianity', 'with both parents', 'with family', 'Alcohol', 'Not applicable', 'Yes', '01/06/2019', 'Feeling sad or down;Excessive fears or worries, or extreme feelings of guilt', 'Anxiety & panic attacks;Depression', 'Medication/ Pills', '', 'No', '', 'Traditional', 'None', 'Alive', '', '', '', '05/03/2020', 'Married', 'Alive', '', '', '', '01/06/2020', 'Married', 'Monogamy', 'None', 'Not applicable', 'Average', 'None', 'None', 'None', 'None', 'Facebook;Instagram;SnapChat;Tik Tok;WhatApp', '1 hr to 2 hrs', '']\n",
      "['2020/04/26 3:36:46 AM GMT+1', '16/01/1994', 'Female', 'USA', '5', '4', 'Black / African / Caribbean / Black British', 'Masters or equivalent', 'Human Services', '8hrs', '2', '1 to 10 days', 'never married', 'Private rented', 'Flats', 'Islam', 'with mother', 'with family', 'Alcohol;Cannabis', 'Early Adulthood (Ages 20-35)', 'No', '', '', '', '', '', '', '', '', '', 'Alive', '', '', '', '05/05/1955', 'Married', 'Alive', '', '', '', '21/09/1961', 'Married', 'Monogamy', 'Bipolar disorder;Depression;Psychosis;Schizophrenia', 'Not applicable', 'Average', 'Feeling sad and down;Exessive fearss or worries, or extreme feelings of guily;Extreme mood changes of highs and lows;Withdrawals from friends and activities;Major changes in eating habits;Excessive anger, hostility or violence', 'None', 'None', 'None', 'Instagram;Twitter;SnapChat;YouTube;WhatApp', '3 hrs to 5 hrs', '']\n",
      "['2020/04/26 3:37:39 AM GMT+1', '28/10/1990', 'Female', 'UK', '8', '9', 'Black / African / Caribbean / Black British', 'Degree or equivalent', '', '13+hrs', '2', '21 to 30 days', 'married', 'Owner occupied', 'Semi detached house', 'Islam', 'with mother', 'with family', 'None', 'Not applicable', 'No', '', '', '', '', '', '', '', '', '', 'Alive', '', '', '', '', 'Married', 'Dead', 'Other', '', '61 to 75', '', 'Widower', 'Polygamy', 'Anxiety & panic attacks;Schizophrenia', 'Not applicable', 'Average', 'None', 'None', 'None', 'None', 'Facebook;Instagram;Twitter;SnapChat;YouTube;WhatApp;LinkedIn', '3 hrs to 5 hrs', '']\n",
      "['2020/04/26 3:49:42 AM GMT+1', '03/01/1982', 'Female', 'Canada', '10', '4', 'Black / African / Caribbean / Black British', 'Degree or equivalent', 'Health Science', '8hrs', '1', '11 to 20 days', 'married', 'Owner occupied', 'Detached house', 'Islam', 'with mother', 'with family', 'None', 'Not applicable', 'No', '', '', '', '', '', '', '', '', '', 'Dead', 'Natural cause', '13/05/2004', '61 to 75', '', 'Married', 'Alive', '', '', '', '01/08/1954', 'Single', 'Polygamy', 'Post Traumatic Stress Disorder (PTSD)', 'Not applicable', 'Above average', 'Feeling sad and down;Exessive fearss or worries, or extreme feelings of guily;Extreme mood changes of highs and lows;Withdrawals from friends and activities', 'High cholesterol ', 'None', 'None', 'Facebook;WhatApp', '6 hrs to 10 hrs', '']\n",
      "['2020/04/26 4:06:01 AM GMT+1', '04/03/1992', 'Female', 'USA', '2', '2', 'Black / African / Caribbean / Black British', 'Degree or equivalent', 'Human Services', '7hrs', '2', '1 to 10 days', 'never married', 'Private rented', 'Other', 'Christianity', 'with both parents', 'alone', 'Alcohol;Cannabis', 'Adolescence (Ages 12-20)', 'No', '', '', '', '', '', '', '', '', '', 'Alive', '', '', '', '22/10/1952', 'Married', 'Alive', '', '', '', '02/07/1956', 'Married', 'Monogamy', 'None', 'Not applicable', 'Average', 'None', 'None', 'Other', 'Other', 'Facebook;Instagram;Twitter;SnapChat', '3 hrs to 5 hrs', '']\n",
      "['2020/04/26 4:15:42 AM GMT+1', '30/07/1993', 'Female', 'United States of America', '1', '3', 'Black / African / Caribbean / Black British', 'Degree or equivalent', 'Science, Technology, Engineering and Mathematics', '8hrs', '3', '11 to 20 days', 'Divorced', 'Private rented', 'Flats', 'Islam', 'with relatives', 'with family', 'None', 'Not applicable', 'No', '', '', '', '', '', '', '', '', '', 'Alive', '', '', '', '10/10/1955', 'Married', 'Alive', '', '', '', '10/03/1957', 'Married', 'Monogamy', 'Bipolar disorder;Depression;Schizophrenia', 'Not applicable', 'Above average', 'Feeling sad and down;Exessive fearss or worries, or extreme feelings of guily;Withdrawals from friends and activities;significant tiredness, low energy or problems sleeping;Sex drive changes', 'None', 'None', 'None', 'SnapChat;YouTube;WhatApp', '1 hr to 2 hrs', '']\n",
      "['2020/04/26 4:29:49 AM GMT+1', '23/03/1992', 'Male', 'USA', '5', '4', 'Black / African / Caribbean / Black British', 'Masters or equivalent', 'Marketing, Sales and Service', '8hrs', '1', '1 to 10 days', 'married', 'Private rented', 'Flats', 'Islam', 'with both parents', 'with family', 'None', 'Not applicable', 'No', '', '', '', '', '', '', '', '', '', 'Alive', '', '', '', '', 'Married', 'Alive', '', '', '', '', 'Married', 'Polygamy', 'None', 'Not applicable', 'Average', 'None', 'None', 'None', 'None', 'Facebook;Instagram', '1 hr to 2 hrs', '']\n",
      "['2020/04/26 4:45:36 AM GMT+1', '09/11/1980', 'Female', 'USA', '10', '10', 'Black / African / Caribbean / Black British', 'Masters or equivalent', 'Health Science', '8hrs', '3', '1 to 10 days', 'married', 'Owner occupied', 'Terraced house', 'Islam', 'with both parents', 'with family', 'None', 'Not applicable', 'No', '', '', '', '', '', '', '', '', '', 'Dead', 'Cardiac arrest ', '26/12/2006', '61 to 75', '01/01/1933', 'Married', 'Alive', '', '', '', '01/01/1934', 'Married', 'Polygamy', 'None', 'Not applicable', 'Average', 'None', 'None', 'None', 'None', 'Facebook;Instagram;Twitter;SnapChat;Tik Tok;YouTube;WhatApp;LinkedIn', 'less than 1 hour', '']\n",
      "['2020/04/26 7:26:36 AM GMT+1', '01/05/1996', 'Female', 'Gambia', '5', '5', 'Other ethnic group', 'Degree or equivalent', 'Arts, Audio/Video Technology and Communications', '9hrs', '2', '1 to 10 days', 'never married', 'Owner occupied', 'Terraced house', 'Islam', 'with relatives', 'with family', 'None', 'Not applicable', 'No', '', '', '', '', '', '', '', '', '', 'Alive', '', '', '', '24/08/1955', 'Married', 'Alive', '', '', '', '12/01/1958', 'Single', 'Polygamy', 'Personality disorders', 'Not applicable', 'Average', 'Feeling sad and down', 'None', 'None', 'None', 'WhatApp', '6 hrs to 10 hrs', '']\n",
      "['2020/04/26 7:35:02 AM GMT+1', '28/02/1986', 'Female', 'Uk', '9', '4', 'Black / African / Caribbean / Black British', 'Certificate', 'Unemployed', 'Less than 1 hr', '0', '1 to 10 days', 'Divorced', 'Local authority', 'Flats', 'Islam', 'with relatives', 'alone', 'None', 'Not applicable', 'No', '', '', '', '', '', '', '', '', '', 'Alive', '', '', '', '13/11/1944', 'Married', 'Dead', 'Birth asphyxia and birth trauma', '28/02/1986', '31 to 45', '21/06/1935', 'Married', 'Monogamy', 'Autism;Other', 'Not applicable', 'Average', 'None', 'None', 'None', 'None;Other', 'Facebook;Instagram;SnapChat;Tik Tok;YouTube;WhatApp', '1 hr to 2 hrs', '']\n",
      "['2020/04/26 7:36:03 AM GMT+1', '24/11/1986', 'Male', 'England ', '3', '3', 'Black / African / Caribbean / Black British', 'Certificate', 'Health Science', '10hrs', '0', '1 to 10 days', 'Prefer not to say', 'Private rented', 'Flats', 'Islam', 'with relatives', 'alone', 'None', 'Not applicable', 'No', '', '', '', '', '', '', '', '', '', 'Dead', 'Natural cause', '06/03/2005', '46 to 60', '', 'Married', 'Alive', '', '', '', '', 'Single', 'Polygamy', 'None', 'Not applicable', 'Low', 'Feeling sad and down', 'None', 'None', 'None', 'Facebook;Instagram;Twitter;SnapChat;Tik Tok;YouTube;WhatApp', '6 hrs to 10 hrs', '']\n",
      "['2020/04/26 8:21:36 AM GMT+1', '26/11/1985', 'Male', 'Italy', '4', '4', 'Black / African / Caribbean / Black British', 'Certificate', 'Education and Training', '8hrs', '2', '0', 'never married', 'Private rented', 'Flats', 'Islam', 'with both parents', 'alone', 'None', 'Not applicable', 'No', '', '', '', '', '', '', '', '', '', 'Alive', '', '', '', '18/03/1961', 'Married', '', 'Other', '', 'Other', '', 'Married', 'Monogamy', 'None', 'Not applicable', 'Average', 'None', 'None', 'None', 'None', 'Facebook;Instagram;YouTube;WhatApp', '3 hrs to 5 hrs', '']\n",
      "['2020/04/26 8:26:06 AM GMT+1', '', 'Male', '', '4', '4', 'Black / African / Caribbean / Black British', 'Certificate', 'Science, Technology, Engineering and Mathematics', '8hrs', '1', '0', 'never married', 'Private rented', 'Flats', 'Islam', 'with both parents', 'alone', 'None', 'Not applicable', 'No', '', '', '', '', '', '', '', '', '', 'Alive', '', '', '', '', 'Married', 'Alive', '', '', '', '', 'Married', 'Monogamy', 'None', 'Not applicable', 'Average', 'None', 'None', 'None', 'None', 'Facebook;Twitter;YouTube;WhatApp', '6 hrs to 10 hrs', '']\n",
      "['2020/04/26 8:29:49 AM GMT+1', '21/02/1990', 'Female', 'England', '3', '2', 'Black / African / Caribbean / Black British', 'Degree or equivalent', 'Health Science', '8hrs', '1', '21 to 30 days', 'married', 'Other', 'Terraced house', 'Christianity', 'with father', 'with family', 'Alcohol', 'Early Adulthood (Ages 20-35)', 'No', '', '', '', '', '', '', '', '', '', 'Alive', '', '', '', '24/01/1963', 'Married', 'Alive', '', '', '', '12/11/1963', 'Married', 'Polygamy', 'None', 'Not applicable', 'Average', 'Feeling sad and down;confuse thinking or reduced ability to concentrate;Exessive fearss or worries, or extreme feelings of guily;significant tiredness, low energy or problems sleeping;Problems with alcohol or drug use', 'None', 'Other', 'None;Other', 'Facebook;Instagram;SnapChat;WhatApp', '1 hr to 2 hrs', '']\n",
      "['2020/04/26 9:16:23 AM GMT+1', '29/11/1978', 'Female', 'UK', '1', '1', 'Black / African / Caribbean / Black British', 'Degree or equivalent', 'Education and Training', '4hrs', '1', '1 to 10 days', 'married', 'Private rented', 'Detached house', 'Islam', 'with both parents', 'with family', 'None', 'Not applicable', 'No', '', '', '', '', '', '', '', '', '', 'Alive', '', '', '', '04/02/1960', 'Married', 'Alive', '', '', '', '03/03/1963', 'Married', 'Monogamy', 'None', 'Not applicable', 'Above average', 'None', 'Diabetes', 'Other', 'None', 'Facebook;Instagram;WhatApp', '3 hrs to 5 hrs', '']\n",
      "['2020/04/26 9:46:35 AM GMT+1', '20/10/1992', 'Male', 'England', '6', '4', 'White', 'Masters or equivalent', 'Human Services', '8hrs', '1', '1 to 10 days', 'never married', 'Private rented', 'Terraced house', 'Buddhism', 'with both parents', 'co-habitat', 'None', 'Not applicable', 'Yes', '20/09/2012', 'Feeling sad or down;Confused thinking or reduced ability to concentrate;Excessive fears or worries, or extreme feelings of guilt;Withdrawal from friends and activities;Significant tiredness, low energy or problems sleeping;Inability to cope with daily problems or stress;Suicidal thinking', 'Anxiety & panic attacks;Depression;Post Traumatic Stress Disorder (PTSD);Suicidal feelings', 'Medication/ Pills;CBT;Therapy', 'Antidepressants', 'No', '', 'Hospital referral', 'Diabetes', 'Alive', '', '', '', '28/12/1965', 'Married', 'Alive', '', '', '', '20/05/1966', 'Married', 'Monogamy', 'Anxiety & panic attacks;Depression', 'Not applicable', 'Low', 'Feeling sad and down;confuse thinking or reduced ability to concentrate;Exessive fearss or worries, or extreme feelings of guily;significant tiredness, low energy or problems sleeping;Inability to cope with daily problems or stress', 'Diabetes', 'None', 'None', 'Facebook;Instagram;Twitter;YouTube;WhatApp', 'less than 1 hour', '']\n",
      "['2020/04/26 10:11:40 AM GMT+1', '06/06/1962', 'Male', 'GAMBIA', '1', '1', 'Black / African / Caribbean / Black British', 'Degree or equivalent', 'Information Technology', '8hrs', '1', '21 to 30 days', 'married', 'Owner occupied', 'Detached house', 'Islam', 'with relatives', 'with family', 'None', 'Not applicable', 'No', '', '', '', '', '', '', '', '', '', 'Dead', 'Old age', '12/06/2009', '61 to 75', '', 'Married', 'Dead', 'Natural cause', '10/01/2012', '61 to 75', '', 'Married', 'Polygamy', 'None', 'Not applicable', 'Average', 'Feeling sad and down', 'Arthritis', 'None', 'None', 'Facebook;Twitter;WhatApp', '1 hr to 2 hrs', '']\n",
      "['2020/04/26 10:17:08 AM GMT+1', '22/02/1996', 'Female', 'United States ', '1', '5', 'White', 'Degree or equivalent', 'Health Science', '13+hrs', '1', '1 to 10 days', 'never married', 'Owner occupied', 'Detached house', 'Christianity', 'with both parents', 'with family', 'Alcohol', 'Not applicable', 'Yes', '01/06/2019', 'Feeling sad or down;Excessive fears or worries, or extreme feelings of guilt', 'Anxiety & panic attacks;Depression', 'Medication/ Pills', '', 'No', '', 'Traditional', 'None', 'Alive', '', '', '', '05/03/2020', 'Married', 'Alive', '', '', '', '01/06/2020', 'Married', 'Monogamy', 'None', 'Not applicable', 'Average', 'None', 'None', 'None', 'None', 'Facebook;Instagram;SnapChat;Tik Tok;WhatApp', '1 hr to 2 hrs', '']\n",
      "['2020/04/26 10:48:15 AM GMT+1', '06/09/1978', 'Female', 'England', '1', '1', 'White', 'Degree or equivalent', 'Human Services', '12hrs', '2', '1 to 10 days', 'married', 'Owner occupied', 'Terraced house', 'Other', 'with mother', 'with family', 'Alcohol', 'Adolescence (Ages 12-20)', 'No', '', '', '', '', '', '', '', '', '', 'Alive', '', '', '', '15/10/1952', 'Single', 'Alive', '', '', '', '28/02/1956', 'Married', 'Monogamy', 'Anxiety & panic attacks;Depression', 'Not applicable', 'Average', 'Feeling sad and down', 'Diabetes', 'None', 'None', 'Facebook;Instagram;SnapChat;WhatApp', '3 hrs to 5 hrs', '']\n",
      "['2020/04/26 11:28:18 AM GMT+1', '19/01/1994', 'Female', 'USA', '3', '3', 'Black / African / Caribbean / Black British', 'Degree or equivalent', 'Health Science', '13+hrs', '1', '1 to 10 days', 'never married', 'Owner occupied', 'Cottage', 'Christianity', 'with both parents', 'with family', 'None', 'Not applicable', 'No', '', '', '', '', '', '', '', '', '', 'Alive', '', '', '', '28/08/1958', 'Single', 'Alive', '', '', '', '08/09/1969', 'Single', 'Monogamy', 'None', 'Not applicable', 'Above average', 'None', 'None', 'None', 'None', 'Facebook;Instagram;Twitter;SnapChat;YouTube;WhatApp;LinkedIn', '3 hrs to 5 hrs', '']\n",
      "['2020/04/26 11:48:51 AM GMT+1', '21/03/1997', 'Male', 'United Kingdom', '2', '2', 'White', 'Masters or equivalent', 'Information Technology', '4hrs', '1', '0', 'never married', 'Owner occupied', 'Bungalow', 'Other', 'with both parents', 'with family', 'None', 'Not applicable', 'No', '', '', '', '', '', '', '', '', '', 'Alive', '', '', '', '23/03/1965', 'Married', 'Alive', '', '', '', '26/05/1965', 'Married', 'Monogamy', 'Depression', 'Not applicable', 'Average', 'significant tiredness, low energy or problems sleeping;Trouble understanding and  relating to situations and to people', 'None', 'None', 'None', 'Facebook;Twitter;SnapChat;YouTube;WhatApp;LinkedIn', '1 hr to 2 hrs', '']\n",
      "['2020/04/26 12:15:09 PM GMT+1', '09/03/1979', 'Female', 'USA', '1', '1', 'Black / African / Caribbean / Black British', 'Degree or equivalent', 'Marketing, Sales and Service', '8hrs', '2', '1 to 10 days', 'married', 'Private rented', 'Flats', 'Islam', 'with both parents', 'with family', 'None', 'Not applicable', 'No', '', '', '', '', '', '', '', '', '', 'Alive', '', '', '', '22/06/1955', 'Married', 'Dead', 'Chronic disease', '01/09/2009', '46 to 60', '22/09/1965', 'Married', 'Monogamy', 'None', 'Not applicable', 'Low', 'Feeling sad and down;significant tiredness, low energy or problems sleeping', 'None', 'None', 'None', 'Facebook;Instagram;Twitter;SnapChat;YouTube;WhatApp', '10hrs plus', '']\n",
      "['2020/04/26 12:17:18 PM GMT+1', '03/11/1996', 'Female', 'Dubai', '1', '1', 'Black / African / Caribbean / Black British', 'Degree or equivalent', 'Unemployed', 'Less than 1 hr', '0', '11 to 20 days', 'married', 'Private rented', 'Flats', 'Islam', 'with both parents', 'with civil Partner', 'None', 'Not applicable', 'No', '', '', '', '', '', '', '', '', '', 'Alive', '', '', '', '', 'Married', 'Alive', '', '', '', '', 'Married', 'Monogamy', 'None', 'Not applicable', 'Average', 'Feeling sad and down', 'None', 'None', 'None', 'Facebook', '3 hrs to 5 hrs', '']\n",
      "['2020/04/26 12:20:57 PM GMT+1', '02/08/1984', 'Female', 'USA', '2', '2', 'Black / African / Caribbean / Black British', 'Degree or equivalent', 'Agriculture, Food and Natural Resources', '13+hrs', '2', '0', 'married', 'Owner occupied', 'Detached house', 'Islam', 'with relatives', 'with civil Partner', 'None', 'Not applicable', 'No', '', '', '', '', '', '', '', '', '', 'Dead', 'Natural cause', '01/01/1988', '31 to 45', '', '', 'Alive', '', '', '', '28/08/1965', 'Married', 'Monogamy', 'None', 'Not applicable', 'Average', 'None', 'None', 'None', 'None', 'Facebook;Instagram;SnapChat;Tik Tok;WhatApp', '10hrs plus', '']\n",
      "['2020/04/26 12:33:39 PM GMT+1', '', '', '', '', '', '', '', '', '', '', '', '', '', '', '', '', '', '', '', '', '', '', '', '', '', '', '', '', '', '', '', '', '', '', '', '', '', '', '', '', '', 'Monogamy', 'None', 'Not applicable', 'Average', 'Feeling sad and down', 'None', 'None', 'None', 'Facebook;Instagram;SnapChat;Tik Tok;YouTube;WhatApp', '10hrs plus', '']\n",
      "['2020/04/26 12:36:02 PM GMT+1', '01/12/1986', 'Male', 'UK ', '7', '7', 'Black / African / Caribbean / Black British', 'Degree or equivalent', 'Health Science', '10hrs', '0', '1 to 10 days', 'married', 'Housing association', 'Flats', 'Islam', 'with both parents', 'with family', 'None', 'Not applicable', 'No', '', '', '', '', '', '', '', '', '', 'Dead', 'other', '03/12/2004', '61 to 75', '09/04/1949', 'Married', 'Alive', '', '', '', '26/04/1967', 'Married', 'Polygamy', 'None', 'Not applicable', 'Above average', 'Exessive fearss or worries, or extreme feelings of guily;significant tiredness, low energy or problems sleeping;Inability to cope with daily problems or stress', 'None', 'None', 'None', 'Facebook;Instagram;SnapChat;YouTube;WhatApp', '10hrs plus', '']\n",
      "['2020/04/26 12:49:48 PM GMT+1', '16/09/1981', 'Male', 'United Kingdom', '4', '4', 'Black / African / Caribbean / Black British', 'Degree or equivalent', 'Information Technology', '10hrs', '2', '11 to 20 days', 'married', 'Local authority', 'Terraced house', 'Islam', 'with both parents', 'with family', 'None', 'Not applicable', 'No', '', '', '', '', '', '', '', '', '', 'Alive', '', '', '', '02/03/1939', 'Married', 'Alive', '', '', '', '20/06/1960', 'Married', 'Polygamy', 'Depression', 'Not applicable', 'Average', 'None', 'None', 'Arrest;Conviction', 'Other', 'Facebook;Instagram;Twitter;SnapChat;YouTube;WhatApp;LinkedIn', '1 hr to 2 hrs', '']\n",
      "['2020/04/26 12:55:19 PM GMT+1', '13/12/1983', 'Female', 'NYC', '6', '7', 'Black / African / Caribbean / Black British', 'Certificate', 'Health Science', '8hrs', '10', '0', 'married', 'Private rented', 'Flats', 'Islam', 'with both parents', 'with family', 'None', 'Not applicable', 'No', '', '', '', '', '', '', '', '', '', 'Alive', '', '', '', '', 'Married', 'Alive', '', '', '', '14/02/1965', 'Married', 'Polygamy', 'None', 'Not applicable', 'Average', 'Inability to cope with daily problems or stress', 'None', 'Other', 'Other', 'Facebook;Instagram;Twitter', '3 hrs to 5 hrs', '']\n",
      "['2020/04/26 12:55:45 PM GMT+1', '04/09/1980', 'Female', 'United States', '1', '1', 'Black / African / Caribbean / Black British', 'Degree or equivalent', 'Health Science', '12hrs', '2', '21 to 30 days', 'Divorced', 'Private rented', 'Other', 'Islam', 'with relatives', 'Others', 'None', 'Not applicable', 'No', '', '', '', '', '', '', '', '', '', 'Alive', '', '', '', '', 'Married', 'Alive', '', '', '', '', 'Single', 'Never married', 'None', 'Not applicable', 'Average', 'None', 'None', 'None', 'None', 'Facebook;WhatApp', 'less than 1 hour', '']\n",
      "['2020/04/26 12:56:04 PM GMT+1', '13/09/1972', 'Female', 'USA', '6', '6', 'Black / African / Caribbean / Black British', 'Secondary', 'Marketing, Sales and Service', '6hrs', '1', '1 to 10 days', 'married', 'Housing association', 'Detached house', 'Islam', 'with relatives', 'with family', 'None', 'Not applicable', 'No', '', '', '', '', '', '', '', '', '', 'Dead', 'Old age', '01/09/2016', '76 to 90', '', 'Married', 'Alive', '', '', '', '', 'Widower', 'Polygamy', 'None', 'Not applicable', 'Average', 'None', 'None', 'None', 'None', 'Facebook', 'less than 1 hour', '']\n",
      "['2020/04/26 12:56:20 PM GMT+1', '04/05/1990', 'Female', 'The Gambia', '5', '1', 'Black / African / Caribbean / Black British', 'Degree or equivalent', 'Arts, Audio/Video Technology and Communications', '8hrs', '1', '1 to 10 days', 'married', 'Owner occupied', 'Bungalow', 'Islam', 'with mother', 'with family', 'None', 'Not applicable', 'No', '', '', '', '', '', '', '', '', '', 'Dead', 'Natural cause', '14/06/2015', '61 to 75', '31/08/1952', 'Single', 'Alive', '', '', '', '21/08/1959', 'Single', 'Never married', 'Anxiety & panic attacks;Depression;Eating disorders;Other', 'Not applicable', 'Above average', 'Feeling sad and down;confuse thinking or reduced ability to concentrate;Exessive fearss or worries, or extreme feelings of guily;significant tiredness, low energy or problems sleeping;Major changes in eating habits', 'None', 'None', 'None', 'Facebook;Instagram;Twitter;SnapChat;Tik Tok;YouTube;WhatApp;LinkedIn', '6 hrs to 10 hrs', '']\n",
      "['2020/04/26 12:58:49 PM GMT+1', '07/08/1987', 'Male', 'London ', '1', '1', 'Black / African / Caribbean / Black British', 'Degree or equivalent', 'Government and Public Administration', '9hrs', '2', '30 to 40 days', 'married', 'Other', 'Semi detached house', 'Islam', '', 'with family', 'None', 'Not applicable', 'No', '', '', '', '', '', '', '', '', '', 'Alive', '', '', '', '06/10/1960', 'Married', 'Alive', '', '', '', '11/09/1965', 'Married', 'Monogamy', 'None', 'Not applicable', 'Average', 'None', 'None', 'None', 'Other', 'Facebook;Instagram;Twitter;SnapChat;YouTube;WhatApp;LinkedIn', '3 hrs to 5 hrs', '']\n",
      "['2020/04/26 12:59:28 PM GMT+1', '23/11/1974', 'Male', 'The Gambia ', '2', '1', 'Black / African / Caribbean / Black British', 'Degree or equivalent', 'Marketing, Sales and Service', '10hrs', '2', '0', 'married', 'Private rented', 'Other', 'Islam', 'with both parents', 'with family', 'None', 'Not applicable', 'No', '', '', '', '', '', '', '', '', '', 'Dead', 'other', '06/06/2006', '46 to 60', '11/07/1943', 'Married', 'Alive', '', '', '', '19/09/1954', 'Single', 'Polygamy', 'None', 'Not applicable', 'Average', 'Sex drive changes', 'None', 'Other', 'None', 'Facebook', '3 hrs to 5 hrs', '']\n",
      "['2020/04/26 1:44:16 PM GMT+1', '05/10/1988', 'Female', 'Germany ', '6', '4', 'Other ethnic group', 'Certificate', 'Marketing, Sales and Service', '8hrs', '2', '21 to 30 days', 'Prefer not to say', 'Other', 'Flats', 'Islam', 'with both parents', 'with family', 'None', 'Not applicable', 'No', '', '', '', '', '', '', '', '', '', 'Dead', 'Natural cause', '18/10/2007', '46 to 60', '', 'Married', 'Alive', '', '', '', '25/06/1947', 'Widower', 'Polygamy', 'None', 'Not applicable', 'Average', 'Feeling sad and down', 'None', 'None', 'None', 'Facebook;Instagram;SnapChat;YouTube;WhatApp', 'less than 1 hour', '']\n",
      "['2020/04/26 1:53:41 PM GMT+1', '06/10/2020', 'Female', 'Gambia ', '5', '4', 'Black / African / Caribbean / Black British', 'Degree or equivalent', '', '8hrs', '3', '21 to 30 days', 'married', 'Private rented', 'Flats', 'Islam', 'with both parents', 'with family', '', 'Not applicable', 'No', '', '', '', '', '', '', '', '', '', 'Alive', '', '', '', '17/05/2020', 'Married', 'Alive', '', '', '', '16/07/2020', 'Married', 'Polygamy', 'None', 'Not applicable', 'Average', 'None', 'None', 'None', 'None', 'Facebook;Instagram;Twitter;SnapChat;WhatApp;LinkedIn', '6 hrs to 10 hrs', '']\n",
      "['2020/04/26 1:55:31 PM GMT+1', '17/04/1970', 'Male', 'UK', '4', '4', 'Black / African / Caribbean / Black British', 'Masters or equivalent', 'Finance', '7hrs', '10', '11 to 20 days', 'married', 'Other', 'Detached house', 'Islam', 'with both parents', 'with family', 'None', 'Not applicable', 'No', '', '', '', '', '', '', '', '', '', 'Alive', '', '', '', '06/01/1940', 'Married', 'Alive', '', '', '', '11/03/1950', 'Married', 'Monogamy', 'None', '', 'Above average', 'Feeling sad and down;significant tiredness, low energy or problems sleeping', '', 'None', 'None', 'Facebook;WhatApp', '6 hrs to 10 hrs', '']\n",
      "['2020/04/26 2:05:59 PM GMT+1', '05/09/2020', 'Male', 'Gambia', '2', '1', 'Black / African / Caribbean / Black British', 'Certificate', 'Unemployed', '12hrs', '0', '1 to 10 days', 'widow', 'Housing association', 'Semi detached house', 'Islam', 'with mother', 'with family', 'None', 'Middle Childhood (Ages 6-8)', 'No', '', '', '', '', '', '', '', '', '', 'Alive', '', '', '', '08/12/1964', 'Married', 'Alive', '', '', '', '14/11/1976', 'Married', 'Polygamy', 'None', 'Not applicable', 'high', 'significant tiredness, low energy or problems sleeping', 'None', 'None', 'None', 'Facebook;Instagram;SnapChat;Tik Tok;YouTube;WhatApp', '10hrs plus', '']\n",
      "['2020/04/26 2:12:41 PM GMT+1', '26/04/2020', 'Male', 'United States', '10', '5', 'Black / African / Caribbean / Black British', 'Degree or equivalent', 'Human Services', '8hrs', '3', '1 to 10 days', 'married', 'Private rented', 'Flats', 'Islam', 'with both parents', 'with family', 'None', 'Not applicable', 'No', '', '', '', '', '', '', '', '', '', 'Dead', 'other', '12/04/2000', '61 to 75', '01/04/1939', 'Married', 'Alive', '', '', '', '01/01/1942', 'Married', 'Polygamy', 'None', 'Not applicable', 'Average', 'None', 'None', 'None', 'None', 'Facebook', '1 hr to 2 hrs', '']\n",
      "['2020/04/26 2:24:38 PM GMT+1', '', 'Male', 'USA ', '8', '5', 'Black / African / Caribbean / Black British', 'Degree or equivalent', 'Marketing, Sales and Service', '8hrs', '1', '11 to 20 days', 'never married', 'Private rented', 'Flats', 'Other', 'with both parents', 'Others', 'None', 'Not applicable', 'No', '', '', '', '', '', '', '', '', '', 'Dead', 'Chronic disease', '', '46 to 60', '', 'Married', 'Dead', 'Chronic disease', '', '61 to 75', '', 'Widower', 'Polygamy', 'None', 'Not applicable', 'Average', 'None', 'None', 'Arrest', 'None', 'Facebook;Instagram;Twitter;YouTube;WhatApp;LinkedIn', '6 hrs to 10 hrs', '']\n",
      "['2020/04/26 2:25:23 PM GMT+1', '28/10/1986', 'Male', 'England', '1', '1', 'White', 'Certificate', 'Government and Public Administration', '8hrs', '2', '1 to 10 days', 'Prefer not to say', 'Housing association', 'Flats', 'Other', 'with relatives', 'co-habitat', 'Alcohol', 'Adolescence (Ages 12-20)', 'Yes', '01/03/2013', 'Feeling sad or down;Confused thinking or reduced ability to concentrate;Extreme mood changes of highs and lows;Withdrawal from friends and activities;Significant tiredness, low energy or problems sleeping;Problems with alcohol or drug use;Sex drive changes;Excessive anger, hostility or violence', 'Post Traumatic Stress Disorder (PTSD)', 'Medication/ Pills', '', 'No', '', 'Hospital referral', 'None', 'Alive', '', '', '', '', '', 'Alive', '', '', '', '31/10/1969', 'Married', 'Monogamy', 'Schizophrenia', '', 'Low', 'Feeling sad and down', '', 'Arrest;None', 'None', 'Instagram', '1 hr to 2 hrs', '']\n"
     ]
    },
    {
     "ename": "UnicodeDecodeError",
     "evalue": "'charmap' codec can't decode byte 0x81 in position 708: character maps to <undefined>",
     "output_type": "error",
     "traceback": [
      "\u001B[1;31m---------------------------------------------------------------------------\u001B[0m",
      "\u001B[1;31mUnicodeDecodeError\u001B[0m                        Traceback (most recent call last)",
      "Cell \u001B[1;32mIn [10], line 4\u001B[0m\n\u001B[0;32m      2\u001B[0m \u001B[38;5;28;01mwith\u001B[39;00m \u001B[38;5;28mopen\u001B[39m(\u001B[38;5;124m'\u001B[39m\u001B[38;5;124mvenv/MentalHQ2020.csv\u001B[39m\u001B[38;5;124m'\u001B[39m) \u001B[38;5;28;01mas\u001B[39;00m csvfile:\n\u001B[0;32m      3\u001B[0m     read_myCSV \u001B[38;5;241m=\u001B[39m  csv\u001B[38;5;241m.\u001B[39mreader(csvfile, delimiter \u001B[38;5;241m=\u001B[39m \u001B[38;5;124m'\u001B[39m\u001B[38;5;124m,\u001B[39m\u001B[38;5;124m'\u001B[39m,)\n\u001B[1;32m----> 4\u001B[0m     \u001B[38;5;28;01mfor\u001B[39;00m rows \u001B[38;5;129;01min\u001B[39;00m read_myCSV:\n\u001B[0;32m      5\u001B[0m         \u001B[38;5;28mprint\u001B[39m(rows)\n",
      "File \u001B[1;32m~\\AppData\\Local\\Programs\\Python\\Python310\\lib\\encodings\\cp1252.py:23\u001B[0m, in \u001B[0;36mIncrementalDecoder.decode\u001B[1;34m(self, input, final)\u001B[0m\n\u001B[0;32m     22\u001B[0m \u001B[38;5;28;01mdef\u001B[39;00m \u001B[38;5;21mdecode\u001B[39m(\u001B[38;5;28mself\u001B[39m, \u001B[38;5;28minput\u001B[39m, final\u001B[38;5;241m=\u001B[39m\u001B[38;5;28;01mFalse\u001B[39;00m):\n\u001B[1;32m---> 23\u001B[0m     \u001B[38;5;28;01mreturn\u001B[39;00m \u001B[43mcodecs\u001B[49m\u001B[38;5;241;43m.\u001B[39;49m\u001B[43mcharmap_decode\u001B[49m\u001B[43m(\u001B[49m\u001B[38;5;28;43minput\u001B[39;49m\u001B[43m,\u001B[49m\u001B[38;5;28;43mself\u001B[39;49m\u001B[38;5;241;43m.\u001B[39;49m\u001B[43merrors\u001B[49m\u001B[43m,\u001B[49m\u001B[43mdecoding_table\u001B[49m\u001B[43m)\u001B[49m[\u001B[38;5;241m0\u001B[39m]\n",
      "\u001B[1;31mUnicodeDecodeError\u001B[0m: 'charmap' codec can't decode byte 0x81 in position 708: character maps to <undefined>"
     ]
    }
   ],
   "source": [
    "import csv\n",
    "with open('venv/example.csv') as csvfile:\n",
    "    read_myCSV =  csv.reader(csvfile, delimiter = ',',)\n",
    "    for rows in read_myCSV:\n",
    "        print(rows)"
   ]
  },
  {
   "cell_type": "code",
   "execution_count": 11,
   "outputs": [
    {
     "name": "stdout",
     "output_type": "stream",
     "text": [
      "Timestamp dob gender countryofresidence\n",
      "2020/04/12 10:55:12 PM GMT+1   \n",
      "2020/04/12 11:03:39 PM GMT+1 27/03/1986 Male \n",
      "2020/04/13 8:53:19 AM GMT+1 20/06/1980 Male \n",
      "2020/04/25 10:12:39 PM GMT+1 26/11/1986 Male \n",
      "2020/04/25 11:12:09 PM GMT+1 06/07/1985 Female England \n",
      "2020/04/25 11:18:57 PM GMT+1 06/03/1988 Male Gambia\n",
      "2020/04/25 11:19:22 PM GMT+1 18/12/1992 Female England \n",
      "2020/04/25 11:24:47 PM GMT+1 02/09/2000 Male Uk\n",
      "2020/04/25 11:26:11 PM GMT+1 21/03/1985 Female United States\n",
      "2020/04/25 11:31:40 PM GMT+1  Female UK \n",
      "2020/04/25 11:34:08 PM GMT+1 16/09/1985 Female United Kingdom\n",
      "2020/04/25 11:37:15 PM GMT+1 25/08/1982 Male United Kingdom\n",
      "2020/04/25 11:39:23 PM GMT+1 30/03/1987 Male UK\n",
      "2020/04/25 11:44:13 PM GMT+1 08/01/1990 Female England \n",
      "2020/04/25 11:44:44 PM GMT+1 23/03/1991 Male England\n",
      "2020/04/25 11:45:56 PM GMT+1 16/09/1976 Male Scotland\n",
      "2020/04/26 12:04:30 AM GMT+1 17/01/1965 Male The Gambia \n",
      "2020/04/26 12:10:18 AM GMT+1 10/11/2020 Female England \n",
      "2020/04/26 12:23:36 AM GMT+1 01/11/1998 Female Gambia\n",
      "2020/04/26 12:27:09 AM GMT+1 08/11/1997 Female The Gambia\n",
      "2020/04/26 12:27:14 AM GMT+1 15/03/1999 Female The Gambia \n",
      "2020/04/26 12:27:33 AM GMT+1 22/09/2020 Male MoÅ•roco \n",
      "2020/04/26 12:28:32 AM GMT+1 16/12/1990 Female Gambia\n",
      "2020/04/26 12:30:12 AM GMT+1   \n",
      "2020/04/26 12:31:11 AM GMT+1 16/04/2020 Male Germany \n",
      "2020/04/26 12:31:56 AM GMT+1 07/09/1986 Female Gambia\n",
      "2020/04/26 12:33:43 AM GMT+1 05/10/1969 Male The Gambia \n",
      "2020/04/26 12:35:50 AM GMT+1 26/10/1981 Male The Gambia\n",
      "2020/04/26 12:35:57 AM GMT+1 13/12/2000 Female United Kingdom \n",
      "2020/04/26 12:41:57 AM GMT+1 05/09/2020 Male Gambia\n",
      "2020/04/26 12:49:46 AM GMT+1 06/06/2000 Female Gambia \n",
      "2020/04/26 12:57:06 AM GMT+1 11/07/1981 Male Gambia \n",
      "2020/04/26 12:57:12 AM GMT+1 08/09/2020 Female United kingdom \n",
      "2020/04/26 1:04:06 AM GMT+1 26/11/2001 Female England \n",
      "2020/04/26 1:17:33 AM GMT+1 23/12/1996 Female Gambia\n",
      "2020/04/26 1:17:40 AM GMT+1 20/10/1977 Female United States\n",
      "2020/04/26 1:20:09 AM GMT+1 30/09/1997 Female England \n",
      "2020/04/26 1:31:58 AM GMT+1 17/03/1990 Male England\n",
      "2020/04/26 1:37:11 AM GMT+1 21/01/2001 Female Gambia\n",
      "2020/04/26 1:42:02 AM GMT+1 13/02/1979 Female United States\n",
      "2020/04/26 1:45:14 AM GMT+1 03/05/1995 Male England\n",
      "2020/04/26 1:52:05 AM GMT+1  Male NewYork \n",
      "2020/04/26 2:04:50 AM GMT+1 22/10/1985 Female Uk\n",
      "2020/04/26 2:07:05 AM GMT+1 22/11/1979 Female USA\n",
      "2020/04/26 2:21:55 AM GMT+1  Female United Kingdom \n",
      "2020/04/26 2:25:23 AM GMT+1 19/01/1982 Female The Gambia\n",
      "2020/04/26 2:25:48 AM GMT+1 27/05/1982 Male Nigeria\n",
      "2020/04/26 2:26:58 AM GMT+1 06/09/1988 Female The Gambia \n",
      "2020/04/26 2:38:43 AM GMT+1   \n",
      "2020/04/26 2:44:27 AM GMT+1 01/01/1987 Female United States \n",
      "2020/04/26 3:08:59 AM GMT+1 31/01/1992 Female United States\n",
      "2020/04/26 3:09:00 AM GMT+1 11/07/2003 Female Gambia ðŸ‡¬ðŸ‡² \n",
      "2020/04/26 3:10:58 AM GMT+1 09/10/1993 Female United States\n",
      "2020/04/26 3:14:18 AM GMT+1  Female United Kingdom \n",
      "2020/04/26 3:20:02 AM GMT+1 04/03/1992 Female USA\n",
      "2020/04/26 3:27:38 AM GMT+1 22/02/1996 Female United States \n",
      "2020/04/26 3:36:46 AM GMT+1 16/01/1994 Female USA\n",
      "2020/04/26 3:37:39 AM GMT+1 28/10/1990 Female UK\n",
      "2020/04/26 3:49:42 AM GMT+1 03/01/1982 Female Canada\n",
      "2020/04/26 4:06:01 AM GMT+1 04/03/1992 Female USA\n",
      "2020/04/26 4:15:42 AM GMT+1 30/07/1993 Female United States of America\n",
      "2020/04/26 4:29:49 AM GMT+1 23/03/1992 Male USA\n",
      "2020/04/26 4:45:36 AM GMT+1 09/11/1980 Female USA\n",
      "2020/04/26 7:26:36 AM GMT+1 01/05/1996 Female Gambia\n",
      "2020/04/26 7:35:02 AM GMT+1 28/02/1986 Female Uk\n",
      "2020/04/26 7:36:03 AM GMT+1 24/11/1986 Male England \n",
      "2020/04/26 8:21:36 AM GMT+1 26/11/1985 Male Italy\n",
      "2020/04/26 8:26:06 AM GMT+1  Male \n",
      "2020/04/26 8:29:49 AM GMT+1 21/02/1990 Female England\n",
      "2020/04/26 9:16:23 AM GMT+1 29/11/1978 Female UK\n",
      "2020/04/26 9:46:35 AM GMT+1 20/10/1992 Male England\n",
      "2020/04/26 10:11:40 AM GMT+1 06/06/1962 Male GAMBIA\n",
      "2020/04/26 10:17:08 AM GMT+1 22/02/1996 Female United States \n",
      "2020/04/26 10:48:15 AM GMT+1 06/09/1978 Female England\n",
      "2020/04/26 11:28:18 AM GMT+1 19/01/1994 Female USA\n",
      "2020/04/26 11:48:51 AM GMT+1 21/03/1997 Male United Kingdom\n",
      "2020/04/26 12:15:09 PM GMT+1 09/03/1979 Female USA\n",
      "2020/04/26 12:17:18 PM GMT+1 03/11/1996 Female Dubai\n",
      "2020/04/26 12:20:57 PM GMT+1 02/08/1984 Female USA\n",
      "2020/04/26 12:33:39 PM GMT+1   \n",
      "2020/04/26 12:36:02 PM GMT+1 01/12/1986 Male UK \n",
      "2020/04/26 12:49:48 PM GMT+1 16/09/1981 Male United Kingdom\n",
      "2020/04/26 12:55:19 PM GMT+1 13/12/1983 Female NYC\n",
      "2020/04/26 12:55:45 PM GMT+1 04/09/1980 Female United States\n",
      "2020/04/26 12:56:04 PM GMT+1 13/09/1972 Female USA\n",
      "2020/04/26 12:56:20 PM GMT+1 04/05/1990 Female The Gambia\n",
      "2020/04/26 12:58:49 PM GMT+1 07/08/1987 Male London \n",
      "2020/04/26 12:59:28 PM GMT+1 23/11/1974 Male The Gambia \n",
      "2020/04/26 1:44:16 PM GMT+1 05/10/1988 Female Germany \n",
      "2020/04/26 1:53:41 PM GMT+1 06/10/2020 Female Gambia \n",
      "2020/04/26 1:55:31 PM GMT+1 17/04/1970 Male UK\n",
      "2020/04/26 2:05:59 PM GMT+1 05/09/2020 Male Gambia\n",
      "2020/04/26 2:12:41 PM GMT+1 26/04/2020 Male United States\n",
      "2020/04/26 2:24:38 PM GMT+1  Male USA \n",
      "2020/04/26 2:25:23 PM GMT+1 28/10/1986 Male England\n"
     ]
    },
    {
     "ename": "UnicodeDecodeError",
     "evalue": "'charmap' codec can't decode byte 0x81 in position 708: character maps to <undefined>",
     "output_type": "error",
     "traceback": [
      "\u001B[1;31m---------------------------------------------------------------------------\u001B[0m",
      "\u001B[1;31mUnicodeDecodeError\u001B[0m                        Traceback (most recent call last)",
      "Cell \u001B[1;32mIn [11], line 6\u001B[0m\n\u001B[0;32m      4\u001B[0m \u001B[38;5;28;01mwith\u001B[39;00m \u001B[38;5;28mopen\u001B[39m(\u001B[38;5;124m'\u001B[39m\u001B[38;5;124mvenv/MentalHQ2020.csv\u001B[39m\u001B[38;5;124m'\u001B[39m) \u001B[38;5;28;01mas\u001B[39;00m csvfile:\n\u001B[0;32m      5\u001B[0m     read_myCSV \u001B[38;5;241m=\u001B[39m csv\u001B[38;5;241m.\u001B[39mreader(csvfile, delimiter \u001B[38;5;241m=\u001B[39m\u001B[38;5;124m'\u001B[39m\u001B[38;5;124m,\u001B[39m\u001B[38;5;124m'\u001B[39m, )\n\u001B[1;32m----> 6\u001B[0m     \u001B[38;5;28;01mfor\u001B[39;00m col \u001B[38;5;129;01min\u001B[39;00m read_myCSV:\n\u001B[0;32m      7\u001B[0m         \u001B[38;5;28mprint\u001B[39m(col[\u001B[38;5;241m0\u001B[39m], col[\u001B[38;5;241m1\u001B[39m], col[\u001B[38;5;241m2\u001B[39m], col[\u001B[38;5;241m3\u001B[39m])\n",
      "File \u001B[1;32m~\\AppData\\Local\\Programs\\Python\\Python310\\lib\\encodings\\cp1252.py:23\u001B[0m, in \u001B[0;36mIncrementalDecoder.decode\u001B[1;34m(self, input, final)\u001B[0m\n\u001B[0;32m     22\u001B[0m \u001B[38;5;28;01mdef\u001B[39;00m \u001B[38;5;21mdecode\u001B[39m(\u001B[38;5;28mself\u001B[39m, \u001B[38;5;28minput\u001B[39m, final\u001B[38;5;241m=\u001B[39m\u001B[38;5;28;01mFalse\u001B[39;00m):\n\u001B[1;32m---> 23\u001B[0m     \u001B[38;5;28;01mreturn\u001B[39;00m \u001B[43mcodecs\u001B[49m\u001B[38;5;241;43m.\u001B[39;49m\u001B[43mcharmap_decode\u001B[49m\u001B[43m(\u001B[49m\u001B[38;5;28;43minput\u001B[39;49m\u001B[43m,\u001B[49m\u001B[38;5;28;43mself\u001B[39;49m\u001B[38;5;241;43m.\u001B[39;49m\u001B[43merrors\u001B[49m\u001B[43m,\u001B[49m\u001B[43mdecoding_table\u001B[49m\u001B[43m)\u001B[49m[\u001B[38;5;241m0\u001B[39m]\n",
      "\u001B[1;31mUnicodeDecodeError\u001B[0m: 'charmap' codec can't decode byte 0x81 in position 708: character maps to <undefined>"
     ]
    }
   ],
   "source": [
    "\n",
    "#getting data for each column\n",
    "import csv\n",
    "\n",
    "with open('venv/example.csv') as csvfile:\n",
    "    read_myCSV = csv.reader(csvfile, delimiter =',', )\n",
    "    for col in read_myCSV:\n",
    "        print(col[0], col[1], col[2], col[3])\n"
   ],
   "metadata": {
    "collapsed": false
   }
  },
  {
   "cell_type": "code",
   "execution_count": 8,
   "outputs": [
    {
     "name": "stdout",
     "output_type": "stream",
     "text": [
      "['1/2/2014']\n",
      "['red']\n",
      "['1/2/2014', '1/3/2014']\n",
      "['red', 'green']\n",
      "['1/2/2014', '1/3/2014', '1/4/2014']\n",
      "['red', 'green', 'blue']\n"
     ]
    }
   ],
   "source": [
    "#pulling out data from csv\n",
    "import csv\n",
    "\n",
    "with open('venv/example.csv') as csvfile:\n",
    "    read_myCSV = csv.reader(csvfile, delimiter =',' )\n",
    "    dates = []\n",
    "    colors = []\n",
    "    for row in read_myCSV:\n",
    "        color = row[3]\n",
    "        date =row[0]\n",
    "\n",
    "        dates.append(date)\n",
    "        colors.append(color)\n",
    "\n",
    "        print(dates)\n",
    "        print(colors)\n"
   ],
   "metadata": {
    "collapsed": false
   }
  },
  {
   "cell_type": "code",
   "execution_count": 9,
   "outputs": [
    {
     "name": "stdout",
     "output_type": "stream",
     "text": [
      "['1/2/2014']\n",
      "['red']\n",
      "the date of red is: 1/2/2014\n",
      "['1/2/2014', '1/3/2014']\n",
      "['red', 'green']\n",
      "the date of green is: 1/3/2014\n",
      "['1/2/2014', '1/3/2014', '1/4/2014']\n",
      "['red', 'green', 'blue']\n",
      "the date of blue is: 1/4/2014\n"
     ]
    }
   ],
   "source": [
    "import csv\n",
    "\n",
    "with open('venv/example.csv') as csvfile:\n",
    "    read_myCSV = csv.reader(csvfile, delimiter =',' )\n",
    "    dates = []\n",
    "    colors = []\n",
    "    for row in read_myCSV:\n",
    "        color = row[3]\n",
    "        date =row[0]\n",
    "\n",
    "        dates.append(date)\n",
    "        colors.append(color)\n",
    "\n",
    "        print(dates)\n",
    "        print(colors)\n",
    "\n",
    "        whatcolor = input('what color do you wish to know the date off?: ')\n",
    "        datex = colors.index(whatcolor)\n",
    "        colorex = dates[datex]\n",
    "        print('the date of',whatcolor, 'is:', colorex )"
   ],
   "metadata": {
    "collapsed": false
   }
  },
  {
   "cell_type": "code",
   "execution_count": null,
   "outputs": [],
   "source": [],
   "metadata": {
    "collapsed": false
   }
  }
 ],
 "metadata": {
  "kernelspec": {
   "display_name": "Python 3",
   "language": "python",
   "name": "python3"
  },
  "language_info": {
   "codemirror_mode": {
    "name": "ipython",
    "version": 2
   },
   "file_extension": ".py",
   "mimetype": "text/x-python",
   "name": "python",
   "nbconvert_exporter": "python",
   "pygments_lexer": "ipython2",
   "version": "2.7.6"
  }
 },
 "nbformat": 4,
 "nbformat_minor": 0
}

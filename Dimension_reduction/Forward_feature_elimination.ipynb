{
 "cells": [
  {
   "cell_type": "code",
   "execution_count": 2,
   "metadata": {
    "collapsed": true
   },
   "outputs": [
    {
     "name": "stdout",
     "output_type": "stream",
     "text": [
      "(771, 9)\n",
      "     preg   plas  pres  skin  test  mass   pedi   age  diab_class\n",
      "440     2  120.0   NaN    26  16.0  36.8  0.766  22.0           0\n",
      "661     2  120.0  58.0    26  16.0   NaN  0.766  22.0           0\n",
      "770     2    NaN  58.0    26   NaN  28.4  0.766   NaN           0\n",
      "3\n",
      "['preg', 'plas', 'pres']\n"
     ]
    }
   ],
   "source": [
    "#forward feature elimination\n",
    "import numpy as np\n",
    "import pandas as pd\n",
    "from pandas import read_csv\n",
    "from numpy import set_printoptions\n",
    "from sklearn import preprocessing\n",
    "from sklearn.impute import SimpleImputer\n",
    "from sklearn.ensemble import RandomForestRegressor, RandomForestClassifier\n",
    "import matplotlib.pyplot as plt\n",
    "from sklearn.linear_model import LinearRegression, LogisticRegression\n",
    "from sklearn.feature_selection import f_regression\n",
    "\n",
    "\n",
    "#load the data into a dataframe\n",
    "header_names = ['preg', 'plas', 'pres', 'skin', 'test', 'mass', 'pedi', 'age', 'diab_class']\n",
    "my_data = pd.read_csv(r'pima_indians_diabetes_2 (1).csv', names=header_names)\n",
    "\n",
    "#get the dimension of the shape\n",
    "print(my_data.shape)\n",
    "\n",
    "#get the row with empty values\n",
    "empty_values = my_data[my_data.isna().any(axis=1)]\n",
    "print(empty_values)\n",
    "print(len(empty_values))\n",
    "\n",
    "#use the simple imputer function to replace the empty values in the dataframe\n",
    "imputer = SimpleImputer(strategy='most_frequent')\n",
    "imputer.fit(my_data)\n",
    "new_data = imputer.transform(my_data)\n",
    "\n",
    "#convert the data back to datframe and bind the headers as required\n",
    "my_data = pd.DataFrame(new_data, columns=header_names)\n",
    "\n",
    "#extract the x data - independent variables\n",
    "X_data = my_data.drop(['diab_class'], axis=1)\n",
    "\n",
    "ffe = f_regression(X_data, my_data.age)\n",
    "variab = [ ]\n",
    "for i in range(0, len(X_data.columns)-1):\n",
    "    if ffe[0][i] >= 20: #check variables importance over 10%.\n",
    "        variab.append(X_data.columns[i])\n",
    "print(variab)"
   ]
  },
  {
   "cell_type": "code",
   "execution_count": null,
   "outputs": [],
   "source": [],
   "metadata": {
    "collapsed": false
   }
  }
 ],
 "metadata": {
  "kernelspec": {
   "display_name": "Python 3",
   "language": "python",
   "name": "python3"
  },
  "language_info": {
   "codemirror_mode": {
    "name": "ipython",
    "version": 2
   },
   "file_extension": ".py",
   "mimetype": "text/x-python",
   "name": "python",
   "nbconvert_exporter": "python",
   "pygments_lexer": "ipython2",
   "version": "2.7.6"
  }
 },
 "nbformat": 4,
 "nbformat_minor": 0
}

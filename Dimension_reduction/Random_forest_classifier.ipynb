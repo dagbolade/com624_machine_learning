{
 "cells": [
  {
   "cell_type": "code",
   "execution_count": 14,
   "metadata": {
    "collapsed": true
   },
   "outputs": [
    {
     "name": "stdout",
     "output_type": "stream",
     "text": [
      "(771, 9)\n",
      "     preg   plas  pres  skin  test  mass   pedi   age  diab_class\n",
      "440     2  120.0   NaN    26  16.0  36.8  0.766  22.0           0\n",
      "661     2  120.0  58.0    26  16.0   NaN  0.766  22.0           0\n",
      "770     2    NaN  58.0    26   NaN  28.4  0.766   NaN           0\n",
      "3\n"
     ]
    },
    {
     "data": {
      "text/plain": "<Figure size 640x480 with 1 Axes>",
      "image/png": "[encoded data removed]"
     },
     "metadata": {},
     "output_type": "display_data"
    }
   ],
   "source": [
    "import numpy as np\n",
    "import pandas as pd\n",
    "from pandas import read_csv\n",
    "from numpy import set_printoptions\n",
    "from sklearn import preprocessing\n",
    "from sklearn.impute import SimpleImputer\n",
    "from sklearn.ensemble import RandomForestRegressor, RandomForestClassifier\n",
    "import matplotlib.pyplot as plt\n",
    "\n",
    "#load the data into a dataframe\n",
    "header_names = ['preg', 'plas', 'pres', 'skin', 'test', 'mass', 'pedi', 'age', 'diab_class']\n",
    "my_data = pd.read_csv(r'pima_indians_diabetes_2 (1).csv', names=header_names)\n",
    "\n",
    "#get the dimension of the shape\n",
    "print(my_data.shape)\n",
    "\n",
    "#get the row with empty values\n",
    "empty_values = my_data[my_data.isna().any(axis=1)]\n",
    "print(empty_values)\n",
    "print(len(empty_values))\n",
    "\n",
    "#use the simple imputer function to replace the empty values in the dataframe\n",
    "imputer = SimpleImputer(strategy='most_frequent')\n",
    "imputer.fit(my_data)\n",
    "new_data = imputer.transform(my_data)\n",
    "\n",
    "#convert the data back to a dataframe and bind the headers\n",
    "my_data = pd.DataFrame(new_data, columns= header_names)\n",
    "#dropping the diab class as it is just unique numbers and hold no importance\n",
    "#X_data = my_data.drop(['diab_class'], axis=1)\n",
    "\n",
    "#extract the x data - independent variables\n",
    "X_data = my_data.drop(['age'], axis=1)\n",
    "\n",
    "#declare the random forest model\n",
    "rf_model = RandomForestClassifier(random_state=1, max_depth=4)\n",
    "\n",
    "#fit the model\n",
    "#rf_model.fit(X_data,my_data.diab_class)\n",
    "rf_model.fit(X_data, my_data.age)\n",
    "\n",
    "train_features = X_data.columns\n",
    "importances = rf_model.feature_importances_\n",
    "indices = np.argsort(importances)[-9:] #top 10 features\n",
    "plt.title('Feaure Importances')\n",
    "plt.barh(range(len(indices)), importances[indices], color='r', align='center')\n",
    "plt.yticks(range(len(indices)), [train_features[i] for i in indices])\n",
    "plt.xlabel('Relative Importance')\n",
    "plt.show()"
   ]
  },
  {
   "cell_type": "markdown",
   "source": [
    "Backward Feature Elimination #recursive feature elimination"
   ],
   "metadata": {
    "collapsed": false
   }
  },
  {
   "cell_type": "code",
   "execution_count": 16,
   "outputs": [
    {
     "name": "stdout",
     "output_type": "stream",
     "text": [
      "(771, 9)\n",
      "     preg   plas  pres  skin  test  mass   pedi   age  diab_class\n",
      "440     2  120.0   NaN    26  16.0  36.8  0.766  22.0           0\n",
      "661     2  120.0  58.0    26  16.0   NaN  0.766  22.0           0\n",
      "770     2    NaN  58.0    26   NaN  28.4  0.766   NaN           0\n",
      "3\n",
      "   preg   plas  pres  skin  test  mass   pedi   age\n",
      "0   6.0  148.0  72.0  35.0   0.0  33.6  0.627  50.0\n",
      "1   1.0   85.0  66.0  29.0   0.0  26.6  0.351  31.0\n",
      "2   8.0  183.0  64.0   0.0   0.0  23.3  0.672  32.0 \n",
      " checking the new X data \n",
      " \n",
      "Number of Features:  3\n",
      "Selected Features:  [ True False False False False  True  True False]\n",
      "Features Ranking:  [1 2 4 6 5 1 1 3]\n"
     ]
    }
   ],
   "source": [
    "import numpy as np\n",
    "import pandas as pd\n",
    "from pandas import read_csv\n",
    "from numpy import set_printoptions\n",
    "from sklearn import preprocessing\n",
    "from sklearn.impute import SimpleImputer\n",
    "from sklearn.ensemble import RandomForestRegressor, RandomForestClassifier\n",
    "import matplotlib.pyplot as plt\n",
    "from sklearn.linear_model import LinearRegression, LogisticRegression\n",
    "from sklearn.feature_selection import RFE\n",
    "\n",
    "#load the data into a dataframe\n",
    "header_names = ['preg', 'plas', 'pres', 'skin', 'test', 'mass', 'pedi', 'age', 'diab_class']\n",
    "my_data = pd.read_csv(r'pima_indians_diabetes_2 (1).csv', names=header_names)\n",
    "\n",
    "#get the dimension of the shape\n",
    "print(my_data.shape)\n",
    "\n",
    "#get the row with empty values\n",
    "empty_values = my_data[my_data.isna().any(axis=1)]\n",
    "print(empty_values)\n",
    "print(len(empty_values))\n",
    "\n",
    "#use the simple imputer function to replace the empty values in the dataframe\n",
    "imputer = SimpleImputer(strategy='most_frequent')\n",
    "imputer.fit(my_data)\n",
    "new_data = imputer.transform(my_data)\n",
    "\n",
    "#convert the data back to datframe and bind the headers as required\n",
    "my_data = pd.DataFrame(new_data, columns=header_names)\n",
    "\n",
    "#extract the x data - independent variables\n",
    "X_data = my_data.drop(['diab_class'], axis=1)\n",
    "print(X_data.head(3), '\\n checking the new X data \\n ')\n",
    "\n",
    "#declare a linear model\n",
    "lr = LinearRegression()\n",
    "\n",
    "#recursive feature elimination\n",
    "rfe = RFE(lr, n_features_to_select=3, step=1)\n",
    "rfe = rfe.fit(X_data, my_data.diab_class)\n",
    "\n",
    "print(\"Number of Features: \", rfe.n_features_)\n",
    "print(\"Selected Features: \", rfe.support_)\n",
    "print(\"Features Ranking: \", rfe.ranking_)"
   ],
   "metadata": {
    "collapsed": false
   }
  },
  {
   "cell_type": "markdown",
   "source": [],
   "metadata": {
    "collapsed": false
   }
  },
  {
   "cell_type": "code",
   "execution_count": 11,
   "outputs": [],
   "source": [],
   "metadata": {
    "collapsed": false
   }
  }
 ],
 "metadata": {
  "kernelspec": {
   "display_name": "Python 3",
   "language": "python",
   "name": "python3"
  },
  "language_info": {
   "codemirror_mode": {
    "name": "ipython",
    "version": 2
   },
   "file_extension": ".py",
   "mimetype": "text/x-python",
   "name": "python",
   "nbconvert_exporter": "python",
   "pygments_lexer": "ipython2",
   "version": "2.7.6"
  }
 },
 "nbformat": 4,
 "nbformat_minor": 0
}

{
 "cells": [
  {
   "cell_type": "markdown",
   "source": [
    "                                DIMENSION REDUCTION AND UNSUPERVISED LEARNING"
   ],
   "metadata": {
    "collapsed": false
   }
  },
  {
   "cell_type": "markdown",
   "source": [
    "MISSING VALUE RATIO"
   ],
   "metadata": {
    "collapsed": false
   }
  },
  {
   "cell_type": "code",
   "execution_count": 20,
   "metadata": {
    "collapsed": true
   },
   "outputs": [
    {
     "name": "stdout",
     "output_type": "stream",
     "text": [
      "     preg   plas  pres  skin  test  mass   pedi   age  class\n",
      "440     2  120.0   NaN    26  16.0  36.8  0.766  22.0      0\n",
      "661     2  120.0  58.0    26  16.0   NaN  0.766  22.0      0\n",
      "770     2    NaN  58.0    26   NaN  28.4  0.766   NaN      0\n",
      "3\n",
      "['plas', 'pres', 'test', 'mass', 'age']\n",
      "(771, 5) (771, 9)\n"
     ]
    }
   ],
   "source": [
    "#missing value ratio\n",
    "import pandas as pd\n",
    "import numpy as np\n",
    "from sklearn import preprocessing\n",
    "from sklearn.impute import SimpleImputer\n",
    "\n",
    "#load the data into a dataframe\n",
    "header_names = ['preg', 'plas', 'pres', 'skin', 'test', 'mass', 'pedi', 'age', 'class']\n",
    "my_data = pd.read_csv(r'pima_indians_diabetes_2 (1).csv', names=header_names)\n",
    "\n",
    "#get the dimension of the shape\n",
    "my_data.shape\n",
    "\n",
    "#get the row with empty values\n",
    "empty_values = my_data[my_data.isna().any(axis=1)]\n",
    "print(empty_values)\n",
    "#gettinh the length of the empty values\n",
    "print(len(empty_values))\n",
    "#get the percentage of the missing values\n",
    "#percent_missing = df. isnull(). sum() * 100 / len(df)\n",
    "percentage_missing = my_data.isnull().sum() * 100 / len(my_data)\n",
    "#print(percentage_missing)\n",
    "#print(my_data.isnull().sum())\n",
    "\n",
    "#removing the variables with more than 25% missing variables\n",
    "\n",
    "# saving column names in a variable\n",
    "var_list = my_data.columns\n",
    "var = []\n",
    "for i in range(0,9):\n",
    "    if percentage_missing[i] >= 0.10: #setting the missing threshold to 0.25,0.10\n",
    "        var.append(var_list[i])\n",
    "print(var)\n",
    "\n",
    "#creating a new dataframe\n",
    "new_data = my_data[var]\n",
    "new_data.head()\n",
    "\n",
    "#compare shape of the old data and new data\n",
    "\n",
    "print(new_data.shape, my_data.shape)"
   ]
  },
  {
   "cell_type": "markdown",
   "source": [],
   "metadata": {
    "collapsed": false
   }
  },
  {
   "cell_type": "code",
   "execution_count": null,
   "outputs": [],
   "source": [],
   "metadata": {
    "collapsed": false
   }
  }
 ],
 "metadata": {
  "kernelspec": {
   "display_name": "Python 3",
   "language": "python",
   "name": "python3"
  },
  "language_info": {
   "codemirror_mode": {
    "name": "ipython",
    "version": 2
   },
   "file_extension": ".py",
   "mimetype": "text/x-python",
   "name": "python",
   "nbconvert_exporter": "python",
   "pygments_lexer": "ipython2",
   "version": "2.7.6"
  }
 },
 "nbformat": 4,
 "nbformat_minor": 0
}

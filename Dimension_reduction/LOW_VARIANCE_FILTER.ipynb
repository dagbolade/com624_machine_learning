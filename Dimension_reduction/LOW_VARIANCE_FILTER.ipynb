{
 "cells": [
  {
   "cell_type": "code",
   "execution_count": 15,
   "metadata": {
    "collapsed": true
   },
   "outputs": [
    {
     "name": "stdout",
     "output_type": "stream",
     "text": [
      "(771, 9)\n",
      "     preg   plas  pres  skin  test  mass   pedi   age  class\n",
      "440     2  120.0   NaN    26  16.0  36.8  0.766  22.0      0\n",
      "661     2  120.0  58.0    26  16.0   NaN  0.766  22.0      0\n",
      "770     2    NaN  58.0    26   NaN  28.4  0.766   NaN      0\n",
      "3\n",
      "Missing ratio \n",
      "  preg     0.0\n",
      "plas     0.0\n",
      "pres     0.0\n",
      "skin     0.0\n",
      "test     0.0\n",
      "mass     0.0\n",
      "pedi     0.0\n",
      "age      0.0\n",
      "class    0.0\n",
      "dtype: float64\n",
      "\n",
      " The data variance \n",
      "  preg     0.000438\n",
      "plas     0.025945\n",
      "pres     0.023460\n",
      "skin     0.008556\n",
      "test     0.114427\n",
      "mass     0.004013\n",
      "pedi     0.000004\n",
      "age      0.006531\n",
      "class    0.000007\n",
      "dtype: float64\n",
      "\n",
      " Variables ['plas', 'pres', 'skin', 'test', 'mass', 'pedi', 'class']\n"
     ]
    }
   ],
   "source": [
    "import numpy as np\n",
    "import pandas as pd\n",
    "from sklearn import preprocessing\n",
    "from pandas import read_csv\n",
    "from sklearn.impute import SimpleImputer\n",
    "from sklearn.preprocessing import MinMaxScaler, Normalizer\n",
    "\n",
    "#load the data into a dataframe\n",
    "header_names = ['preg', 'plas', 'pres', 'skin', 'test', 'mass', 'pedi', 'age', 'class']\n",
    "my_data = pd.read_csv(r'pima_indians_diabetes_2 (1).csv', names=header_names)\n",
    "\n",
    "#get the dimension of the shape\n",
    "print(my_data.shape)\n",
    "\n",
    "#grt the row with the empty data\n",
    "empty_values = my_data[my_data.isna().any(axis=1)]\n",
    "print(empty_values)\n",
    "print(len(empty_values))\n",
    "\n",
    "#using the simple imputer function to replace missing values\n",
    "imputer = SimpleImputer(strategy='most_frequent')\n",
    "imputer.fit(my_data)\n",
    "new_data = imputer.transform(my_data)\n",
    "\n",
    "#load data back in the dataframe\n",
    "my_data = pd.DataFrame(new_data, columns=header_names)\n",
    "\n",
    "#check the missing value ratio\n",
    "missing_ratio =  my_data.isnull().sum() * 100 /len(my_data)\n",
    "\n",
    "print('Missing ratio \\n ', missing_ratio)\n",
    "\n",
    "  #normalize the data as our data do not assume a normality\n",
    "diab_data_normalizer = Normalizer(norm='l2').fit(my_data)\n",
    "normalised_data = diab_data_normalizer.transform(my_data)\n",
    "diab_data = pd.DataFrame(normalised_data, columns=header_names)\n",
    "\n",
    "#without normalisation\n",
    "#diab_data = pd.DataFrame(my_data, columns=header_names) #coment out when you want to use the normalise variable\n",
    "\n",
    "#checking the variance of numerical values\n",
    "data_variance = diab_data.var()\n",
    "print('\\n The data variance \\n ', data_variance) #pedi and preg has low variance\n",
    "\n",
    "#store the variance results in a new column\n",
    "diab_data = diab_data.columns\n",
    "\n",
    "#saving the names of variables having variance more than a threshold value\n",
    "variabe = [ ]\n",
    "for i in range(0, len(data_variance)):\n",
    "    if data_variance[i] >= 0.0001: #set the variance threshold between 10 -10000\n",
    "        variabe.append(diab_data[i+1])\n",
    "print('\\n Variables', variabe)"
   ]
  },
  {
   "cell_type": "markdown",
   "source": [
    "HIGH CORRELATION FITER"
   ],
   "metadata": {
    "collapsed": false
   }
  },
  {
   "cell_type": "code",
   "execution_count": 16,
   "outputs": [
    {
     "name": "stdout",
     "output_type": "stream",
     "text": [
      "(771, 9)\n",
      "     preg   plas  pres  skin  test  mass   pedi   age  class\n",
      "440     2  120.0   NaN    26  16.0  36.8  0.766  22.0      0\n",
      "661     2  120.0  58.0    26  16.0   NaN  0.766  22.0      0\n",
      "770     2    NaN  58.0    26   NaN  28.4  0.766   NaN      0\n",
      "3\n",
      "Missing ratio \n",
      "  preg     0.0\n",
      "plas     0.0\n",
      "pres     0.0\n",
      "skin     0.0\n",
      "test     0.0\n",
      "mass     0.0\n",
      "pedi     0.0\n",
      "age      0.0\n",
      "class    0.0\n",
      "dtype: float64\n",
      "\n",
      " The data correlation \n",
      "            preg      plas      pres      skin      test      mass      pedi  \\\n",
      "preg   1.000000  0.129870  0.141921 -0.082336 -0.072162  0.017556 -0.035342   \n",
      "plas   0.129870  1.000000  0.153007  0.056968  0.331677  0.221304  0.136233   \n",
      "pres   0.141921  0.153007  1.000000  0.206745  0.089727  0.281955  0.039917   \n",
      "skin  -0.082336  0.056968  0.206745  1.000000  0.435574  0.392404  0.184786   \n",
      "test  -0.072162  0.331677  0.089727  0.435574  1.000000  0.197615  0.182586   \n",
      "mass   0.017556  0.221304  0.281955  0.392404  0.197615  1.000000  0.140557   \n",
      "pedi  -0.035342  0.136233  0.039917  0.184786  0.182586  0.140557  1.000000   \n",
      "age    0.545092  0.263884  0.240364 -0.115015 -0.039830  0.035972  0.030155   \n",
      "class  0.223096  0.466656  0.066018  0.073682  0.132027  0.292132  0.170873   \n",
      "\n",
      "            age     class  \n",
      "preg   0.545092  0.223096  \n",
      "plas   0.263884  0.466656  \n",
      "pres   0.240364  0.066018  \n",
      "skin  -0.115015  0.073682  \n",
      "test  -0.039830  0.132027  \n",
      "mass   0.035972  0.292132  \n",
      "pedi   0.030155  0.170873  \n",
      "age    1.000000  0.240402  \n",
      "class  0.240402  1.000000  \n"
     ]
    }
   ],
   "source": [
    "#high correlation filter\n",
    "import numpy as np\n",
    "import pandas as pd\n",
    "from sklearn import preprocessing\n",
    "from pandas import read_csv\n",
    "from sklearn.impute import SimpleImputer\n",
    "from sklearn.preprocessing import MinMaxScaler, Normalizer\n",
    "\n",
    "#load the data into a dataframe\n",
    "header_names = ['preg', 'plas', 'pres', 'skin', 'test', 'mass', 'pedi', 'age', 'class']\n",
    "my_data = pd.read_csv(r'pima_indians_diabetes_2 (1).csv', names=header_names)\n",
    "\n",
    "#get the dimension of the shape\n",
    "print(my_data.shape)\n",
    "\n",
    "#grt the row with the empty data\n",
    "empty_values = my_data[my_data.isna().any(axis=1)]\n",
    "print(empty_values)\n",
    "print(len(empty_values))\n",
    "\n",
    "#using the simple imputer function to replace missing values\n",
    "imputer = SimpleImputer(strategy='most_frequent')\n",
    "imputer.fit(my_data)\n",
    "new_data = imputer.transform(my_data)\n",
    "\n",
    "#load data back in the dataframe\n",
    "my_data = pd.DataFrame(new_data, columns=header_names)\n",
    "\n",
    "#check the missing value ratio\n",
    "missing_ratio =  my_data.isnull().sum() * 100 /len(my_data)\n",
    "print('Missing ratio \\n ', missing_ratio)\n",
    "\n",
    "#checking the variance of numerical values\n",
    "data_corr = my_data.corr()\n",
    "print('\\n The data correlation \\n', data_corr)\n"
   ],
   "metadata": {
    "collapsed": false
   }
  },
  {
   "cell_type": "code",
   "execution_count": null,
   "outputs": [],
   "source": [],
   "metadata": {
    "collapsed": false
   }
  }
 ],
 "metadata": {
  "kernelspec": {
   "display_name": "Python 3",
   "language": "python",
   "name": "python3"
  },
  "language_info": {
   "codemirror_mode": {
    "name": "ipython",
    "version": 2
   },
   "file_extension": ".py",
   "mimetype": "text/x-python",
   "name": "python",
   "nbconvert_exporter": "python",
   "pygments_lexer": "ipython2",
   "version": "2.7.6"
  }
 },
 "nbformat": 4,
 "nbformat_minor": 0
}

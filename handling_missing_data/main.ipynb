{
 "cells": [
  {
   "cell_type": "code",
   "execution_count": 6,
   "metadata": {
    "collapsed": true
   },
   "outputs": [],
   "source": [
    "# data preprocessing\n",
    "from pandas import read_csv\n",
    "from numpy import set_printoptions\n",
    "from sklearn import preprocessing"
   ]
  },
  {
   "cell_type": "code",
   "execution_count": 15,
   "outputs": [
    {
     "name": "stdout",
     "output_type": "stream",
     "text": [
      "(771, 9)\n",
      "   preg   plas  pres  skin   test  mass   pedi   age  class\n",
      "0     6  148.0  72.0    35    0.0  33.6  0.627  50.0      1\n",
      "1     1   85.0  66.0    29    0.0  26.6  0.351  31.0      0\n",
      "2     8  183.0  64.0     0    0.0  23.3  0.672  32.0      1\n",
      "3     1   89.0  66.0    23   94.0  28.1  0.167  21.0      0\n",
      "4     0  137.0  40.0    35  168.0  43.1  2.288  33.0      1\n",
      "     preg   plas  pres  skin   test  mass   pedi   age  class\n",
      "766     2  122.0  70.0    27    0.0  36.8  0.340  27.0      0\n",
      "767     5  121.0  72.0    23  112.0  26.2  0.245  30.0      0\n",
      "768     1  126.0  60.0     0    0.0  30.1  0.349  47.0      1\n",
      "769     1   93.0  70.0    31    0.0  30.4  0.315  23.0      0\n",
      "770     2    NaN  58.0    26    NaN  28.4  0.766   NaN      0\n",
      "      preg   plas   pres   skin   test   mass   pedi    age  class\n",
      "0    False  False  False  False  False  False  False  False  False\n",
      "1    False  False  False  False  False  False  False  False  False\n",
      "2    False  False  False  False  False  False  False  False  False\n",
      "3    False  False  False  False  False  False  False  False  False\n",
      "4    False  False  False  False  False  False  False  False  False\n",
      "..     ...    ...    ...    ...    ...    ...    ...    ...    ...\n",
      "766  False  False  False  False  False  False  False  False  False\n",
      "767  False  False  False  False  False  False  False  False  False\n",
      "768  False  False  False  False  False  False  False  False  False\n",
      "769  False  False  False  False  False  False  False  False  False\n",
      "770  False   True  False  False   True  False  False   True  False\n",
      "\n",
      "[771 rows x 9 columns]\n"
     ]
    }
   ],
   "source": [
    "#Load data into dataframe\n",
    "header_name = ['preg', 'plas', 'pres', 'skin', 'test', 'mass', 'pedi', 'age', 'class']\n",
    "my_data = read_csv('venv/pima_indians_diabetes_2.csv', names= header_name)\n",
    "\n",
    "#Check the data dimension\n",
    "print(my_data.shape)\n",
    "\n",
    "#check the first 5 and the last 5 rows\n",
    "print(my_data.head(5))\n",
    "print(my_data.tail(5))\n",
    "\n",
    "#checking if the value is null\n",
    "print(my_data.isna())"
   ],
   "metadata": {
    "collapsed": false
   }
  },
  {
   "cell_type": "markdown",
   "source": [
    "Printing out rows containing empty value\n",
    "dataframe has 2 axis, axis 0 and axis 1 axis 0 rep rows, while axis 1 reps the columns"
   ],
   "metadata": {
    "collapsed": false
   }
  },
  {
   "cell_type": "code",
   "execution_count": 21,
   "outputs": [
    {
     "name": "stdout",
     "output_type": "stream",
     "text": [
      "(771, 9)\n",
      "     preg   plas  pres  skin  test  mass   pedi   age  class\n",
      "440     2  120.0   NaN    26  16.0  36.8  0.766  22.0      0\n",
      "661     2  120.0  58.0    26  16.0   NaN  0.766  22.0      0\n",
      "770     2    NaN  58.0    26   NaN  28.4  0.766   NaN      0\n",
      "class\n",
      "0    503\n",
      "1    268\n",
      "dtype: int64\n"
     ]
    }
   ],
   "source": [
    "from pandas import read_csv\n",
    "from numpy import set_printoptions\n",
    "from sklearn import preprocessing\n",
    "\n",
    "#Load data into dataframe\n",
    "header_name = ['preg', 'plas', 'pres', 'skin', 'test', 'mass', 'pedi', 'age', 'class']\n",
    "my_data = read_csv('venv/pima_indians_diabetes_2.csv', names= header_name)\n",
    "\n",
    "print(my_data.shape)\n",
    "\n",
    "# saving the data with empty values\n",
    "empty_data = my_data[my_data.isna().any(axis=1)]\n",
    "\n",
    "print(empty_data)\n",
    "\n",
    "print((my_data.groupby('class').size()))"
   ],
   "metadata": {
    "collapsed": false
   }
  },
  {
   "cell_type": "markdown",
   "source": [
    "Dropping the null values"
   ],
   "metadata": {
    "collapsed": false
   }
  },
  {
   "cell_type": "code",
   "execution_count": 27,
   "outputs": [
    {
     "name": "stdout",
     "output_type": "stream",
     "text": [
      "The dimension of the initial dataframe is  (771, 9)\n",
      "\n",
      " The dimension of the new dataframe with dropped null values  (771, 9)\n",
      "\n",
      " The lat 5 rows of the new dataframe       preg   plas  pres  skin   test  mass   pedi   age  class\n",
      "765    10  101.0  76.0    48  180.0  32.9  0.171  63.0      0\n",
      "766     2  122.0  70.0    27    0.0  36.8  0.340  27.0      0\n",
      "767     5  121.0  72.0    23  112.0  26.2  0.245  30.0      0\n",
      "768     1  126.0  60.0     0    0.0  30.1  0.349  47.0      1\n",
      "769     1   93.0  70.0    31    0.0  30.4  0.315  23.0      0\n",
      "     preg   plas  pres  skin   test  mass   pedi   age  class\n",
      "0       6  148.0  72.0    35    0.0  33.6  0.627  50.0      1\n",
      "1       1   85.0  66.0    29    0.0  26.6  0.351  31.0      0\n",
      "2       8  183.0  64.0     0    0.0  23.3  0.672  32.0      1\n",
      "3       1   89.0  66.0    23   94.0  28.1  0.167  21.0      0\n",
      "4       0  137.0  40.0    35  168.0  43.1  2.288  33.0      1\n",
      "..    ...    ...   ...   ...    ...   ...    ...   ...    ...\n",
      "765    10  101.0  76.0    48  180.0  32.9  0.171  63.0      0\n",
      "766     2  122.0  70.0    27    0.0  36.8  0.340  27.0      0\n",
      "767     5  121.0  72.0    23  112.0  26.2  0.245  30.0      0\n",
      "768     1  126.0  60.0     0    0.0  30.1  0.349  47.0      1\n",
      "769     1   93.0  70.0    31    0.0  30.4  0.315  23.0      0\n",
      "\n",
      "[768 rows x 9 columns]\n"
     ]
    }
   ],
   "source": [
    "# dropping the rows with the null values\n",
    "\n",
    "from pandas import read_csv\n",
    "from numpy import set_printoptions\n",
    "from sklearn import preprocessing\n",
    "\n",
    "#loading data into the dataframe\n",
    "header_name = ['preg', 'plas', 'pres', 'skin', 'test', 'mass', 'pedi', 'age', 'class']\n",
    "my_data = read_csv(\"venv/pima_indians_diabetes_2.csv\", names=header_name)\n",
    "\n",
    "print(\"The dimension of the initial dataframe is \", my_data.shape)\n",
    "\n",
    "#drop the row with empty values\n",
    "new_data_drop = my_data.dropna()\n",
    "\n",
    "print(\"\\n The dimension of the new dataframe with dropped null values \", my_data.shape)\n",
    "print(\"\\n The lat 5 rows of the new dataframe \",new_data_drop.tail(5))\n",
    "print(new_data_drop)"
   ],
   "metadata": {
    "collapsed": false
   }
  },
  {
   "cell_type": "code",
   "execution_count": null,
   "outputs": [],
   "source": [],
   "metadata": {
    "collapsed": false
   }
  }
 ],
 "metadata": {
  "kernelspec": {
   "display_name": "Python 3",
   "language": "python",
   "name": "python3"
  },
  "language_info": {
   "codemirror_mode": {
    "name": "ipython",
    "version": 2
   },
   "file_extension": ".py",
   "mimetype": "text/x-python",
   "name": "python",
   "nbconvert_exporter": "python",
   "pygments_lexer": "ipython2",
   "version": "2.7.6"
  }
 },
 "nbformat": 4,
 "nbformat_minor": 0
}

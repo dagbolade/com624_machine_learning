{
 "cells": [
  {
   "cell_type": "code",
   "execution_count": null,
   "metadata": {
    "collapsed": true,
    "pycharm": {
     "is_executing": true
    }
   },
   "outputs": [],
   "source": [
    "import numpy as np\n",
    "import pandas as pd\n",
    "from pandas import read_csv\n",
    "\n",
    "#declaring header names\n",
    "winsconsin_headers = ['sample_code','c_thickness', 'uni_cell_size', 'uni_cell_shape', 'marg_adhesion', 'epi_cell_size', 'nuclei','bland_chromatin', 'normal_nucleoli', 'mitoses', 'tumor_class']\n",
    "\n",
    "wins_data = read_csv(\"venv/winsconsin_b_cancer.csv\" ,names= winsconsin_headers)\n",
    "\n",
    "print(wins_data.shape) #getting the dimension of the data\n",
    "wins_data.head(5)\n",
    "wins_data.tail(5)"
   ]
  },
  {
   "cell_type": "markdown",
   "source": [
    "EXPLORE THE DATASET AND PREPROCESS THE DATASET"
   ],
   "metadata": {
    "collapsed": false
   }
  },
  {
   "cell_type": "code",
   "execution_count": null,
   "outputs": [],
   "source": [
    "import numpy as np\n",
    "import pandas as pd\n",
    "from pandas import read_csv\n",
    "\n",
    "#declaring header names\n",
    "winsconsin_headers = ['sample_code','c_thickness', 'uni_cell_size', 'uni_cell_shape', 'marg_adhesion', 'epi_cell_size', 'nuclei','bland_chromatin', 'normal_nucleoli', 'mitoses', 'tumor_class']\n",
    "\n",
    "#read the data using read_csv class of pandas\n",
    "wins_data = read_csv(\"venv/winsconsin_b_cancer.csv\" ,names= winsconsin_headers)\n",
    "\n",
    "print(wins_data.shape)\n",
    "\n",
    "#check our data for missing values\n",
    "win_empty_data = wins_data[wins_data.isna().any(axis=1)]\n",
    "print(\"\\n These are the missing data \\n\", win_empty_data)\n",
    "print(win_empty_data.dtypes)"
   ],
   "metadata": {
    "collapsed": false,
    "pycharm": {
     "is_executing": true
    }
   }
  },
  {
   "cell_type": "code",
   "execution_count": null,
   "outputs": [],
   "source": [
    "import numpy as np\n",
    "import pandas as pd\n",
    "from pandas import read_csv\n",
    "\n",
    "#declaring header names\n",
    "winsconsin_headers = ['sample_code','c_thickness', 'uni_cell_size', 'uni_cell_shape', 'marg_adhesion', 'epi_cell_size', 'nuclei','bland_chromatin', 'normal_nucleoli', 'mitoses', 'tumor_class']\n",
    "\n",
    "#read the data using read_csv class of pandas\n",
    "wins_data = read_csv(\"venv/winsconsin_b_cancer.csv\" ,names= winsconsin_headers)\n",
    "\n",
    "print(wins_data.shape)\n",
    "\n",
    "#check the data instance that are not numeric in the nuclei variable\n",
    "print(wins_data[pd.to_numeric(wins_data['nuclei'], errors='coerce').isnull()])"
   ],
   "metadata": {
    "collapsed": false,
    "pycharm": {
     "is_executing": true
    }
   }
  },
  {
   "cell_type": "markdown",
   "source": [
    "    CONVERTING TO NUMERIC"
   ],
   "metadata": {
    "collapsed": false
   }
  },
  {
   "cell_type": "code",
   "execution_count": null,
   "outputs": [],
   "source": [
    "import numpy as np\n",
    "import pandas as pd\n",
    "from pandas import read_csv\n",
    "\n",
    "#declaring header names\n",
    "winsconsin_headers = ['sample_code','c_thickness', 'uni_cell_size', 'uni_cell_shape', 'marg_adhesion', 'epi_cell_size', 'nuclei','bland_chromatin', 'normal_nucleoli', 'mitoses', 'tumor_class']\n",
    "\n",
    "#read the data using read_csv class of pandas\n",
    "wins_data = read_csv(\"venv/winsconsin_b_cancer.csv\" ,names= winsconsin_headers)\n",
    "\n",
    "print(wins_data.shape)\n",
    "\n",
    "#converting the nuclei variable to numeric and force the non-numeric values to NAN(a recognised null value)\n",
    "wins_data['nuclei']=pd.to_numeric(wins_data['nuclei'], errors='coerce')\n",
    "#print(wins_data.apply(pd.to_numeric, errors='coerce').info()) #this will give the datatype info after the conversion\n",
    "\n",
    "#now let check missing values\n",
    "# - check our data for missing values\n",
    "win_empty_data = wins_data[wins_data.isna().any(axis=1)]\n",
    "#print(\"\\n These are the missing data \\n\", win_empty_data)\n",
    "\n",
    "#check the basic stat(mean,std,max) of the data\n",
    "wins_data.describe()"
   ],
   "metadata": {
    "collapsed": false
   }
  },
  {
   "cell_type": "code",
   "execution_count": null,
   "outputs": [],
   "source": [
    "import numpy as np\n",
    "import pandas as pd\n",
    "from pandas import read_csv\n",
    "\n",
    "#declaring header names\n",
    "winsconsin_headers = ['sample_code','c_thickness', 'uni_cell_size', 'uni_cell_shape', 'marg_adhesion', 'epi_cell_size', 'nuclei','bland_chromatin', 'normal_nucleoli', 'mitoses', 'tumor_class']\n",
    "\n",
    "#read the data using read_csv class of pandas\n",
    "wins_data = read_csv(\"venv/winsconsin_b_cancer.csv\" ,names= winsconsin_headers)\n",
    "\n",
    "print(wins_data.shape)\n",
    "\n",
    "#converting the nuclei variable to numeric and force the non-numeric values to NAN(a recognised null value)\n",
    "wins_data['nuclei']=pd.to_numeric(wins_data['nuclei'], errors='coerce')\n",
    "#print(wins_data.apply(pd.to_numeric, errors='coerce').info()) #this will give the datatype info after the conversion\n",
    "\n",
    "#now let check missing values\n",
    "# - check our data for missing values\n",
    "win_empty_data = wins_data[wins_data.isna().any(axis=1)]\n",
    "#print(\"\\n These are the missing data \\n\", win_empty_data)\n",
    "\n",
    "#since ? cannot be converted to int we can convert all data to float\n",
    "wins_data[winsconsin_headers] = wins_data[winsconsin_headers].applymap(float)\n",
    "\n",
    "#dropping the sample code column as its an index column\n",
    "wins_data.drop('sample_code', axis=1, inplace=True)\n",
    "wins_data.head(5)\n",
    "wins_data.dtypes"
   ],
   "metadata": {
    "collapsed": false
   }
  },
  {
   "cell_type": "code",
   "execution_count": null,
   "outputs": [],
   "source": [
    "import numpy as np\n",
    "import pandas as pd\n",
    "from pandas import read_csv\n",
    "from sklearn.impute import SimpleImputer\n",
    "\n",
    "#declaring header names\n",
    "winsconsin_headers = ['sample_code','c_thickness', 'uni_cell_size', 'uni_cell_shape', 'marg_adhesion', 'epi_cell_size', 'nuclei','bland_chromatin', 'normal_nucleoli', 'mitoses', 'tumor_class']\n",
    "\n",
    "#read the data using read_csv class of pandas\n",
    "wins_data = read_csv(\"venv/winsconsin_b_cancer.csv\" ,names= winsconsin_headers)\n",
    "\n",
    "print(wins_data.shape)\n",
    "\n",
    "#converting the nuclei variable to numeric and force the non-numeric values to NAN(a recognised null value)\n",
    "wins_data['nuclei']=pd.to_numeric(wins_data['nuclei'], errors='coerce')\n",
    "#print(wins_data.apply(pd.to_numeric, errors='coerce').info()) #this will give the datatype info after the conversion\n",
    "\n",
    "#now let check missing values\n",
    "# - check our data for missing values\n",
    "win_empty_data = wins_data[wins_data.isna().any(axis=1)]\n",
    "#print(\"\\n These are the missing data \\n\", win_empty_data)\n",
    "\n",
    "#since ? cannot be converted to int we can convert all data to float\n",
    "wins_data[winsconsin_headers] = wins_data[winsconsin_headers].applymap(float)\n",
    "\n",
    "#declaring a new header\n",
    "new_wincosin_headers = ['c_thickness', 'uni_cell_size', 'uni_cell_shape', 'marg_adhesion', 'epi_cell_size', 'nuclei','bland_chromatin', 'normal_nucleoli', 'mitoses', 'tumor_class']\n",
    "'''\n",
    "#uuse the simpleimputer function to replace missing value\n",
    "imputer = SimpleImputer (strategy = 'mean') # replace most_freqduent with median, mean and observe\n",
    "imputer.fit(wins_data)\n",
    "new_data = imputer.transform(wins_data)\n",
    "wins_data = pd.Dataframe(new_data, columns = new_winsconsin_headers)\n",
    "'''\n",
    "\n",
    "# recheck our data for missing values\n",
    "win_empty_data = wins_data[wins_data.isna().any(axis=1)]\n",
    "print('\\n Missind data after replacement\\n', win_empty_data)"
   ],
   "metadata": {
    "collapsed": false
   }
  },
  {
   "cell_type": "markdown",
   "source": [
    "    replacing missing values"
   ],
   "metadata": {
    "collapsed": false
   }
  },
  {
   "cell_type": "code",
   "execution_count": null,
   "outputs": [],
   "source": [
    "import numpy as np\n",
    "import pandas as pd\n",
    "from pandas import read_csv\n",
    "from sklearn.impute import SimpleImputer\n",
    "\n",
    "#declaring header names\n",
    "winsconsin_headers = ['sample_code','c_thickness', 'uni_cell_size', 'uni_cell_shape', 'marg_adhesion', 'epi_cell_size', 'nuclei','bland_chromatin', 'normal_nucleoli', 'mitoses', 'tumor_class']\n",
    "\n",
    "#read the data using read_csv class of pandas\n",
    "wins_data = read_csv(\"venv/winsconsin_b_cancer.csv\" ,names= winsconsin_headers)\n",
    "\n",
    "print(wins_data.shape)\n",
    "\n",
    "#converting the nuclei variable to numeric and force the non-numeric values to NAN(a recognised null value)\n",
    "wins_data['nuclei']=pd.to_numeric(wins_data['nuclei'], errors='coerce')\n",
    "#print(wins_data.apply(pd.to_numeric, errors='coerce').info()) #this will give the datatype info after the conversion\n",
    "\n",
    "#now let check missing values\n",
    "# - check our data for missing values\n",
    "win_empty_data = wins_data[wins_data.isna().any(axis=1)]\n",
    "#print(\"\\n These are the missing data \\n\", win_empty_data)\n",
    "\n",
    "#since ? cannot be converted to int we can convert all data to float\n",
    "wins_data[winsconsin_headers] = wins_data[winsconsin_headers].applymap(float)\n",
    "\n",
    "# -- you will note that sample code number (sample_code column ) is simply an index column\n",
    "# --  and not useful for our learning process so drop it\n",
    "wins_data.drop('sample_code', axis=1, inplace=True)\n",
    "\n",
    "#declaring a new header\n",
    "new_winsconsin_headers = ['c_thickness', 'uni_cell_size', 'uni_cell_shape', 'marg_adhesion', 'epi_cell_size', 'nuclei','bland_chromatin', 'normal_nucleoli', 'mitoses', 'tumor_class']\n",
    "\n",
    "#use the simple imputer function to replace missing value\n",
    "imputer = SimpleImputer (strategy = 'mean') # replace most_frequent with median, mean and observe\n",
    "imputer.fit(wins_data)\n",
    "new_data = imputer.transform(wins_data)\n",
    "wins_data = pd.DataFrame(new_data, columns=new_winsconsin_headers)\n",
    "\n",
    "\n",
    "# recheck our data for missing values\n",
    "win_empty_data = wins_data[wins_data.isna().any(axis=1)]\n",
    "print('\\nMissing data after replacement\\n', win_empty_data)"
   ],
   "metadata": {
    "collapsed": false
   }
  },
  {
   "cell_type": "markdown",
   "source": [
    "    plotting the data in univariate analysis"
   ],
   "metadata": {
    "collapsed": false
   }
  },
  {
   "cell_type": "code",
   "execution_count": null,
   "outputs": [],
   "source": [
    "import numpy as np\n",
    "import pandas as pd\n",
    "from pandas import read_csv\n",
    "from sklearn.impute import SimpleImputer\n",
    "from matplotlib import pyplot\n",
    "\n",
    "#declaring header names\n",
    "winsconsin_headers = ['sample_code','c_thickness', 'uni_cell_size', 'uni_cell_shape', 'marg_adhesion', 'epi_cell_size', 'nuclei','bland_chromatin', 'normal_nucleoli', 'mitoses', 'tumor_class']\n",
    "\n",
    "#read the data using read_csv class of pandas\n",
    "wins_data = read_csv(\"venv/winsconsin_b_cancer.csv\" ,names= winsconsin_headers)\n",
    "\n",
    "print(wins_data.shape)\n",
    "\n",
    "#converting the nuclei variable to numeric and force the non-numeric values to NAN(a recognised null value)\n",
    "wins_data['nuclei']=pd.to_numeric(wins_data['nuclei'], errors='coerce')\n",
    "#print(wins_data.apply(pd.to_numeric, errors='coerce').info()) #this will give the datatype info after the conversion\n",
    "\n",
    "#now let check missing values\n",
    "# - check our data for missing values\n",
    "win_empty_data = wins_data[wins_data.isna().any(axis=1)]\n",
    "#print(\"\\n These are the missing data \\n\", win_empty_data)\n",
    "\n",
    "#since ? cannot be converted to int we can convert all data to float\n",
    "wins_data[winsconsin_headers] = wins_data[winsconsin_headers].applymap(float)\n",
    "\n",
    "# -- you will note that sample code number (sample_code column ) is simply an index column\n",
    "# --  and not useful for our learning process so drop it\n",
    "wins_data.drop('sample_code', axis=1, inplace=True)\n",
    "\n",
    "#declaring a new header\n",
    "new_winsconsin_headers = ['c_thickness', 'uni_cell_size', 'uni_cell_shape', 'marg_adhesion', 'epi_cell_size', 'nuclei','bland_chromatin', 'normal_nucleoli', 'mitoses', 'tumor_class']\n",
    "\n",
    "#use the simple imputer function to replace missing value\n",
    "imputer = SimpleImputer (strategy = 'mean') # replace most_frequent with median, mean and observe\n",
    "imputer.fit(wins_data)\n",
    "new_data = imputer.transform(wins_data)\n",
    "wins_data = pd.DataFrame(new_data, columns=new_winsconsin_headers)\n",
    "\n",
    "#plot the histogram\n",
    "wins_data.hist()\n",
    "pyplot.show()"
   ],
   "metadata": {
    "collapsed": false
   }
  },
  {
   "cell_type": "markdown",
   "source": [
    "    correlation analysis with the data"
   ],
   "metadata": {
    "collapsed": false
   }
  },
  {
   "cell_type": "code",
   "execution_count": null,
   "outputs": [],
   "source": [
    "import numpy as np\n",
    "import pandas as pd\n",
    "from pandas import read_csv\n",
    "from sklearn.impute import SimpleImputer\n",
    "from matplotlib import pyplot\n",
    "\n",
    "#declaring header names\n",
    "winsconsin_headers = ['sample_code','c_thickness', 'uni_cell_size', 'uni_cell_shape', 'marg_adhesion', 'epi_cell_size', 'nuclei','bland_chromatin', 'normal_nucleoli', 'mitoses', 'tumor_class']\n",
    "\n",
    "#read the data using read_csv class of pandas\n",
    "wins_data = read_csv(\"venv/winsconsin_b_cancer.csv\" ,names= winsconsin_headers)\n",
    "\n",
    "print(wins_data.shape)\n",
    "\n",
    "#converting the nuclei variable to numeric and force the non-numeric values to NAN(a recognised null value)\n",
    "wins_data['nuclei']=pd.to_numeric(wins_data['nuclei'], errors='coerce')\n",
    "#print(wins_data.apply(pd.to_numeric, errors='coerce').info()) #this will give the datatype info after the conversion\n",
    "\n",
    "#now let check missing values\n",
    "# - check our data for missing values\n",
    "win_empty_data = wins_data[wins_data.isna().any(axis=1)]\n",
    "#print(\"\\n These are the missing data \\n\", win_empty_data)\n",
    "\n",
    "#since ? cannot be converted to int we can convert all data to float\n",
    "wins_data[winsconsin_headers] = wins_data[winsconsin_headers].applymap(float)\n",
    "\n",
    "# -- you will note that sample code number (sample_code column ) is simply an index column\n",
    "# --  and not useful for our learning process so drop it\n",
    "wins_data.drop('sample_code', axis=1, inplace=True)\n",
    "\n",
    "#declaring a new header\n",
    "new_winsconsin_headers = ['c_thickness', 'uni_cell_size', 'uni_cell_shape', 'marg_adhesion', 'epi_cell_size', 'nuclei','bland_chromatin', 'normal_nucleoli', 'mitoses', 'tumor_class']\n",
    "\n",
    "#use the simple imputer function to replace missing value\n",
    "imputer = SimpleImputer (strategy = 'mean') # replace most_frequent with median, mean and observe\n",
    "imputer.fit(wins_data)\n",
    "new_data = imputer.transform(wins_data)\n",
    "wins_data = pd.DataFrame(new_data, columns=new_winsconsin_headers)\n",
    "\n",
    "#get the data correlation\n",
    "wins_data_correlation = wins_data.corr()\n",
    "\n",
    "#plot the correlation\n",
    "corr_fig = pyplot.figure()\n",
    "axises = corr_fig.add_subplot(111)\n",
    "axcorr = axises.matshow( wins_data_correlation,vmin=-1, vmax =1)\n",
    "\n",
    "corr_fig.colorbar(axcorr)\n",
    "ticks = np.arange(0,10,1)\n",
    "\n",
    "#assign ticks and labels\n",
    "axises.set_xticks(ticks)\n",
    "axises.set_yticks(ticks)\n",
    "axises.set_xticklabels(new_winsconsin_headers)\n",
    "axises.set_yticklabels(new_winsconsin_headers)\n",
    "pyplot.show() #showing your plot"
   ],
   "metadata": {
    "collapsed": false
   }
  },
  {
   "cell_type": "markdown",
   "source": [
    "\n",
    "    seperating the independent variable from the target variable"
   ],
   "metadata": {
    "collapsed": false
   }
  },
  {
   "cell_type": "code",
   "execution_count": null,
   "outputs": [],
   "source": [
    "#Training datasets\n",
    "import numpy as np\n",
    "import pandas as pd\n",
    "from pandas import read_csv\n",
    "from sklearn.impute import SimpleImputer\n",
    "from matplotlib import pyplot\n",
    "from sklearn.model_selection import  train_test_split\n",
    "\n",
    "#declaring header names\n",
    "winsconsin_headers = ['sample_code','c_thickness', 'uni_cell_size', 'uni_cell_shape', 'marg_adhesion', 'epi_cell_size', 'nuclei','bland_chromatin', 'normal_nucleoli', 'mitoses', 'tumor_class']\n",
    "\n",
    "#read the data using read_csv class of pandas\n",
    "wins_data = read_csv(\"venv/winsconsin_b_cancer.csv\" ,names= winsconsin_headers)\n",
    "\n",
    "print(wins_data.shape)\n",
    "\n",
    "#converting the nuclei variable to numeric and force the non-numeric values to NAN(a recognised null value)\n",
    "wins_data['nuclei']=pd.to_numeric(wins_data['nuclei'], errors='coerce')\n",
    "#print(wins_data.apply(pd.to_numeric, errors='coerce').info()) #this will give the datatype info after the conversion\n",
    "\n",
    "#now let check missing values\n",
    "# - check our data for missing values\n",
    "win_empty_data = wins_data[wins_data.isna().any(axis=1)]\n",
    "#print(\"\\n These are the missing data \\n\", win_empty_data)\n",
    "\n",
    "#since ? cannot be converted to int we can convert all data to float\n",
    "wins_data[winsconsin_headers] = wins_data[winsconsin_headers].applymap(float)\n",
    "\n",
    "# -- you will note that sample code number (sample_code column ) is simply an index column\n",
    "# --  and not useful for our learning process so drop it\n",
    "wins_data.drop('sample_code', axis=1, inplace=True)\n",
    "\n",
    "#declaring a new header\n",
    "new_winsconsin_headers = ['c_thickness', 'uni_cell_size', 'uni_cell_shape', 'marg_adhesion', 'epi_cell_size', 'nuclei','bland_chromatin', 'normal_nucleoli', 'mitoses', 'tumor_class']\n",
    "\n",
    "#use the simple imputer function to replace missing value\n",
    "imputer = SimpleImputer (strategy = 'mean') # replace most_frequent with median, mean and observe\n",
    "imputer.fit(wins_data)\n",
    "new_data = imputer.transform(wins_data)\n",
    "wins_data = pd.DataFrame(new_data, columns=new_winsconsin_headers)\n",
    "\n",
    "#seperate the data into X(train) and y(test) groups - training and target sets\n",
    "#simply pop the target class (tumor_class) as y and the remaining variables will be X\n",
    "y = wins_data.pop('tumor_class')\n",
    "X = wins_data\n",
    "\n",
    "#check the dimension to be sure all is right\n",
    "print(y.shape)\n",
    "print(X.shape)\n",
    "\n",
    "y"
   ],
   "metadata": {
    "collapsed": false
   }
  },
  {
   "cell_type": "markdown",
   "source": [
    "      splitting dataset into train and test data"
   ],
   "metadata": {
    "collapsed": false
   }
  },
  {
   "cell_type": "code",
   "execution_count": null,
   "outputs": [],
   "source": [
    "#Training datasets\n",
    "import numpy as np\n",
    "import pandas as pd\n",
    "from pandas import read_csv\n",
    "from sklearn.impute import SimpleImputer\n",
    "from matplotlib import pyplot\n",
    "from sklearn.model_selection import  train_test_split\n",
    "\n",
    "#declaring header names\n",
    "winsconsin_headers = ['sample_code','c_thickness', 'uni_cell_size', 'uni_cell_shape', 'marg_adhesion', 'epi_cell_size', 'nuclei','bland_chromatin', 'normal_nucleoli', 'mitoses', 'tumor_class']\n",
    "\n",
    "#read the data using read_csv class of pandas\n",
    "wins_data = read_csv(\"venv/winsconsin_b_cancer.csv\" ,names= winsconsin_headers)\n",
    "\n",
    "print(wins_data.shape)\n",
    "\n",
    "#converting the nuclei variable to numeric and force the non-numeric values to NAN(a recognised null value)\n",
    "wins_data['nuclei']=pd.to_numeric(wins_data['nuclei'], errors='coerce')\n",
    "#print(wins_data.apply(pd.to_numeric, errors='coerce').info()) #this will give the datatype info after the conversion\n",
    "\n",
    "#now let check missing values\n",
    "# - check our data for missing values\n",
    "win_empty_data = wins_data[wins_data.isna().any(axis=1)]\n",
    "#print(\"\\n These are the missing data \\n\", win_empty_data)\n",
    "\n",
    "#since ? cannot be converted to int we can convert all data to float\n",
    "wins_data[winsconsin_headers] = wins_data[winsconsin_headers].applymap(float)\n",
    "\n",
    "# -- you will note that sample code number (sample_code column ) is simply an index column\n",
    "# --  and not useful for our learning process so drop it\n",
    "wins_data.drop('sample_code', axis=1, inplace=True)\n",
    "\n",
    "#declaring a new header\n",
    "new_winsconsin_headers = ['c_thickness', 'uni_cell_size', 'uni_cell_shape', 'marg_adhesion', 'epi_cell_size', 'nuclei','bland_chromatin', 'normal_nucleoli', 'mitoses', 'tumor_class']\n",
    "\n",
    "#use the simple imputer function to replace missing value\n",
    "imputer = SimpleImputer (strategy = 'mean') # replace most_frequent with median, mean and observe\n",
    "imputer.fit(wins_data)\n",
    "new_data = imputer.transform(wins_data)\n",
    "wins_data = pd.DataFrame(new_data, columns=new_winsconsin_headers)\n",
    "\n",
    "#seperate the data into X(train) and y(test) groups - training and target sets\n",
    "#simply pop the target class (tumor_class) as y and the remaining variables will be X\n",
    "y = wins_data.pop('tumor_class')\n",
    "X = wins_data\n",
    "\n",
    "#split the data into train and test -- split  using 60:40\n",
    "# you will need to import the train_test_split from the sklearn.model_selection\n",
    "\n",
    "X_train, X_test, y_train, y_test = train_test_split(X, y, test_size=0.4, random_state=1)\n",
    "\n",
    "#check the number of train and test data\n",
    "print('\\n The total of training dataset', X_train.shape)\n",
    "print('\\n The total of test dataset', X_test.shape)\n"
   ],
   "metadata": {
    "collapsed": false
   }
  },
  {
   "cell_type": "markdown",
   "source": [
    "    INSTANTIATE AND FITTING MODEL USING DECISION TREE CLASSIFIER"
   ],
   "metadata": {
    "collapsed": false
   }
  },
  {
   "cell_type": "code",
   "execution_count": 54,
   "outputs": [
    {
     "name": "stdout",
     "output_type": "stream",
     "text": [
      "(699, 11)\n",
      "[4. 2. 4. 2. 2. 2. 2. 2. 4. 2. 2. 2. 2. 2. 2. 4. 4. 4. 2. 2. 4. 2. 2. 2.\n",
      " 2. 2. 2. 4. 2. 4. 2. 4. 4. 2. 2. 2. 4. 2. 2. 2. 4. 2. 2. 2. 2. 2. 2. 2.\n",
      " 4. 2. 2. 2. 2. 2. 2. 2. 4. 4. 2. 2. 2. 2. 2. 2. 2. 2. 2. 4. 2. 2. 4. 2.\n",
      " 2. 4. 2. 2. 2. 2. 2. 2. 2. 2. 2. 4. 2. 2. 2. 2. 2. 4. 2. 4. 2. 4. 2. 2.\n",
      " 2. 2. 4. 2. 4. 2. 4. 4. 4. 4. 2. 2. 2. 4. 4. 2. 2. 4. 4. 2. 2. 2. 2. 4.\n",
      " 2. 4. 2. 4. 2. 2. 2. 2. 2. 4. 2. 4. 2. 4. 2. 4. 4. 2. 4. 2. 2. 2. 4. 4.\n",
      " 4. 2. 2. 4. 2. 2. 2. 2. 2. 2. 4. 2. 4. 4. 2. 4. 2. 2. 2. 2. 2. 4. 2. 4.\n",
      " 2. 4. 2. 2. 2. 2. 4. 2. 2. 2. 4. 2. 2. 2. 2. 2. 2. 4. 4. 2. 4. 2. 2. 2.\n",
      " 2. 2. 2. 2. 4. 2. 2. 2. 2. 2. 2. 2. 4. 2. 2. 2. 2. 2. 4. 2. 4. 2. 2. 4.\n",
      " 4. 4. 2. 2. 2. 2. 2. 4. 2. 4. 2. 2. 2. 2. 4. 2. 2. 4. 2. 2. 2. 2. 4. 2.\n",
      " 2. 4. 4. 2. 4. 2. 4. 4. 2. 4. 2. 4. 4. 2. 4. 2. 2. 2. 4. 2. 2. 4. 2. 2.\n",
      " 2. 4. 2. 2. 4. 2. 2. 2. 2. 4. 4. 2. 4. 4. 2. 4.]\n",
      "[4.]\n"
     ]
    },
    {
     "name": "stderr",
     "output_type": "stream",
     "text": [
      "C:\\Users\\dagbo\\anaconda3\\lib\\site-packages\\sklearn\\base.py:450: UserWarning: X does not have valid feature names, but DecisionTreeClassifier was fitted with feature names\n",
      "  warnings.warn(\n"
     ]
    },
    {
     "data": {
      "text/plain": "     c_thickness  uni_cell_size  uni_cell_shape  marg_adhesion  epi_cell_size  \\\n522         10.0            4.0             5.0            4.0            3.0   \n356          5.0            3.0             3.0            1.0            3.0   \n252          6.0            3.0             3.0            5.0            3.0   \n553          4.0            4.0             2.0            1.0            2.0   \n147          1.0            1.0             1.0            1.0            3.0   \n..           ...            ...             ...            ...            ...   \n501          4.0            1.0             1.0            1.0            2.0   \n233         10.0            4.0             5.0            5.0            5.0   \n223          7.0            5.0             6.0            3.0            3.0   \n136          4.0            1.0             1.0            1.0            2.0   \n427          8.0            7.0             8.0            2.0            4.0   \n\n     nuclei  bland_chromatin  normal_nucleoli  mitoses  tumor_class  \n522     5.0              7.0              3.0      1.0          4.0  \n356     3.0              3.0              3.0      3.0          4.0  \n252    10.0              3.0              5.0      3.0          2.0  \n553     5.0              2.0              1.0      2.0          2.0  \n147     2.0              2.0              1.0      1.0          2.0  \n..      ...              ...              ...      ...          ...  \n501     1.0              2.0              1.0      1.0          2.0  \n233    10.0              4.0              1.0      1.0          4.0  \n223     8.0              7.0              4.0      1.0          4.0  \n136     1.0              2.0              1.0      1.0          2.0  \n427     2.0              5.0             10.0      1.0          4.0  \n\n[280 rows x 10 columns]",
      "text/html": "<div>\n<style scoped>\n    .dataframe tbody tr th:only-of-type {\n        vertical-align: middle;\n    }\n\n    .dataframe tbody tr th {\n        vertical-align: top;\n    }\n\n    .dataframe thead th {\n        text-align: right;\n    }\n</style>\n<table border=\"1\" class=\"dataframe\">\n  <thead>\n    <tr style=\"text-align: right;\">\n      <th></th>\n      <th>c_thickness</th>\n      <th>uni_cell_size</th>\n      <th>uni_cell_shape</th>\n      <th>marg_adhesion</th>\n      <th>epi_cell_size</th>\n      <th>nuclei</th>\n      <th>bland_chromatin</th>\n      <th>normal_nucleoli</th>\n      <th>mitoses</th>\n      <th>tumor_class</th>\n    </tr>\n  </thead>\n  <tbody>\n    <tr>\n      <th>522</th>\n      <td>10.0</td>\n      <td>4.0</td>\n      <td>5.0</td>\n      <td>4.0</td>\n      <td>3.0</td>\n      <td>5.0</td>\n      <td>7.0</td>\n      <td>3.0</td>\n      <td>1.0</td>\n      <td>4.0</td>\n    </tr>\n    <tr>\n      <th>356</th>\n      <td>5.0</td>\n      <td>3.0</td>\n      <td>3.0</td>\n      <td>1.0</td>\n      <td>3.0</td>\n      <td>3.0</td>\n      <td>3.0</td>\n      <td>3.0</td>\n      <td>3.0</td>\n      <td>4.0</td>\n    </tr>\n    <tr>\n      <th>252</th>\n      <td>6.0</td>\n      <td>3.0</td>\n      <td>3.0</td>\n      <td>5.0</td>\n      <td>3.0</td>\n      <td>10.0</td>\n      <td>3.0</td>\n      <td>5.0</td>\n      <td>3.0</td>\n      <td>2.0</td>\n    </tr>\n    <tr>\n      <th>553</th>\n      <td>4.0</td>\n      <td>4.0</td>\n      <td>2.0</td>\n      <td>1.0</td>\n      <td>2.0</td>\n      <td>5.0</td>\n      <td>2.0</td>\n      <td>1.0</td>\n      <td>2.0</td>\n      <td>2.0</td>\n    </tr>\n    <tr>\n      <th>147</th>\n      <td>1.0</td>\n      <td>1.0</td>\n      <td>1.0</td>\n      <td>1.0</td>\n      <td>3.0</td>\n      <td>2.0</td>\n      <td>2.0</td>\n      <td>1.0</td>\n      <td>1.0</td>\n      <td>2.0</td>\n    </tr>\n    <tr>\n      <th>...</th>\n      <td>...</td>\n      <td>...</td>\n      <td>...</td>\n      <td>...</td>\n      <td>...</td>\n      <td>...</td>\n      <td>...</td>\n      <td>...</td>\n      <td>...</td>\n      <td>...</td>\n    </tr>\n    <tr>\n      <th>501</th>\n      <td>4.0</td>\n      <td>1.0</td>\n      <td>1.0</td>\n      <td>1.0</td>\n      <td>2.0</td>\n      <td>1.0</td>\n      <td>2.0</td>\n      <td>1.0</td>\n      <td>1.0</td>\n      <td>2.0</td>\n    </tr>\n    <tr>\n      <th>233</th>\n      <td>10.0</td>\n      <td>4.0</td>\n      <td>5.0</td>\n      <td>5.0</td>\n      <td>5.0</td>\n      <td>10.0</td>\n      <td>4.0</td>\n      <td>1.0</td>\n      <td>1.0</td>\n      <td>4.0</td>\n    </tr>\n    <tr>\n      <th>223</th>\n      <td>7.0</td>\n      <td>5.0</td>\n      <td>6.0</td>\n      <td>3.0</td>\n      <td>3.0</td>\n      <td>8.0</td>\n      <td>7.0</td>\n      <td>4.0</td>\n      <td>1.0</td>\n      <td>4.0</td>\n    </tr>\n    <tr>\n      <th>136</th>\n      <td>4.0</td>\n      <td>1.0</td>\n      <td>1.0</td>\n      <td>1.0</td>\n      <td>2.0</td>\n      <td>1.0</td>\n      <td>2.0</td>\n      <td>1.0</td>\n      <td>1.0</td>\n      <td>2.0</td>\n    </tr>\n    <tr>\n      <th>427</th>\n      <td>8.0</td>\n      <td>7.0</td>\n      <td>8.0</td>\n      <td>2.0</td>\n      <td>4.0</td>\n      <td>2.0</td>\n      <td>5.0</td>\n      <td>10.0</td>\n      <td>1.0</td>\n      <td>4.0</td>\n    </tr>\n  </tbody>\n</table>\n<p>280 rows × 10 columns</p>\n</div>"
     },
     "execution_count": 54,
     "metadata": {},
     "output_type": "execute_result"
    }
   ],
   "source": [
    "#Training datasets\n",
    "import numpy as np\n",
    "import pandas as pd\n",
    "from pandas import read_csv\n",
    "from sklearn.impute import SimpleImputer\n",
    "from matplotlib import pyplot\n",
    "from sklearn.model_selection import  train_test_split\n",
    "from sklearn.tree import DecisionTreeClassifier\n",
    "\n",
    "#declaring header names\n",
    "winsconsin_headers = ['sample_code','c_thickness', 'uni_cell_size', 'uni_cell_shape', 'marg_adhesion', 'epi_cell_size', 'nuclei','bland_chromatin', 'normal_nucleoli', 'mitoses', 'tumor_class']\n",
    "\n",
    "#read the data using read_csv class of pandas\n",
    "wins_data = read_csv(\"venv/winsconsin_b_cancer.csv\" ,names= winsconsin_headers)\n",
    "\n",
    "print(wins_data.shape)\n",
    "\n",
    "#converting the nuclei variable to numeric and force the non-numeric values to NAN(a recognised null value)\n",
    "wins_data['nuclei']=pd.to_numeric(wins_data['nuclei'], errors='coerce')\n",
    "#print(wins_data.apply(pd.to_numeric, errors='coerce').info()) #this will give the datatype info after the conversion\n",
    "\n",
    "#now let check missing values\n",
    "# - check our data for missing values\n",
    "win_empty_data = wins_data[wins_data.isna().any(axis=1)]\n",
    "#print(\"\\n These are the missing data \\n\", win_empty_data)\n",
    "\n",
    "#since ? cannot be converted to int we can convert all data to float\n",
    "wins_data[winsconsin_headers] = wins_data[winsconsin_headers].applymap(float)\n",
    "\n",
    "# -- you will note that sample code number (sample_code column ) is simply an index column\n",
    "# --  and not useful for our learning process so drop it\n",
    "wins_data.drop('sample_code', axis=1, inplace=True)\n",
    "\n",
    "#declaring a new header\n",
    "new_winsconsin_headers = ['c_thickness', 'uni_cell_size', 'uni_cell_shape', 'marg_adhesion', 'epi_cell_size', 'nuclei','bland_chromatin', 'normal_nucleoli', 'mitoses', 'tumor_class']\n",
    "\n",
    "#use the simple imputer function to replace missing value\n",
    "imputer = SimpleImputer (strategy = 'mean') # replace most_frequent with median, mean and observe\n",
    "imputer.fit(wins_data)\n",
    "new_data = imputer.transform(wins_data)\n",
    "wins_data = pd.DataFrame(new_data, columns=new_winsconsin_headers)\n",
    "\n",
    "#seperate the data into X(train) and y(test) groups - training and target sets\n",
    "#simply pop the target class (tumor_class) as y and the remaining variables will be X\n",
    "y = wins_data.pop('tumor_class')\n",
    "X = wins_data\n",
    "\n",
    "#split the data into train and test -- split  using 60:40\n",
    "# you will need to import the train_test_split from the sklearn.model_selection\n",
    "X_train, X_test, y_train, y_test = train_test_split(X, y, test_size=0.4, random_state=1, stratify=y)\n",
    "\n",
    "#instantiate the model\n",
    "my_model = DecisionTreeClassifier(max_depth=4, min_samples_split=2, criterion=\"gini\",random_state=1)\n",
    "\n",
    "#train the model to fit\n",
    "my_model.fit(X_train, y_train)\n",
    "\n",
    "#now let's predict the model\n",
    "y_pred = my_model.predict(X_test)\n",
    "print(y_pred)\n",
    "\n",
    "pred_one = my_model.predict(X=[[5.0, 5.0, 5.0, 5.0, 5.0, 10.0, 3.0, 2.0, 1.0 ]])\n",
    "print(pred_one)\n",
    "\n",
    "#view the test data\n",
    "X_test.join(y_test) #using numpy"
   ],
   "metadata": {
    "collapsed": false
   }
  },
  {
   "cell_type": "markdown",
   "source": [
    "    EVALUATING THE MODEL"
   ],
   "metadata": {
    "collapsed": false
   }
  },
  {
   "cell_type": "code",
   "execution_count": 55,
   "outputs": [
    {
     "name": "stdout",
     "output_type": "stream",
     "text": [
      "(699, 11)\n",
      "Model accuracy on Test data: 0.94 \n",
      "\n",
      "The Confusion Matrix: \n",
      " [[85  7]\n",
      " [ 2 46]] \n",
      "\n",
      "Report of classification: \n",
      "               precision    recall  f1-score   support\n",
      "\n",
      "         2.0       0.98      0.92      0.95        92\n",
      "         4.0       0.87      0.96      0.91        48\n",
      "\n",
      "    accuracy                           0.94       140\n",
      "   macro avg       0.92      0.94      0.93       140\n",
      "weighted avg       0.94      0.94      0.94       140\n",
      "\n"
     ]
    }
   ],
   "source": [
    "#Training datasets\n",
    "import numpy as np\n",
    "import pandas as pd\n",
    "from pandas import read_csv\n",
    "from sklearn.impute import SimpleImputer\n",
    "from matplotlib import pyplot\n",
    "from sklearn.model_selection import  train_test_split\n",
    "from sklearn.tree import DecisionTreeClassifier\n",
    "from sklearn.metrics import accuracy_score, classification_report, confusion_matrix\n",
    "\n",
    "#declaring header names\n",
    "winsconsin_headers = ['sample_code','c_thickness', 'uni_cell_size', 'uni_cell_shape', 'marg_adhesion', 'epi_cell_size', 'nuclei','bland_chromatin', 'normal_nucleoli', 'mitoses', 'tumor_class']\n",
    "\n",
    "#read the data using read_csv class of pandas\n",
    "wins_data = read_csv(\"venv/winsconsin_b_cancer.csv\" ,names= winsconsin_headers)\n",
    "\n",
    "print(wins_data.shape)\n",
    "\n",
    "#converting the nuclei variable to numeric and force the non-numeric values to NAN(a recognised null value)\n",
    "wins_data['nuclei']=pd.to_numeric(wins_data['nuclei'], errors='coerce')\n",
    "#print(wins_data.apply(pd.to_numeric, errors='coerce').info()) #this will give the datatype info after the conversion\n",
    "\n",
    "#now let check missing values\n",
    "# - check our data for missing values\n",
    "win_empty_data = wins_data[wins_data.isna().any(axis=1)]\n",
    "#print(\"\\n These are the missing data \\n\", win_empty_data)\n",
    "\n",
    "#since ? cannot be converted to int we can convert all data to float\n",
    "wins_data[winsconsin_headers] = wins_data[winsconsin_headers].applymap(float)\n",
    "\n",
    "# -- you will note that sample code number (sample_code column ) is simply an index column\n",
    "# --  and not useful for our learning process so drop it\n",
    "wins_data.drop('sample_code', axis=1, inplace=True)\n",
    "\n",
    "#declaring a new header\n",
    "new_winsconsin_headers = ['c_thickness', 'uni_cell_size', 'uni_cell_shape', 'marg_adhesion', 'epi_cell_size', 'nuclei','bland_chromatin', 'normal_nucleoli', 'mitoses', 'tumor_class']\n",
    "\n",
    "#use the simple imputer function to replace missing value\n",
    "imputer = SimpleImputer (strategy = 'mean') # replace most_frequent with median, mean and observe\n",
    "imputer.fit(wins_data)\n",
    "new_data = imputer.transform(wins_data)\n",
    "wins_data = pd.DataFrame(new_data, columns=new_winsconsin_headers)\n",
    "\n",
    "#seperate the data into X(train) and y(test) groups - training and target sets\n",
    "#simply pop the target class (tumor_class) as y and the remaining variables will be X\n",
    "y = wins_data.pop('tumor_class')\n",
    "X = wins_data\n",
    "\n",
    "#split the data into train and test -- split  using 60:40\n",
    "# you will need to import the train_test_split from the sklearn.model_selection\n",
    "#X_train, X_test, y_train, y_test = train_test_split(X, y, test_size=0.4, random_state=1)\n",
    "#split the data into train and test -- split  using 70:30\n",
    "#X_train, X_test, y_train, y_test = train_test_split(X, y, test_size=0.3, random_state=1)\n",
    "#split the data into train and test -- split  using 80:20\n",
    "X_train, X_test, y_train, y_test = train_test_split(X, y, test_size=0.2, random_state=1,stratify=y)\n",
    "\n",
    "\n",
    "#instantiate the model\n",
    "my_model = DecisionTreeClassifier(max_depth=4, min_samples_split=2, criterion=\"gini\",random_state=1)\n",
    "\n",
    "#train the model to fit\n",
    "my_model.fit(X_train, y_train)\n",
    "\n",
    "#now let's predict the model\n",
    "y_pred = my_model.predict(X_test)\n",
    "\n",
    "#compute test set accuracy\n",
    "model_accuracy = accuracy_score(y_test, y_pred)\n",
    "print(\"Model accuracy on Test data: {:.2f}\".format(model_accuracy), '\\n')\n",
    "\n",
    "#constructing a confusion matrix  of the test data\n",
    "matrix_info = confusion_matrix(y_test, y_pred)\n",
    "print(\"The Confusion Matrix: \\n\", matrix_info, '\\n')\n",
    "\n",
    "#construct the classification report\n",
    "class_report = classification_report(y_test, y_pred)\n",
    "print(\"Report of classification: \\n\", class_report)"
   ],
   "metadata": {
    "collapsed": false
   }
  },
  {
   "cell_type": "code",
   "execution_count": null,
   "outputs": [],
   "source": [],
   "metadata": {
    "collapsed": false
   }
  }
 ],
 "metadata": {
  "kernelspec": {
   "display_name": "Python 3",
   "language": "python",
   "name": "python3"
  },
  "language_info": {
   "codemirror_mode": {
    "name": "ipython",
    "version": 2
   },
   "file_extension": ".py",
   "mimetype": "text/x-python",
   "name": "python",
   "nbconvert_exporter": "python",
   "pygments_lexer": "ipython2",
   "version": "2.7.6"
  }
 },
 "nbformat": 4,
 "nbformat_minor": 0
}
